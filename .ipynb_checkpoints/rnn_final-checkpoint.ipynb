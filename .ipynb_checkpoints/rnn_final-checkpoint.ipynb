{
 "cells": [
  {
   "cell_type": "code",
   "execution_count": 1,
   "metadata": {},
   "outputs": [],
   "source": [
    "import numpy as np\n",
    "import pandas as pd\n",
    "from matplotlib import pyplot as plt\n",
    "import seaborn as sns\n",
    "import datetime as dt\n",
    "from datetime import datetime\n",
    "import tensorflow as tf\n",
    "from tensorflow import keras\n",
    "from statsmodels.graphics.tsaplots import plot_acf,plot_pacf"
   ]
  },
  {
   "cell_type": "code",
   "execution_count": 2,
   "metadata": {},
   "outputs": [],
   "source": [
    "from sklearn.preprocessing import MinMaxScaler,quantile_transform,StandardScaler"
   ]
  },
  {
   "cell_type": "code",
   "execution_count": 3,
   "metadata": {},
   "outputs": [
    {
     "data": {
      "text/html": [
       "<div>\n",
       "<style scoped>\n",
       "    .dataframe tbody tr th:only-of-type {\n",
       "        vertical-align: middle;\n",
       "    }\n",
       "\n",
       "    .dataframe tbody tr th {\n",
       "        vertical-align: top;\n",
       "    }\n",
       "\n",
       "    .dataframe thead th {\n",
       "        text-align: right;\n",
       "    }\n",
       "</style>\n",
       "<table border=\"1\" class=\"dataframe\">\n",
       "  <thead>\n",
       "    <tr style=\"text-align: right;\">\n",
       "      <th></th>\n",
       "      <th>1/22/20</th>\n",
       "      <th>1/23/20</th>\n",
       "      <th>1/24/20</th>\n",
       "      <th>1/25/20</th>\n",
       "      <th>1/26/20</th>\n",
       "      <th>1/27/20</th>\n",
       "      <th>1/28/20</th>\n",
       "      <th>1/29/20</th>\n",
       "      <th>1/30/20</th>\n",
       "      <th>1/31/20</th>\n",
       "      <th>...</th>\n",
       "      <th>1/21/21</th>\n",
       "      <th>1/22/21</th>\n",
       "      <th>1/23/21</th>\n",
       "      <th>1/24/21</th>\n",
       "      <th>1/25/21</th>\n",
       "      <th>1/26/21</th>\n",
       "      <th>1/27/21</th>\n",
       "      <th>1/28/21</th>\n",
       "      <th>1/29/21</th>\n",
       "      <th>1/30/21</th>\n",
       "    </tr>\n",
       "    <tr>\n",
       "      <th>Country/Region</th>\n",
       "      <th></th>\n",
       "      <th></th>\n",
       "      <th></th>\n",
       "      <th></th>\n",
       "      <th></th>\n",
       "      <th></th>\n",
       "      <th></th>\n",
       "      <th></th>\n",
       "      <th></th>\n",
       "      <th></th>\n",
       "      <th></th>\n",
       "      <th></th>\n",
       "      <th></th>\n",
       "      <th></th>\n",
       "      <th></th>\n",
       "      <th></th>\n",
       "      <th></th>\n",
       "      <th></th>\n",
       "      <th></th>\n",
       "      <th></th>\n",
       "      <th></th>\n",
       "    </tr>\n",
       "  </thead>\n",
       "  <tbody>\n",
       "    <tr>\n",
       "      <td>Afghanistan</td>\n",
       "      <td>0</td>\n",
       "      <td>0</td>\n",
       "      <td>0</td>\n",
       "      <td>0</td>\n",
       "      <td>0</td>\n",
       "      <td>0</td>\n",
       "      <td>0</td>\n",
       "      <td>0</td>\n",
       "      <td>0</td>\n",
       "      <td>0</td>\n",
       "      <td>...</td>\n",
       "      <td>54403</td>\n",
       "      <td>54483</td>\n",
       "      <td>54559</td>\n",
       "      <td>54595</td>\n",
       "      <td>54672</td>\n",
       "      <td>54750</td>\n",
       "      <td>54854</td>\n",
       "      <td>54891</td>\n",
       "      <td>54939</td>\n",
       "      <td>55008</td>\n",
       "    </tr>\n",
       "    <tr>\n",
       "      <td>Albania</td>\n",
       "      <td>0</td>\n",
       "      <td>0</td>\n",
       "      <td>0</td>\n",
       "      <td>0</td>\n",
       "      <td>0</td>\n",
       "      <td>0</td>\n",
       "      <td>0</td>\n",
       "      <td>0</td>\n",
       "      <td>0</td>\n",
       "      <td>0</td>\n",
       "      <td>...</td>\n",
       "      <td>69916</td>\n",
       "      <td>70655</td>\n",
       "      <td>71441</td>\n",
       "      <td>72274</td>\n",
       "      <td>72812</td>\n",
       "      <td>73691</td>\n",
       "      <td>74567</td>\n",
       "      <td>75454</td>\n",
       "      <td>76350</td>\n",
       "      <td>77251</td>\n",
       "    </tr>\n",
       "    <tr>\n",
       "      <td>Algeria</td>\n",
       "      <td>0</td>\n",
       "      <td>0</td>\n",
       "      <td>0</td>\n",
       "      <td>0</td>\n",
       "      <td>0</td>\n",
       "      <td>0</td>\n",
       "      <td>0</td>\n",
       "      <td>0</td>\n",
       "      <td>0</td>\n",
       "      <td>0</td>\n",
       "      <td>...</td>\n",
       "      <td>104852</td>\n",
       "      <td>105124</td>\n",
       "      <td>105369</td>\n",
       "      <td>105596</td>\n",
       "      <td>105854</td>\n",
       "      <td>106097</td>\n",
       "      <td>106359</td>\n",
       "      <td>106610</td>\n",
       "      <td>106887</td>\n",
       "      <td>107122</td>\n",
       "    </tr>\n",
       "    <tr>\n",
       "      <td>Andorra</td>\n",
       "      <td>0</td>\n",
       "      <td>0</td>\n",
       "      <td>0</td>\n",
       "      <td>0</td>\n",
       "      <td>0</td>\n",
       "      <td>0</td>\n",
       "      <td>0</td>\n",
       "      <td>0</td>\n",
       "      <td>0</td>\n",
       "      <td>0</td>\n",
       "      <td>...</td>\n",
       "      <td>9379</td>\n",
       "      <td>9416</td>\n",
       "      <td>9499</td>\n",
       "      <td>9549</td>\n",
       "      <td>9596</td>\n",
       "      <td>9638</td>\n",
       "      <td>9716</td>\n",
       "      <td>9779</td>\n",
       "      <td>9837</td>\n",
       "      <td>9885</td>\n",
       "    </tr>\n",
       "    <tr>\n",
       "      <td>Angola</td>\n",
       "      <td>0</td>\n",
       "      <td>0</td>\n",
       "      <td>0</td>\n",
       "      <td>0</td>\n",
       "      <td>0</td>\n",
       "      <td>0</td>\n",
       "      <td>0</td>\n",
       "      <td>0</td>\n",
       "      <td>0</td>\n",
       "      <td>0</td>\n",
       "      <td>...</td>\n",
       "      <td>19177</td>\n",
       "      <td>19269</td>\n",
       "      <td>19367</td>\n",
       "      <td>19399</td>\n",
       "      <td>19476</td>\n",
       "      <td>19553</td>\n",
       "      <td>19580</td>\n",
       "      <td>19672</td>\n",
       "      <td>19723</td>\n",
       "      <td>19782</td>\n",
       "    </tr>\n",
       "  </tbody>\n",
       "</table>\n",
       "<p>5 rows × 375 columns</p>\n",
       "</div>"
      ],
      "text/plain": [
       "                1/22/20  1/23/20  1/24/20  1/25/20  1/26/20  1/27/20  1/28/20  \\\n",
       "Country/Region                                                                  \n",
       "Afghanistan           0        0        0        0        0        0        0   \n",
       "Albania               0        0        0        0        0        0        0   \n",
       "Algeria               0        0        0        0        0        0        0   \n",
       "Andorra               0        0        0        0        0        0        0   \n",
       "Angola                0        0        0        0        0        0        0   \n",
       "\n",
       "                1/29/20  1/30/20  1/31/20  ...  1/21/21  1/22/21  1/23/21  \\\n",
       "Country/Region                             ...                              \n",
       "Afghanistan           0        0        0  ...    54403    54483    54559   \n",
       "Albania               0        0        0  ...    69916    70655    71441   \n",
       "Algeria               0        0        0  ...   104852   105124   105369   \n",
       "Andorra               0        0        0  ...     9379     9416     9499   \n",
       "Angola                0        0        0  ...    19177    19269    19367   \n",
       "\n",
       "                1/24/21  1/25/21  1/26/21  1/27/21  1/28/21  1/29/21  1/30/21  \n",
       "Country/Region                                                                 \n",
       "Afghanistan       54595    54672    54750    54854    54891    54939    55008  \n",
       "Albania           72274    72812    73691    74567    75454    76350    77251  \n",
       "Algeria          105596   105854   106097   106359   106610   106887   107122  \n",
       "Andorra            9549     9596     9638     9716     9779     9837     9885  \n",
       "Angola            19399    19476    19553    19580    19672    19723    19782  \n",
       "\n",
       "[5 rows x 375 columns]"
      ]
     },
     "execution_count": 3,
     "metadata": {},
     "output_type": "execute_result"
    }
   ],
   "source": [
    "df_confirm = pd.read_csv(\"https://raw.githubusercontent.com/CSSEGISandData/COVID-19/master/csse_covid_19_data/csse_covid_19_time_series/time_series_covid19_confirmed_global.csv\")\n",
    "df_confirm = df_confirm.groupby('Country/Region').sum().drop(['Lat','Long'],axis=1)\n",
    "df_confirm.head()"
   ]
  },
  {
   "cell_type": "code",
   "execution_count": 4,
   "metadata": {},
   "outputs": [
    {
     "name": "stdout",
     "output_type": "stream",
     "text": [
      "<class 'pandas.core.frame.DataFrame'>\n",
      "DatetimeIndex: 375 entries, 2020-01-22 to 2021-01-30\n",
      "Columns: 193 entries, Afghanistan to World\n",
      "dtypes: int64(193)\n",
      "memory usage: 568.4 KB\n"
     ]
    }
   ],
   "source": [
    "# data clean and index seting\n",
    "df_trans = df_confirm.transpose()\n",
    "df_trans['World'] = df_trans.sum(axis =1)\n",
    "df_confirm = df_trans.set_index(pd.DatetimeIndex(pd.to_datetime(df_trans.index.values,format=\"%m/%d/%y\")))\n",
    "df_confirm.info()"
   ]
  },
  {
   "cell_type": "code",
   "execution_count": 5,
   "metadata": {},
   "outputs": [],
   "source": [
    "COUNTIRES = df_confirm.columns.to_list()\n",
    "\n",
    "num_features = len(df_confirm.columns)\n",
    "num_features\n",
    "\n",
    "country2id = {}\n",
    "for i,name in enumerate(COUNTIRES):\n",
    "    country2id[name]= i"
   ]
  },
  {
   "cell_type": "code",
   "execution_count": null,
   "metadata": {},
   "outputs": [],
   "source": []
  },
  {
   "cell_type": "markdown",
   "metadata": {},
   "source": [
    "## Data Transformation"
   ]
  },
  {
   "cell_type": "code",
   "execution_count": 6,
   "metadata": {},
   "outputs": [
    {
     "data": {
      "text/plain": [
       "<matplotlib.axes._subplots.AxesSubplot at 0x7f7f17dfd3d0>"
      ]
     },
     "execution_count": 6,
     "metadata": {},
     "output_type": "execute_result"
    },
    {
     "data": {
      "image/png": "[encoded data removed]",
      "text/plain": [
       "<Figure size 432x288 with 1 Axes>"
      ]
     },
     "metadata": {
      "needs_background": "light"
     },
     "output_type": "display_data"
    }
   ],
   "source": [
    "df = df_confirm.diff().dropna()\n",
    "df['World'].plot(kind = 'line')"
   ]
  },
  {
   "cell_type": "code",
   "execution_count": 7,
   "metadata": {},
   "outputs": [],
   "source": [
    "# using past # of INPUT points to predict future # of PRED points\n",
    "INPUT = 30\n",
    "PRED = 30\n",
    "SHIFT = 0\n",
    "BATCH =32\n",
    "WINDOW =INPUT+PRED+SHIFT\n",
    "\n",
    "# slice for training data, leave one ts set for validation\n",
    "df_train = df[:-PRED]\n",
    "df_test = df[-WINDOW:]\n",
    "#df_train =df"
   ]
  },
  {
   "cell_type": "code",
   "execution_count": 8,
   "metadata": {},
   "outputs": [],
   "source": [
    "cs = MinMaxScaler()\n",
    "train = cs.fit_transform(df_train)\n",
    "test= cs.transform(df_test)"
   ]
  },
  {
   "cell_type": "markdown",
   "metadata": {},
   "source": [
    "### Train set split"
   ]
  },
  {
   "cell_type": "code",
   "execution_count": 9,
   "metadata": {},
   "outputs": [],
   "source": [
    "# get random series of train+target\n",
    "ds = tf.keras.preprocessing.timeseries_dataset_from_array(\n",
    "      data=train,\n",
    "      targets=None,\n",
    "      sequence_length=WINDOW,\n",
    "      sequence_stride=1,\n",
    "      shuffle=True,\n",
    "      seed=42,\n",
    "      batch_size=BATCH)\n"
   ]
  },
  {
   "cell_type": "code",
   "execution_count": 10,
   "metadata": {},
   "outputs": [],
   "source": [
    "# ds will be varied when it was called\n",
    "trainingset = tf.concat([i for i in ds], axis=0)\n",
    "val_len = int(trainingset.shape[0]*0.2)\n",
    "X_train = trainingset[:-val_len,:INPUT,:]\n",
    "y_train = trainingset[:-val_len,INPUT:,:]\n",
    "X_val = trainingset[-val_len:,:INPUT,:]\n",
    "y_val = trainingset[-val_len:,INPUT:,:]"
   ]
  },
  {
   "cell_type": "code",
   "execution_count": 11,
   "metadata": {},
   "outputs": [
    {
     "data": {
      "text/plain": [
       "<tf.Tensor: shape=(60,), dtype=float64, numpy=\n",
       "array([0.00429457, 0.00136606, 0.00139278, 0.00129392, 0.00119171,\n",
       "       0.00026854, 0.00030862, 0.00035471, 0.00111088, 0.00018838,\n",
       "       0.00031129, 0.00050434, 0.00058717, 0.00084302, 0.00086105,\n",
       "       0.00119706, 0.00152504, 0.00125918, 0.00166733, 0.00147628,\n",
       "       0.00181228, 0.00254842, 0.00266999, 0.00257247, 0.00272143,\n",
       "       0.00315563, 0.00505208, 0.00380225, 0.00954438, 0.00733196,\n",
       "       0.00746289, 0.00982761, 0.01058512, 0.01299927, 0.01800326,\n",
       "       0.02049356, 0.02131253, 0.02323035, 0.02856099, 0.02743675,\n",
       "       0.03401855, 0.0419163 , 0.04340193, 0.0448702 , 0.03952286,\n",
       "       0.04354088, 0.0512683 , 0.05523955, 0.05542125, 0.05574323,\n",
       "       0.03895373, 0.04843064, 0.04879269, 0.04658295, 0.05561163,\n",
       "       0.0580672 , 0.05707589, 0.04957225, 0.07989074, 0.04717747])>"
      ]
     },
     "execution_count": 11,
     "metadata": {},
     "output_type": "execute_result"
    }
   ],
   "source": [
    "trainingset[0,:,-1]"
   ]
  },
  {
   "cell_type": "code",
   "execution_count": 12,
   "metadata": {},
   "outputs": [
    {
     "data": {
      "text/plain": [
       "<tf.Tensor: shape=(30,), dtype=float64, numpy=\n",
       "array([0.00429457, 0.00136606, 0.00139278, 0.00129392, 0.00119171,\n",
       "       0.00026854, 0.00030862, 0.00035471, 0.00111088, 0.00018838,\n",
       "       0.00031129, 0.00050434, 0.00058717, 0.00084302, 0.00086105,\n",
       "       0.00119706, 0.00152504, 0.00125918, 0.00166733, 0.00147628,\n",
       "       0.00181228, 0.00254842, 0.00266999, 0.00257247, 0.00272143,\n",
       "       0.00315563, 0.00505208, 0.00380225, 0.00954438, 0.00733196])>"
      ]
     },
     "execution_count": 12,
     "metadata": {},
     "output_type": "execute_result"
    }
   ],
   "source": [
    "X_train[0,:,-1]"
   ]
  },
  {
   "cell_type": "code",
   "execution_count": 13,
   "metadata": {},
   "outputs": [
    {
     "data": {
      "text/plain": [
       "<tf.Tensor: shape=(30,), dtype=float64, numpy=\n",
       "array([0.00746289, 0.00982761, 0.01058512, 0.01299927, 0.01800326,\n",
       "       0.02049356, 0.02131253, 0.02323035, 0.02856099, 0.02743675,\n",
       "       0.03401855, 0.0419163 , 0.04340193, 0.0448702 , 0.03952286,\n",
       "       0.04354088, 0.0512683 , 0.05523955, 0.05542125, 0.05574323,\n",
       "       0.03895373, 0.04843064, 0.04879269, 0.04658295, 0.05561163,\n",
       "       0.0580672 , 0.05707589, 0.04957225, 0.07989074, 0.04717747])>"
      ]
     },
     "execution_count": 13,
     "metadata": {},
     "output_type": "execute_result"
    }
   ],
   "source": [
    "y_train[0,:,-1]"
   ]
  },
  {
   "cell_type": "markdown",
   "metadata": {},
   "source": [
    "### Test set split"
   ]
  },
  {
   "cell_type": "code",
   "execution_count": 14,
   "metadata": {},
   "outputs": [],
   "source": [
    "X_test = test[-WINDOW:-PRED]\n",
    "y_test = test[-PRED:]\n",
    "# reshape from [step,feature] to [batch, step,feature]\n",
    "X_test = tf.expand_dims(X_test,axis=0)\n",
    "y_test = tf.expand_dims(y_test,axis=0)"
   ]
  },
  {
   "cell_type": "code",
   "execution_count": 15,
   "metadata": {},
   "outputs": [],
   "source": [
    "dataset={\n",
    "    'X_train':X_train,\n",
    "    'y_train':y_train,\n",
    "    'X_val':X_val,\n",
    "    'y_val':y_val,\n",
    "    'X_test':X_test,\n",
    "    'y_test':y_test\n",
    "}"
   ]
  },
  {
   "cell_type": "code",
   "execution_count": 16,
   "metadata": {},
   "outputs": [],
   "source": [
    "# dataset={\n",
    "#     'X_train':X_train[:,:,-1:],\n",
    "#     'y_train':y_train[:,:,-1:],\n",
    "#     'X_val':X_val[:,:,-1:],\n",
    "#     'y_val':y_val[:,:,-1:],\n",
    "#     'X_test':X_test[:,:,-1:],\n",
    "#     'y_test':y_test[:,:,-1:],\n",
    "# }\n",
    "# num_features=1"
   ]
  },
  {
   "cell_type": "markdown",
   "metadata": {},
   "source": [
    "### Models"
   ]
  },
  {
   "cell_type": "code",
   "execution_count": 17,
   "metadata": {},
   "outputs": [],
   "source": [
    "def compile_and_fit(model, dataset = dataset, patience=2, epochs = 20,batch_size=32,verbose=2):\n",
    "    \n",
    "    early_stopping = tf.keras.callbacks.EarlyStopping(monitor='val_loss',\n",
    "                                            verbose=verbose,  patience=patience,\n",
    "                                                    mode='min')\n",
    "\n",
    "    model.compile(loss=tf.losses.MeanSquaredError(),\n",
    "                optimizer=tf.optimizers.Adam(),\n",
    "                metrics=[tf.metrics.MeanAbsoluteError()])\n",
    "\n",
    "    history = model.fit(dataset['X_train'],dataset['y_train'], epochs=epochs,\n",
    "                      validation_data=(dataset['X_val'],dataset['y_val']),\n",
    "                      callbacks=[early_stopping],verbose=verbose,batch_size=batch_size)\n",
    "    return history"
   ]
  },
  {
   "cell_type": "code",
   "execution_count": 18,
   "metadata": {},
   "outputs": [],
   "source": [
    "tf.keras.backend.set_floatx('float64')"
   ]
  },
  {
   "cell_type": "code",
   "execution_count": 19,
   "metadata": {},
   "outputs": [],
   "source": [
    "# draw results\n",
    "def draw_pred(model,dataset,country2id,country_name,pred=PRED):\n",
    "    country_id = country2id[country_name]\n",
    "    ts_mse = model.evaluate(dataset['X_test'],dataset['y_test'])[0]\n",
    "    y_pred = model.predict(dataset['X_test'])\n",
    "    if pred ==1:\n",
    "        sns.barplot(x=['Pred','Real'],y=[y_test.numpy().squeeze()[country_id],y_pred.squeeze()[country_id]])\n",
    "        plt.title('Test_MSE: {:.2f}'.format(ts_mse))\n",
    "    else:\n",
    "        axes = sns.lineplot(x=range(pred),y=y_pred.squeeze()[:,country_id].cumsum(),label='Pred (test_MSE:{:.2f})'.format(ts_mse))\n",
    "        sns.lineplot(x=range(pred),y=y_test.numpy().squeeze()[:,country_id].cumsum(),ax=axes,label='Real')\n",
    "    "
   ]
  },
  {
   "cell_type": "markdown",
   "metadata": {},
   "source": [
    "### Naive"
   ]
  },
  {
   "cell_type": "code",
   "execution_count": 20,
   "metadata": {},
   "outputs": [
    {
     "name": "stdout",
     "output_type": "stream",
     "text": [
      "Epoch 1/20\n",
      "8/8 - 0s - loss: 0.0217 - mean_absolute_error: 0.0735 - val_loss: 0.0201 - val_mean_absolute_error: 0.0693\n",
      "Epoch 2/20\n",
      "8/8 - 0s - loss: 0.0217 - mean_absolute_error: 0.0735 - val_loss: 0.0201 - val_mean_absolute_error: 0.0693\n",
      "Epoch 3/20\n",
      "8/8 - 0s - loss: 0.0217 - mean_absolute_error: 0.0735 - val_loss: 0.0201 - val_mean_absolute_error: 0.0693\n",
      "Epoch 00003: early stopping\n"
     ]
    }
   ],
   "source": [
    "class MultiStepLastBaseline(tf.keras.Model):\n",
    "    def call(self, inputs):\n",
    "        return tf.tile(inputs[:, -1:, :], [1, PRED, 1])\n",
    "\n",
    "last_baseline = MultiStepLastBaseline()\n",
    "history = compile_and_fit(last_baseline,dataset,verbose=2)"
   ]
  },
  {
   "cell_type": "code",
   "execution_count": 21,
   "metadata": {},
   "outputs": [
    {
     "name": "stdout",
     "output_type": "stream",
     "text": [
      "Epoch 1/20\n",
      "8/8 - 0s - loss: 0.0319 - mean_absolute_error: 0.0949 - val_loss: 0.0294 - val_mean_absolute_error: 0.0893\n",
      "Epoch 2/20\n",
      "8/8 - 0s - loss: 0.0319 - mean_absolute_error: 0.0949 - val_loss: 0.0294 - val_mean_absolute_error: 0.0893\n",
      "Epoch 3/20\n",
      "8/8 - 0s - loss: 0.0319 - mean_absolute_error: 0.0949 - val_loss: 0.0294 - val_mean_absolute_error: 0.0893\n",
      "Epoch 00003: early stopping\n"
     ]
    }
   ],
   "source": [
    "class MultiStepRepeatBaseline(tf.keras.Model):\n",
    "    def call(self, inputs):\n",
    "        return inputs\n",
    "\n",
    "repeat_baseline = MultiStepRepeatBaseline()\n",
    "history = compile_and_fit(repeat_baseline,dataset,verbose=2)"
   ]
  },
  {
   "cell_type": "markdown",
   "metadata": {},
   "source": [
    "### Linear "
   ]
  },
  {
   "cell_type": "code",
   "execution_count": 22,
   "metadata": {},
   "outputs": [],
   "source": [
    "multi_linear_model = tf.keras.Sequential([\n",
    "    # Take the last time-step.\n",
    "    # Shape [batch, time, features] => [batch, 1, features]\n",
    "    tf.keras.layers.Lambda(lambda x: x[:, -1:, :]),\n",
    "    #tf.keras.layers.Flatten(input_shape=[INPUT,num_features]),\n",
    "    # Shape => [batch, 1, out_steps*features]\n",
    "    tf.keras.layers.Dense(PRED*num_features),\n",
    "    # Shape => [batch, out_steps, features]\n",
    "    tf.keras.layers.Reshape([PRED, num_features])\n",
    "    \n",
    "])\n",
    "history = compile_and_fit(multi_linear_model, dataset,epochs=500,verbose=0)"
   ]
  },
  {
   "cell_type": "markdown",
   "metadata": {},
   "source": [
    "### Dense"
   ]
  },
  {
   "cell_type": "code",
   "execution_count": 23,
   "metadata": {},
   "outputs": [
    {
     "name": "stdout",
     "output_type": "stream",
     "text": [
      "Epoch 1/500\n",
      "8/8 - 1s - loss: 0.0592 - mean_absolute_error: 0.1509 - val_loss: 0.0474 - val_mean_absolute_error: 0.1319\n",
      "Epoch 2/500\n",
      "8/8 - 0s - loss: 0.0503 - mean_absolute_error: 0.1374 - val_loss: 0.0411 - val_mean_absolute_error: 0.1219\n",
      "Epoch 3/500\n",
      "8/8 - 0s - loss: 0.0431 - mean_absolute_error: 0.1253 - val_loss: 0.0346 - val_mean_absolute_error: 0.1092\n",
      "Epoch 4/500\n",
      "8/8 - 0s - loss: 0.0359 - mean_absolute_error: 0.1119 - val_loss: 0.0294 - val_mean_absolute_error: 0.1005\n",
      "Epoch 5/500\n",
      "8/8 - 0s - loss: 0.0309 - mean_absolute_error: 0.1027 - val_loss: 0.0259 - val_mean_absolute_error: 0.0932\n",
      "Epoch 6/500\n",
      "8/8 - 0s - loss: 0.0271 - mean_absolute_error: 0.0946 - val_loss: 0.0233 - val_mean_absolute_error: 0.0866\n",
      "Epoch 7/500\n",
      "8/8 - 0s - loss: 0.0245 - mean_absolute_error: 0.0885 - val_loss: 0.0215 - val_mean_absolute_error: 0.0827\n",
      "Epoch 8/500\n",
      "8/8 - 0s - loss: 0.0226 - mean_absolute_error: 0.0838 - val_loss: 0.0201 - val_mean_absolute_error: 0.0779\n",
      "Epoch 9/500\n",
      "8/8 - 0s - loss: 0.0210 - mean_absolute_error: 0.0796 - val_loss: 0.0184 - val_mean_absolute_error: 0.0740\n",
      "Epoch 10/500\n",
      "8/8 - 0s - loss: 0.0198 - mean_absolute_error: 0.0761 - val_loss: 0.0174 - val_mean_absolute_error: 0.0715\n",
      "Epoch 11/500\n",
      "8/8 - 0s - loss: 0.0189 - mean_absolute_error: 0.0736 - val_loss: 0.0170 - val_mean_absolute_error: 0.0694\n",
      "Epoch 12/500\n",
      "8/8 - 1s - loss: 0.0183 - mean_absolute_error: 0.0716 - val_loss: 0.0164 - val_mean_absolute_error: 0.0676\n",
      "Epoch 13/500\n",
      "8/8 - 0s - loss: 0.0177 - mean_absolute_error: 0.0698 - val_loss: 0.0158 - val_mean_absolute_error: 0.0661\n",
      "Epoch 14/500\n",
      "8/8 - 0s - loss: 0.0172 - mean_absolute_error: 0.0684 - val_loss: 0.0154 - val_mean_absolute_error: 0.0649\n",
      "Epoch 15/500\n",
      "8/8 - 1s - loss: 0.0168 - mean_absolute_error: 0.0673 - val_loss: 0.0151 - val_mean_absolute_error: 0.0637\n",
      "Epoch 16/500\n",
      "8/8 - 1s - loss: 0.0164 - mean_absolute_error: 0.0661 - val_loss: 0.0149 - val_mean_absolute_error: 0.0630\n",
      "Epoch 17/500\n",
      "8/8 - 0s - loss: 0.0161 - mean_absolute_error: 0.0653 - val_loss: 0.0147 - val_mean_absolute_error: 0.0634\n",
      "Epoch 18/500\n",
      "8/8 - 0s - loss: 0.0158 - mean_absolute_error: 0.0647 - val_loss: 0.0145 - val_mean_absolute_error: 0.0621\n",
      "Epoch 19/500\n",
      "8/8 - 0s - loss: 0.0157 - mean_absolute_error: 0.0642 - val_loss: 0.0143 - val_mean_absolute_error: 0.0615\n",
      "Epoch 20/500\n",
      "8/8 - 0s - loss: 0.0154 - mean_absolute_error: 0.0635 - val_loss: 0.0140 - val_mean_absolute_error: 0.0608\n",
      "Epoch 21/500\n",
      "8/8 - 0s - loss: 0.0152 - mean_absolute_error: 0.0626 - val_loss: 0.0137 - val_mean_absolute_error: 0.0601\n",
      "Epoch 22/500\n",
      "8/8 - 0s - loss: 0.0150 - mean_absolute_error: 0.0619 - val_loss: 0.0136 - val_mean_absolute_error: 0.0593\n",
      "Epoch 23/500\n",
      "8/8 - 0s - loss: 0.0148 - mean_absolute_error: 0.0614 - val_loss: 0.0135 - val_mean_absolute_error: 0.0590\n",
      "Epoch 24/500\n",
      "8/8 - 0s - loss: 0.0146 - mean_absolute_error: 0.0608 - val_loss: 0.0132 - val_mean_absolute_error: 0.0584\n",
      "Epoch 25/500\n",
      "8/8 - 0s - loss: 0.0145 - mean_absolute_error: 0.0603 - val_loss: 0.0131 - val_mean_absolute_error: 0.0582\n",
      "Epoch 26/500\n",
      "8/8 - 0s - loss: 0.0144 - mean_absolute_error: 0.0600 - val_loss: 0.0130 - val_mean_absolute_error: 0.0577\n",
      "Epoch 27/500\n",
      "8/8 - 0s - loss: 0.0143 - mean_absolute_error: 0.0603 - val_loss: 0.0130 - val_mean_absolute_error: 0.0577\n",
      "Epoch 28/500\n",
      "8/8 - 0s - loss: 0.0143 - mean_absolute_error: 0.0602 - val_loss: 0.0131 - val_mean_absolute_error: 0.0581\n",
      "Epoch 29/500\n",
      "8/8 - 0s - loss: 0.0147 - mean_absolute_error: 0.0618 - val_loss: 0.0133 - val_mean_absolute_error: 0.0594\n",
      "Epoch 00029: early stopping\n"
     ]
    }
   ],
   "source": [
    "multi_dense_model = tf.keras.Sequential([\n",
    "    # Take the last time step.\n",
    "    # Shape [batch, time, features] => [batch, 1, features]\n",
    "    tf.keras.layers.Flatten(input_shape=[INPUT,num_features]),\n",
    "    #tf.keras.layers.Lambda(lambda x: x[:, -1:, :]),\n",
    "    # Shape => [batch, 1, dense_units]\n",
    "    tf.keras.layers.Dense(512,activation='relu',kernel_initializer=\"he_normal\"),\n",
    "    # Shape => [batch, out_steps*features]\n",
    "    tf.keras.layers.Dense(PRED*num_features,\n",
    "                          activation='relu',kernel_initializer=\"he_normal\"),\n",
    "    # Shape => [batch, out_steps, features]\n",
    "    tf.keras.layers.Reshape([PRED, num_features])\n",
    "])\n",
    "\n",
    "history = compile_and_fit(multi_dense_model, dataset,epochs=500,verbose=2)\n"
   ]
  },
  {
   "cell_type": "markdown",
   "metadata": {},
   "source": [
    "### CNN"
   ]
  },
  {
   "cell_type": "code",
   "execution_count": 24,
   "metadata": {},
   "outputs": [],
   "source": [
    "CONV_WIDTH = 3\n",
    "multi_conv_model = tf.keras.Sequential([\n",
    "    # Shape [batch, time, features] => [batch, CONV_WIDTH, features]\n",
    "    #tf.keras.layers.Lambda(lambda x: x[:, -CONV_WIDTH:, :]),\n",
    "    # Shape => [batch, 1, conv_units] \n",
    "    tf.keras.layers.Conv1D(256, activation='relu', kernel_size=(CONV_WIDTH),input_shape=(INPUT,num_features)),\n",
    "    #tf.keras.layers.Conv1D(256, activation='relu', kernel_size=(CONV_WIDTH)),\n",
    "    # Shape => [batch, 1,  out_steps*features]\n",
    "    tf.keras.layers.MaxPooling1D(pool_size=2),\n",
    "    tf.keras.layers.Flatten(),\n",
    "    tf.keras.layers.Dense(64, activation='relu'),\n",
    "    tf.keras.layers.Dense(PRED*num_features),\n",
    "    \n",
    "    # Shape => [batch, out_steps, features]\n",
    "    tf.keras.layers.Reshape([PRED, num_features])\n",
    "])\n",
    "\n",
    "history = compile_and_fit(multi_conv_model, dataset,epochs=500,verbose=0)\n"
   ]
  },
  {
   "cell_type": "code",
   "execution_count": 25,
   "metadata": {},
   "outputs": [],
   "source": [
    "multi_rnn_model = tf.keras.Sequential([\n",
    "    # Shape [batch, time, features] => [batch, lstm_units]\n",
    "    # Adding more `lstm_units` just overfits more quickly.\n",
    "    tf.keras.layers.SimpleRNN(128,return_sequences=False,input_shape = (INPUT, num_features)),\n",
    "    # Shape => [batch, out_steps*features]\n",
    "#      tf.keras.layers.TimeDistributed(tf.keras.layers.Dense(num_features,\n",
    "#                            kernel_initializer=tf.initializers.zeros)),\n",
    "    tf.keras.layers.Dense(PRED*num_features),\n",
    "    # Shape => [batch, out_steps, features]\n",
    "    tf.keras.layers.Reshape([PRED, num_features])\n",
    "])\n",
    "\n",
    "history = compile_and_fit(multi_rnn_model, dataset,epochs=500,verbose=0)"
   ]
  },
  {
   "cell_type": "code",
   "execution_count": 26,
   "metadata": {},
   "outputs": [],
   "source": [
    "multi_lstm_model = tf.keras.Sequential([\n",
    "    # Shape [batch, time, features] => [batch, lstm_units]\n",
    "    # Adding more `lstm_units` just overfits more quickly.\n",
    "    tf.keras.layers.LSTM(64,return_sequences=False,input_shape = (INPUT, num_features)),\n",
    "    #tf.keras.layers.LSTM(32,return_sequences=False),\n",
    "    # Shape => [batch, out_steps*features]\n",
    "    tf.keras.layers.Dense(PRED*num_features),\n",
    "    # Shape => [batch, out_steps, features]\n",
    "    tf.keras.layers.Reshape([PRED, num_features])\n",
    "])\n",
    "\n",
    "history = compile_and_fit(multi_lstm_model, dataset,epochs=500,verbose=0)"
   ]
  },
  {
   "cell_type": "code",
   "execution_count": 27,
   "metadata": {},
   "outputs": [],
   "source": [
    "model_val_performance = {}\n",
    "model_test_performance ={}\n",
    "models = {'Naive_1':last_baseline,\n",
    "          'Naive_2':repeat_baseline,\n",
    "          'Linear':multi_linear_model,\n",
    "          'Dense':multi_dense_model,\n",
    "          'Conv':multi_conv_model,\n",
    "          'RNN':multi_rnn_model,\n",
    "          'LSTM':multi_lstm_model\n",
    "         }\n",
    "for k,v in models.items():\n",
    "    \n",
    "    model_val_performance[k] = v.evaluate(dataset['X_val'],dataset['y_val'],verbose=0)\n",
    "    model_test_performance[k] = v.evaluate(dataset['X_train'],dataset['y_train'],verbose=0)"
   ]
  },
  {
   "cell_type": "code",
   "execution_count": 28,
   "metadata": {},
   "outputs": [
    {
     "data": {
      "text/plain": [
       "['Naive_1', 'Naive_2', 'Linear', 'Dense', 'Conv', 'RNN', 'LSTM']"
      ]
     },
     "execution_count": 28,
     "metadata": {},
     "output_type": "execute_result"
    }
   ],
   "source": [
    "list(model_val_performance.keys())"
   ]
  },
  {
   "cell_type": "code",
   "execution_count": 29,
   "metadata": {},
   "outputs": [
    {
     "data": {
      "image/png": "[encoded data removed]",
      "text/plain": [
       "<Figure size 432x288 with 2 Axes>"
      ]
     },
     "metadata": {
      "needs_background": "light"
     },
     "output_type": "display_data"
    }
   ],
   "source": [
    "x = np.arange(len(model_val_performance))\n",
    "width = 0.3\n",
    "\n",
    "metric_name = 'mean_squared_error'\n",
    "val_mse = [v[0] for v in model_val_performance.values()]\n",
    "test_mse = [v[0] for v in model_test_performance.values()]\n",
    "\n",
    "fig,ax = plt.subplots()\n",
    "l1 = ax.bar(x - 0.17, val_mse, width, label='Validation')\n",
    "ax2 = ax.twinx()\n",
    "l2 = ax2.bar(x + 0.17, test_mse, width, label='Train',color='g')\n",
    "plt.xticks(ticks=x, labels=model_val_performance.keys(),\n",
    "           rotation=45)\n",
    "ax.set_ylabel(f'MSE (Validation)')\n",
    "ax2.set_ylabel(f'MSE (Train)')\n",
    "\n",
    "# added these three lines\n",
    "fig.legend(loc=\"upper right\")\n",
    "plt.title('INPUT:{},PRED:{}'.format(INPUT,PRED))\n",
    "plt.savefig('INPUT:{},PRED:{}.png'.format(INPUT,PRED))\n",
    "fig.savefig(\"models_comparsion.png\")"
   ]
  },
  {
   "cell_type": "code",
   "execution_count": 30,
   "metadata": {},
   "outputs": [
    {
     "data": {
      "text/plain": [
       "[0.022306226193904877,\n",
       " 0.032026541020189016,\n",
       " 0.008603284800691264,\n",
       " 0.013106983421104295,\n",
       " 0.008216611109673977,\n",
       " 0.007470012110258851,\n",
       " 0.007809628333364215]"
      ]
     },
     "execution_count": 30,
     "metadata": {},
     "output_type": "execute_result"
    }
   ],
   "source": [
    "val_mse"
   ]
  },
  {
   "cell_type": "code",
   "execution_count": 35,
   "metadata": {},
   "outputs": [],
   "source": [
    "# draw results\n",
    "def draw_pred(model,dataset,country2id,country_name,pred=PRED):\n",
    "    country_id = country2id[country_name]\n",
    "    ts_mse = model.evaluate(dataset['X_test'],dataset['y_test'])[0]\n",
    "    #y_pred = model.predict(dataset['X_test'])\n",
    "    mc_result =np.stack([model(dataset['X_test'],training =True).numpy() for sample in range(100)])\n",
    "    y_pred = mc_result.mean(axis=0)\n",
    "    fig,ax = plt.subplots()\n",
    "    if pred ==1:\n",
    "        sns.barplot(x=['Pred','Real'],y=[y_test.numpy().squeeze()[country_id],y_pred.squeeze()[country_id]])\n",
    "        plt.title('Test_MSE: {:.2f}'.format(ts_mse))\n",
    "    else:\n",
    "        axes = sns.lineplot(x=range(pred),y=y_pred.squeeze()[:,country_id].cumsum(),label='Pred (test_MSE:{:.2f})'.format(ts_mse))\n",
    "        sns.lineplot(x=range(pred),y=y_test.numpy().squeeze()[:,country_id].cumsum(),ax=axes,label='Real')\n",
    "    plt.xlabel(\"Predicted Days\")\n",
    "    plt.ylabel(\"Cases(standarized)\")\n",
    "    plt.title(\"{}'s trend chart\".format(country_name))\n",
    "    plt.show()"
   ]
  },
  {
   "cell_type": "code",
   "execution_count": 36,
   "metadata": {},
   "outputs": [
    {
     "name": "stdout",
     "output_type": "stream",
     "text": [
      "1/1 [==============================] - 0s 1ms/step - loss: 0.5118 - mean_absolute_error: 0.3229\n"
     ]
    },
    {
     "data": {
      "image/png": "[encoded data removed]",
      "text/plain": [
       "<Figure size 432x288 with 1 Axes>"
      ]
     },
     "metadata": {
      "needs_background": "light"
     },
     "output_type": "display_data"
    }
   ],
   "source": [
    "draw_pred(multi_linear_model,dataset,country2id,'World')"
   ]
  },
  {
   "cell_type": "code",
   "execution_count": 37,
   "metadata": {},
   "outputs": [
    {
     "name": "stdout",
     "output_type": "stream",
     "text": [
      "1/1 [==============================] - 0s 832us/step - loss: 0.5030 - mean_absolute_error: 0.2958\n"
     ]
    },
    {
     "data": {
      "image/png": "[encoded data removed]",
      "text/plain": [
       "<Figure size 432x288 with 1 Axes>"
      ]
     },
     "metadata": {
      "needs_background": "light"
     },
     "output_type": "display_data"
    }
   ],
   "source": [
    "draw_pred(multi_rnn_model,dataset,country2id,'World')"
   ]
  },
  {
   "cell_type": "code",
   "execution_count": 38,
   "metadata": {},
   "outputs": [
    {
     "name": "stdout",
     "output_type": "stream",
     "text": [
      "1/1 [==============================] - 0s 1ms/step - loss: 0.5019 - mean_absolute_error: 0.2932\n"
     ]
    },
    {
     "data": {
      "image/png": "[encoded data removed]",
      "text/plain": [
       "<Figure size 432x288 with 1 Axes>"
      ]
     },
     "metadata": {
      "needs_background": "light"
     },
     "output_type": "display_data"
    }
   ],
   "source": [
    "draw_pred(multi_lstm_model,dataset,country2id,'World')"
   ]
  },
  {
   "cell_type": "code",
   "execution_count": 39,
   "metadata": {},
   "outputs": [
    {
     "name": "stdout",
     "output_type": "stream",
     "text": [
      "1/1 [==============================] - 0s 845us/step - loss: 0.5041 - mean_absolute_error: 0.2894\n"
     ]
    },
    {
     "data": {
      "image/png": "[encoded data removed]",
      "text/plain": [
       "<Figure size 432x288 with 1 Axes>"
      ]
     },
     "metadata": {
      "needs_background": "light"
     },
     "output_type": "display_data"
    }
   ],
   "source": [
    "draw_pred(multi_conv_model,dataset,country2id,'World')"
   ]
  },
  {
   "cell_type": "code",
   "execution_count": 40,
   "metadata": {},
   "outputs": [],
   "source": [
    "def draw_daily(model,dataset,country2id,country_name,pred=PRED):\n",
    "    country_id = country2id[country_name]\n",
    "    ts_mse = model.evaluate(dataset['X_test'],dataset['y_test'])[0]\n",
    "    y_pred = model.predict(dataset['X_test'])\n",
    "    fig,ax = plt.subplots()\n",
    "    if pred ==1:\n",
    "        sns.barplot(x=['Pred','Real'],y=[y_test.numpy().squeeze()[country_id],y_pred.squeeze()[country_id]])\n",
    "        plt.title('Test_MSE: {:.2f}'.format(ts_mse))\n",
    "    else:\n",
    "        axes = sns.lineplot(x=range(pred),y=y_pred.squeeze()[:,country_id],label='Pred (test_MSE:{:.2f})'.format(ts_mse))\n",
    "        sns.lineplot(x=range(pred),y=y_test.numpy().squeeze()[:,country_id],ax=axes,label='Real')\n",
    "    plt.xlabel(\"Predicted Days\")\n",
    "    plt.ylabel(\"Daily Cases(standarized)\")\n",
    "    plt.title(\"{}'s trend chart\".format(country_name))\n",
    "    plt.show()"
   ]
  },
  {
   "cell_type": "code",
   "execution_count": 41,
   "metadata": {},
   "outputs": [
    {
     "name": "stdout",
     "output_type": "stream",
     "text": [
      "1/1 [==============================] - 0s 1ms/step - loss: 0.5041 - mean_absolute_error: 0.2894\n"
     ]
    },
    {
     "data": {
      "image/png": "[encoded data removed]",
      "text/plain": [
       "<Figure size 432x288 with 1 Axes>"
      ]
     },
     "metadata": {
      "needs_background": "light"
     },
     "output_type": "display_data"
    }
   ],
   "source": [
    "draw_daily(multi_conv_model,dataset,country2id,'World')"
   ]
  },
  {
   "cell_type": "code",
   "execution_count": 42,
   "metadata": {},
   "outputs": [
    {
     "name": "stdout",
     "output_type": "stream",
     "text": [
      "1/1 [==============================] - 0s 865us/step - loss: 0.5118 - mean_absolute_error: 0.3229\n"
     ]
    },
    {
     "data": {
      "image/png": "[encoded data removed]",
      "text/plain": [
       "<Figure size 432x288 with 1 Axes>"
      ]
     },
     "metadata": {
      "needs_background": "light"
     },
     "output_type": "display_data"
    }
   ],
   "source": [
    "draw_daily(multi_linear_model,dataset,country2id,'Germany')"
   ]
  },
  {
   "cell_type": "code",
   "execution_count": 43,
   "metadata": {},
   "outputs": [
    {
     "name": "stdout",
     "output_type": "stream",
     "text": [
      "1/1 [==============================] - 0s 950us/step - loss: 0.5030 - mean_absolute_error: 0.2958\n"
     ]
    },
    {
     "data": {
      "image/png": "[encoded data removed]",
      "text/plain": [
       "<Figure size 432x288 with 1 Axes>"
      ]
     },
     "metadata": {
      "needs_background": "light"
     },
     "output_type": "display_data"
    }
   ],
   "source": [
    "draw_daily(multi_rnn_model,dataset,country2id,'World')"
   ]
  },
  {
   "cell_type": "code",
   "execution_count": 44,
   "metadata": {},
   "outputs": [
    {
     "name": "stdout",
     "output_type": "stream",
     "text": [
      "1/1 [==============================] - 0s 1ms/step - loss: 0.5019 - mean_absolute_error: 0.2932\n"
     ]
    },
    {
     "data": {
      "image/png": "[encoded data removed]",
      "text/plain": [
       "<Figure size 432x288 with 1 Axes>"
      ]
     },
     "metadata": {
      "needs_background": "light"
     },
     "output_type": "display_data"
    }
   ],
   "source": [
    "draw_daily(multi_lstm_model,dataset,country2id,'Germany')"
   ]
  },
  {
   "cell_type": "markdown",
   "metadata": {},
   "source": [
    "### Save models"
   ]
  },
  {
   "cell_type": "code",
   "execution_count": 41,
   "metadata": {},
   "outputs": [
    {
     "ename": "SyntaxError",
     "evalue": "EOL while scanning string literal (<ipython-input-41-5bed24185270>, line 2)",
     "output_type": "error",
     "traceback": [
      "\u001b[0;36m  File \u001b[0;32m\"<ipython-input-41-5bed24185270>\"\u001b[0;36m, line \u001b[0;32m2\u001b[0m\n\u001b[0;31m    v.save('{}_model'.format(k),save_format=\"tf)\u001b[0m\n\u001b[0m                                                ^\u001b[0m\n\u001b[0;31mSyntaxError\u001b[0m\u001b[0;31m:\u001b[0m EOL while scanning string literal\n"
     ]
    }
   ],
   "source": [
    "# for k,v in models.items():\n",
    "#     v.save('{}_model'.format(k),save_format=\"tf\")"
   ]
  },
  {
   "cell_type": "markdown",
   "metadata": {},
   "source": [
    "### Save Scaler"
   ]
  },
  {
   "cell_type": "code",
   "execution_count": null,
   "metadata": {},
   "outputs": [],
   "source": [
    "# with open('scaler.pkl','wb') as f:\n",
    "#     pickle.dump(cs,f)"
   ]
  },
  {
   "cell_type": "markdown",
   "metadata": {},
   "source": [
    "### Load models"
   ]
  },
  {
   "cell_type": "code",
   "execution_count": null,
   "metadata": {},
   "outputs": [],
   "source": [
    "#load_rnn = tf.keras.models.load_model(\"model_confirm_case/RNN_model\")\n",
    "load_rnn = tf.keras.models.load_model(\"rnn_model.h5\")"
   ]
  },
  {
   "cell_type": "code",
   "execution_count": 42,
   "metadata": {},
   "outputs": [],
   "source": [
    "def get_pred(model,input_step,country_id):\n",
    "    mc_result =np.stack([model(input_step,training =True).numpy() for sample in range(100)])\n",
    "    pred = cs.inverse_transform(mc_result.mean(axis=0).squeeze())\n",
    "    return pred[:,_id]"
   ]
  },
  {
   "cell_type": "code",
   "execution_count": null,
   "metadata": {},
   "outputs": [],
   "source": []
  },
  {
   "cell_type": "markdown",
   "metadata": {},
   "source": [
    "### Inverse to origin data format"
   ]
  },
  {
   "cell_type": "code",
   "execution_count": 43,
   "metadata": {},
   "outputs": [],
   "source": [
    "from sklearn.metrics import mean_squared_error"
   ]
  },
  {
   "cell_type": "code",
   "execution_count": 44,
   "metadata": {},
   "outputs": [],
   "source": [
    "mc_result =np.stack([multi_rnn_model(dataset['X_test'],training =True).numpy() for sample in range(100)])\n",
    "pred = cs.inverse_transform(mc_result.mean(axis=0).squeeze())\n"
   ]
  },
  {
   "cell_type": "code",
   "execution_count": 65,
   "metadata": {},
   "outputs": [
    {
     "data": {
      "text/plain": [
       "Timestamp('2020-12-26 00:00:00')"
      ]
     },
     "execution_count": 65,
     "metadata": {},
     "output_type": "execute_result"
    }
   ],
   "source": [
    "LAST_DATE = df_train.index[-1]\n",
    "LAST_DATE"
   ]
  },
  {
   "cell_type": "code",
   "execution_count": 46,
   "metadata": {},
   "outputs": [
    {
     "data": {
      "text/plain": [
       "DatetimeIndex(['2020-12-27', '2020-12-28', '2020-12-29', '2020-12-30',\n",
       "               '2020-12-31', '2021-01-01', '2021-01-02', '2021-01-03',\n",
       "               '2021-01-04', '2021-01-05', '2021-01-06', '2021-01-07',\n",
       "               '2021-01-08', '2021-01-09', '2021-01-10', '2021-01-11',\n",
       "               '2021-01-12', '2021-01-13', '2021-01-14', '2021-01-15',\n",
       "               '2021-01-16', '2021-01-17', '2021-01-18', '2021-01-19',\n",
       "               '2021-01-20', '2021-01-21', '2021-01-22', '2021-01-23',\n",
       "               '2021-01-24', '2021-01-25'],\n",
       "              dtype='datetime64[ns]', freq='D')"
      ]
     },
     "execution_count": 46,
     "metadata": {},
     "output_type": "execute_result"
    }
   ],
   "source": [
    "index = pd.date_range(start=LAST_DATE+dt.timedelta(days=1), periods=PRED)\n",
    "index"
   ]
  },
  {
   "cell_type": "code",
   "execution_count": 69,
   "metadata": {},
   "outputs": [
    {
     "data": {
      "text/html": [
       "<div>\n",
       "<style scoped>\n",
       "    .dataframe tbody tr th:only-of-type {\n",
       "        vertical-align: middle;\n",
       "    }\n",
       "\n",
       "    .dataframe tbody tr th {\n",
       "        vertical-align: top;\n",
       "    }\n",
       "\n",
       "    .dataframe thead th {\n",
       "        text-align: right;\n",
       "    }\n",
       "</style>\n",
       "<table border=\"1\" class=\"dataframe\">\n",
       "  <thead>\n",
       "    <tr style=\"text-align: right;\">\n",
       "      <th></th>\n",
       "      <th>Afghanistan</th>\n",
       "      <th>Albania</th>\n",
       "      <th>Algeria</th>\n",
       "      <th>Andorra</th>\n",
       "      <th>Angola</th>\n",
       "      <th>Antigua and Barbuda</th>\n",
       "      <th>Argentina</th>\n",
       "      <th>Armenia</th>\n",
       "      <th>Australia</th>\n",
       "      <th>Austria</th>\n",
       "      <th>...</th>\n",
       "      <th>Uruguay</th>\n",
       "      <th>Uzbekistan</th>\n",
       "      <th>Vanuatu</th>\n",
       "      <th>Venezuela</th>\n",
       "      <th>Vietnam</th>\n",
       "      <th>West Bank and Gaza</th>\n",
       "      <th>Yemen</th>\n",
       "      <th>Zambia</th>\n",
       "      <th>Zimbabwe</th>\n",
       "      <th>World</th>\n",
       "    </tr>\n",
       "  </thead>\n",
       "  <tbody>\n",
       "    <tr>\n",
       "      <td>2020-12-27</td>\n",
       "      <td>281.607590</td>\n",
       "      <td>526.743322</td>\n",
       "      <td>821.239920</td>\n",
       "      <td>70.675278</td>\n",
       "      <td>76.709105</td>\n",
       "      <td>0.184816</td>\n",
       "      <td>6768.309961</td>\n",
       "      <td>423.908330</td>\n",
       "      <td>79.271855</td>\n",
       "      <td>2344.701275</td>\n",
       "      <td>...</td>\n",
       "      <td>72.599255</td>\n",
       "      <td>187.513404</td>\n",
       "      <td>0.093818</td>\n",
       "      <td>397.804307</td>\n",
       "      <td>8.396216</td>\n",
       "      <td>1124.073947</td>\n",
       "      <td>-0.082740</td>\n",
       "      <td>2.765944</td>\n",
       "      <td>59.947097</td>\n",
       "      <td>5.609675e+05</td>\n",
       "    </tr>\n",
       "    <tr>\n",
       "      <td>2020-12-28</td>\n",
       "      <td>635.978855</td>\n",
       "      <td>1051.513405</td>\n",
       "      <td>1746.814229</td>\n",
       "      <td>179.035132</td>\n",
       "      <td>166.863422</td>\n",
       "      <td>-4.582730</td>\n",
       "      <td>15987.005790</td>\n",
       "      <td>1133.329363</td>\n",
       "      <td>134.125067</td>\n",
       "      <td>5247.804742</td>\n",
       "      <td>...</td>\n",
       "      <td>173.559126</td>\n",
       "      <td>455.477337</td>\n",
       "      <td>0.011277</td>\n",
       "      <td>895.588926</td>\n",
       "      <td>14.590576</td>\n",
       "      <td>2523.907790</td>\n",
       "      <td>12.900789</td>\n",
       "      <td>25.781761</td>\n",
       "      <td>140.948278</td>\n",
       "      <td>1.036166e+06</td>\n",
       "    </tr>\n",
       "    <tr>\n",
       "      <td>2020-12-29</td>\n",
       "      <td>934.178753</td>\n",
       "      <td>1667.119720</td>\n",
       "      <td>2698.982504</td>\n",
       "      <td>231.428692</td>\n",
       "      <td>276.941059</td>\n",
       "      <td>-3.883135</td>\n",
       "      <td>28240.217315</td>\n",
       "      <td>2159.891849</td>\n",
       "      <td>183.000720</td>\n",
       "      <td>8963.476982</td>\n",
       "      <td>...</td>\n",
       "      <td>291.195890</td>\n",
       "      <td>756.016452</td>\n",
       "      <td>-0.005978</td>\n",
       "      <td>1400.097027</td>\n",
       "      <td>18.899329</td>\n",
       "      <td>4022.946510</td>\n",
       "      <td>24.928935</td>\n",
       "      <td>23.890500</td>\n",
       "      <td>226.170750</td>\n",
       "      <td>1.541034e+06</td>\n",
       "    </tr>\n",
       "    <tr>\n",
       "      <td>2020-12-30</td>\n",
       "      <td>1129.062316</td>\n",
       "      <td>2175.153386</td>\n",
       "      <td>3587.842883</td>\n",
       "      <td>283.916442</td>\n",
       "      <td>378.664621</td>\n",
       "      <td>-0.828362</td>\n",
       "      <td>39630.088210</td>\n",
       "      <td>3593.141695</td>\n",
       "      <td>195.195318</td>\n",
       "      <td>13130.799272</td>\n",
       "      <td>...</td>\n",
       "      <td>424.287110</td>\n",
       "      <td>996.379117</td>\n",
       "      <td>0.054974</td>\n",
       "      <td>1839.926430</td>\n",
       "      <td>20.662625</td>\n",
       "      <td>5425.290100</td>\n",
       "      <td>45.667169</td>\n",
       "      <td>30.056148</td>\n",
       "      <td>276.893503</td>\n",
       "      <td>2.136062e+06</td>\n",
       "    </tr>\n",
       "    <tr>\n",
       "      <td>2020-12-31</td>\n",
       "      <td>1276.627510</td>\n",
       "      <td>2783.937340</td>\n",
       "      <td>4588.073609</td>\n",
       "      <td>367.189556</td>\n",
       "      <td>462.768815</td>\n",
       "      <td>2.202771</td>\n",
       "      <td>46713.846159</td>\n",
       "      <td>5072.449683</td>\n",
       "      <td>224.310294</td>\n",
       "      <td>16908.611965</td>\n",
       "      <td>...</td>\n",
       "      <td>583.603649</td>\n",
       "      <td>1266.405696</td>\n",
       "      <td>-0.021851</td>\n",
       "      <td>2321.946295</td>\n",
       "      <td>24.764955</td>\n",
       "      <td>6726.286641</td>\n",
       "      <td>56.024605</td>\n",
       "      <td>76.300895</td>\n",
       "      <td>333.437348</td>\n",
       "      <td>2.728720e+06</td>\n",
       "    </tr>\n",
       "    <tr>\n",
       "      <td>2021-01-01</td>\n",
       "      <td>1409.978230</td>\n",
       "      <td>3330.280533</td>\n",
       "      <td>5467.836862</td>\n",
       "      <td>392.827287</td>\n",
       "      <td>543.048394</td>\n",
       "      <td>3.914450</td>\n",
       "      <td>50991.367651</td>\n",
       "      <td>5909.677564</td>\n",
       "      <td>218.356475</td>\n",
       "      <td>19745.843386</td>\n",
       "      <td>...</td>\n",
       "      <td>712.348530</td>\n",
       "      <td>1499.659876</td>\n",
       "      <td>-0.109896</td>\n",
       "      <td>2794.073178</td>\n",
       "      <td>23.018946</td>\n",
       "      <td>8260.352504</td>\n",
       "      <td>55.594264</td>\n",
       "      <td>99.664857</td>\n",
       "      <td>413.930033</td>\n",
       "      <td>3.226664e+06</td>\n",
       "    </tr>\n",
       "    <tr>\n",
       "      <td>2021-01-02</td>\n",
       "      <td>1604.419458</td>\n",
       "      <td>3858.261580</td>\n",
       "      <td>6348.559358</td>\n",
       "      <td>474.180874</td>\n",
       "      <td>620.249371</td>\n",
       "      <td>3.488873</td>\n",
       "      <td>54614.023492</td>\n",
       "      <td>6714.684278</td>\n",
       "      <td>265.200416</td>\n",
       "      <td>21669.276559</td>\n",
       "      <td>...</td>\n",
       "      <td>847.027652</td>\n",
       "      <td>1634.242454</td>\n",
       "      <td>-0.114325</td>\n",
       "      <td>3337.980535</td>\n",
       "      <td>24.613406</td>\n",
       "      <td>9729.696719</td>\n",
       "      <td>61.086974</td>\n",
       "      <td>146.580006</td>\n",
       "      <td>482.419046</td>\n",
       "      <td>3.599546e+06</td>\n",
       "    </tr>\n",
       "    <tr>\n",
       "      <td>2021-01-03</td>\n",
       "      <td>1750.236920</td>\n",
       "      <td>4380.356934</td>\n",
       "      <td>7078.556829</td>\n",
       "      <td>534.718384</td>\n",
       "      <td>698.233504</td>\n",
       "      <td>2.408757</td>\n",
       "      <td>60392.387144</td>\n",
       "      <td>7156.943195</td>\n",
       "      <td>266.990521</td>\n",
       "      <td>22072.331083</td>\n",
       "      <td>...</td>\n",
       "      <td>974.477730</td>\n",
       "      <td>1950.981427</td>\n",
       "      <td>-0.112572</td>\n",
       "      <td>3757.931977</td>\n",
       "      <td>24.926938</td>\n",
       "      <td>11196.506490</td>\n",
       "      <td>64.128754</td>\n",
       "      <td>239.122899</td>\n",
       "      <td>503.579972</td>\n",
       "      <td>4.010557e+06</td>\n",
       "    </tr>\n",
       "    <tr>\n",
       "      <td>2021-01-04</td>\n",
       "      <td>1919.998973</td>\n",
       "      <td>5034.850334</td>\n",
       "      <td>7924.033041</td>\n",
       "      <td>616.455432</td>\n",
       "      <td>792.970538</td>\n",
       "      <td>-1.253705</td>\n",
       "      <td>68269.972712</td>\n",
       "      <td>7794.681046</td>\n",
       "      <td>247.270332</td>\n",
       "      <td>22889.751349</td>\n",
       "      <td>...</td>\n",
       "      <td>1087.835833</td>\n",
       "      <td>2154.432739</td>\n",
       "      <td>-0.086686</td>\n",
       "      <td>4202.367205</td>\n",
       "      <td>24.535593</td>\n",
       "      <td>12895.568126</td>\n",
       "      <td>59.147001</td>\n",
       "      <td>218.736039</td>\n",
       "      <td>655.446214</td>\n",
       "      <td>4.529888e+06</td>\n",
       "    </tr>\n",
       "    <tr>\n",
       "      <td>2021-01-05</td>\n",
       "      <td>2030.149170</td>\n",
       "      <td>5627.472037</td>\n",
       "      <td>8725.969103</td>\n",
       "      <td>680.174247</td>\n",
       "      <td>891.365512</td>\n",
       "      <td>-1.191920</td>\n",
       "      <td>78315.484658</td>\n",
       "      <td>8936.115699</td>\n",
       "      <td>223.086908</td>\n",
       "      <td>25387.934883</td>\n",
       "      <td>...</td>\n",
       "      <td>1219.308491</td>\n",
       "      <td>2305.954694</td>\n",
       "      <td>-0.069144</td>\n",
       "      <td>4646.349982</td>\n",
       "      <td>22.348409</td>\n",
       "      <td>14664.239703</td>\n",
       "      <td>74.687995</td>\n",
       "      <td>221.570473</td>\n",
       "      <td>762.522295</td>\n",
       "      <td>5.170537e+06</td>\n",
       "    </tr>\n",
       "    <tr>\n",
       "      <td>2021-01-06</td>\n",
       "      <td>2211.448144</td>\n",
       "      <td>6205.598533</td>\n",
       "      <td>9471.223347</td>\n",
       "      <td>694.242485</td>\n",
       "      <td>995.858080</td>\n",
       "      <td>4.114372</td>\n",
       "      <td>88994.860906</td>\n",
       "      <td>10586.771143</td>\n",
       "      <td>229.089795</td>\n",
       "      <td>28443.932036</td>\n",
       "      <td>...</td>\n",
       "      <td>1371.439324</td>\n",
       "      <td>2469.418183</td>\n",
       "      <td>-0.076887</td>\n",
       "      <td>5176.239241</td>\n",
       "      <td>21.323965</td>\n",
       "      <td>16466.347096</td>\n",
       "      <td>85.114978</td>\n",
       "      <td>255.351338</td>\n",
       "      <td>881.327542</td>\n",
       "      <td>5.790150e+06</td>\n",
       "    </tr>\n",
       "    <tr>\n",
       "      <td>2021-01-07</td>\n",
       "      <td>2296.709353</td>\n",
       "      <td>6852.060577</td>\n",
       "      <td>10223.870379</td>\n",
       "      <td>739.068474</td>\n",
       "      <td>1081.008671</td>\n",
       "      <td>4.126899</td>\n",
       "      <td>95896.979889</td>\n",
       "      <td>12120.923422</td>\n",
       "      <td>197.486218</td>\n",
       "      <td>31826.673540</td>\n",
       "      <td>...</td>\n",
       "      <td>1568.672721</td>\n",
       "      <td>2712.408290</td>\n",
       "      <td>-0.182431</td>\n",
       "      <td>5652.748450</td>\n",
       "      <td>21.501489</td>\n",
       "      <td>18069.776577</td>\n",
       "      <td>92.819986</td>\n",
       "      <td>354.623181</td>\n",
       "      <td>1042.872200</td>\n",
       "      <td>6.437664e+06</td>\n",
       "    </tr>\n",
       "    <tr>\n",
       "      <td>2021-01-08</td>\n",
       "      <td>2391.932323</td>\n",
       "      <td>7396.313828</td>\n",
       "      <td>10867.919350</td>\n",
       "      <td>735.167718</td>\n",
       "      <td>1147.641469</td>\n",
       "      <td>3.449883</td>\n",
       "      <td>99893.943845</td>\n",
       "      <td>13285.484266</td>\n",
       "      <td>105.179360</td>\n",
       "      <td>33860.509789</td>\n",
       "      <td>...</td>\n",
       "      <td>1768.989427</td>\n",
       "      <td>2873.001092</td>\n",
       "      <td>-0.124130</td>\n",
       "      <td>6148.415645</td>\n",
       "      <td>15.070011</td>\n",
       "      <td>19424.744164</td>\n",
       "      <td>96.033274</td>\n",
       "      <td>468.288587</td>\n",
       "      <td>1126.485259</td>\n",
       "      <td>6.922400e+06</td>\n",
       "    </tr>\n",
       "    <tr>\n",
       "      <td>2021-01-09</td>\n",
       "      <td>2508.995282</td>\n",
       "      <td>8111.571733</td>\n",
       "      <td>11473.979073</td>\n",
       "      <td>799.223903</td>\n",
       "      <td>1231.727227</td>\n",
       "      <td>1.919628</td>\n",
       "      <td>103462.550124</td>\n",
       "      <td>13973.625553</td>\n",
       "      <td>65.079629</td>\n",
       "      <td>34237.835770</td>\n",
       "      <td>...</td>\n",
       "      <td>1982.680319</td>\n",
       "      <td>3113.016314</td>\n",
       "      <td>-0.151040</td>\n",
       "      <td>6479.408803</td>\n",
       "      <td>7.125694</td>\n",
       "      <td>20738.507747</td>\n",
       "      <td>98.152800</td>\n",
       "      <td>436.142772</td>\n",
       "      <td>1214.041783</td>\n",
       "      <td>7.409209e+06</td>\n",
       "    </tr>\n",
       "    <tr>\n",
       "      <td>2021-01-10</td>\n",
       "      <td>2610.166785</td>\n",
       "      <td>8695.389520</td>\n",
       "      <td>12085.733720</td>\n",
       "      <td>816.993433</td>\n",
       "      <td>1325.252284</td>\n",
       "      <td>0.087467</td>\n",
       "      <td>108836.549647</td>\n",
       "      <td>14574.440598</td>\n",
       "      <td>-37.627930</td>\n",
       "      <td>34552.088731</td>\n",
       "      <td>...</td>\n",
       "      <td>2142.235779</td>\n",
       "      <td>3307.375089</td>\n",
       "      <td>-0.171690</td>\n",
       "      <td>7009.416802</td>\n",
       "      <td>2.551574</td>\n",
       "      <td>22263.025159</td>\n",
       "      <td>104.317528</td>\n",
       "      <td>523.630134</td>\n",
       "      <td>1268.896854</td>\n",
       "      <td>7.984304e+06</td>\n",
       "    </tr>\n",
       "    <tr>\n",
       "      <td>2021-01-11</td>\n",
       "      <td>2724.848645</td>\n",
       "      <td>9223.685624</td>\n",
       "      <td>12654.712853</td>\n",
       "      <td>883.593713</td>\n",
       "      <td>1433.151582</td>\n",
       "      <td>0.423665</td>\n",
       "      <td>117634.034147</td>\n",
       "      <td>15448.042614</td>\n",
       "      <td>-104.449006</td>\n",
       "      <td>35846.807504</td>\n",
       "      <td>...</td>\n",
       "      <td>2361.372746</td>\n",
       "      <td>3481.662133</td>\n",
       "      <td>-0.110719</td>\n",
       "      <td>7412.435160</td>\n",
       "      <td>0.559906</td>\n",
       "      <td>23577.130920</td>\n",
       "      <td>101.204507</td>\n",
       "      <td>583.005012</td>\n",
       "      <td>1340.737636</td>\n",
       "      <td>8.618262e+06</td>\n",
       "    </tr>\n",
       "    <tr>\n",
       "      <td>2021-01-12</td>\n",
       "      <td>2854.219392</td>\n",
       "      <td>9789.440812</td>\n",
       "      <td>13212.525830</td>\n",
       "      <td>928.765609</td>\n",
       "      <td>1560.880769</td>\n",
       "      <td>-0.874017</td>\n",
       "      <td>127040.333379</td>\n",
       "      <td>16728.723370</td>\n",
       "      <td>-161.564465</td>\n",
       "      <td>38146.469775</td>\n",
       "      <td>...</td>\n",
       "      <td>2589.716868</td>\n",
       "      <td>3665.966077</td>\n",
       "      <td>-0.094986</td>\n",
       "      <td>8068.727427</td>\n",
       "      <td>-0.893655</td>\n",
       "      <td>24975.168545</td>\n",
       "      <td>103.567225</td>\n",
       "      <td>547.745037</td>\n",
       "      <td>1417.782985</td>\n",
       "      <td>9.178217e+06</td>\n",
       "    </tr>\n",
       "    <tr>\n",
       "      <td>2021-01-13</td>\n",
       "      <td>2994.920709</td>\n",
       "      <td>10385.130517</td>\n",
       "      <td>13767.675537</td>\n",
       "      <td>929.057496</td>\n",
       "      <td>1637.017734</td>\n",
       "      <td>-0.807732</td>\n",
       "      <td>135823.514514</td>\n",
       "      <td>18530.311544</td>\n",
       "      <td>-217.206682</td>\n",
       "      <td>41910.562395</td>\n",
       "      <td>...</td>\n",
       "      <td>2843.585841</td>\n",
       "      <td>3855.386563</td>\n",
       "      <td>-0.109220</td>\n",
       "      <td>8697.525804</td>\n",
       "      <td>-3.491540</td>\n",
       "      <td>26395.169752</td>\n",
       "      <td>109.959896</td>\n",
       "      <td>606.988136</td>\n",
       "      <td>1507.555567</td>\n",
       "      <td>1.000800e+07</td>\n",
       "    </tr>\n",
       "    <tr>\n",
       "      <td>2021-01-14</td>\n",
       "      <td>3090.981419</td>\n",
       "      <td>11002.175748</td>\n",
       "      <td>14259.014654</td>\n",
       "      <td>997.815074</td>\n",
       "      <td>1723.483051</td>\n",
       "      <td>-0.989925</td>\n",
       "      <td>142619.782839</td>\n",
       "      <td>20124.458478</td>\n",
       "      <td>-241.800330</td>\n",
       "      <td>44617.620711</td>\n",
       "      <td>...</td>\n",
       "      <td>3132.510908</td>\n",
       "      <td>4107.507330</td>\n",
       "      <td>-0.143705</td>\n",
       "      <td>9295.214399</td>\n",
       "      <td>-5.095877</td>\n",
       "      <td>27699.838596</td>\n",
       "      <td>109.552936</td>\n",
       "      <td>757.768243</td>\n",
       "      <td>1588.226665</td>\n",
       "      <td>1.066117e+07</td>\n",
       "    </tr>\n",
       "    <tr>\n",
       "      <td>2021-01-15</td>\n",
       "      <td>3193.300483</td>\n",
       "      <td>11669.462704</td>\n",
       "      <td>14694.037753</td>\n",
       "      <td>1003.236948</td>\n",
       "      <td>1826.886244</td>\n",
       "      <td>1.238127</td>\n",
       "      <td>148075.471430</td>\n",
       "      <td>21000.127105</td>\n",
       "      <td>-245.983240</td>\n",
       "      <td>46311.873433</td>\n",
       "      <td>...</td>\n",
       "      <td>3447.271045</td>\n",
       "      <td>4459.731163</td>\n",
       "      <td>-0.243281</td>\n",
       "      <td>9758.175011</td>\n",
       "      <td>-12.033359</td>\n",
       "      <td>28996.328284</td>\n",
       "      <td>101.885990</td>\n",
       "      <td>838.202468</td>\n",
       "      <td>1635.075636</td>\n",
       "      <td>1.115783e+07</td>\n",
       "    </tr>\n",
       "    <tr>\n",
       "      <td>2021-01-16</td>\n",
       "      <td>3339.847632</td>\n",
       "      <td>12268.493288</td>\n",
       "      <td>15176.963335</td>\n",
       "      <td>1054.586387</td>\n",
       "      <td>1895.815554</td>\n",
       "      <td>2.033564</td>\n",
       "      <td>151577.404745</td>\n",
       "      <td>21671.368355</td>\n",
       "      <td>-268.375112</td>\n",
       "      <td>47402.764574</td>\n",
       "      <td>...</td>\n",
       "      <td>3769.060789</td>\n",
       "      <td>4720.330205</td>\n",
       "      <td>-0.250467</td>\n",
       "      <td>10298.636978</td>\n",
       "      <td>-14.298169</td>\n",
       "      <td>30401.109517</td>\n",
       "      <td>105.843571</td>\n",
       "      <td>917.357018</td>\n",
       "      <td>1694.562628</td>\n",
       "      <td>1.159939e+07</td>\n",
       "    </tr>\n",
       "    <tr>\n",
       "      <td>2021-01-17</td>\n",
       "      <td>3538.941234</td>\n",
       "      <td>12883.121430</td>\n",
       "      <td>15553.920987</td>\n",
       "      <td>1084.524233</td>\n",
       "      <td>1990.843184</td>\n",
       "      <td>3.816261</td>\n",
       "      <td>156575.035180</td>\n",
       "      <td>22016.478806</td>\n",
       "      <td>-299.092282</td>\n",
       "      <td>48199.812026</td>\n",
       "      <td>...</td>\n",
       "      <td>4038.539586</td>\n",
       "      <td>4988.777270</td>\n",
       "      <td>-0.117684</td>\n",
       "      <td>10817.832810</td>\n",
       "      <td>-15.464722</td>\n",
       "      <td>31774.828586</td>\n",
       "      <td>104.515314</td>\n",
       "      <td>1004.056109</td>\n",
       "      <td>1781.883023</td>\n",
       "      <td>1.194740e+07</td>\n",
       "    </tr>\n",
       "    <tr>\n",
       "      <td>2021-01-18</td>\n",
       "      <td>3721.310295</td>\n",
       "      <td>13477.560655</td>\n",
       "      <td>15945.269883</td>\n",
       "      <td>1133.936461</td>\n",
       "      <td>2062.987201</td>\n",
       "      <td>2.131337</td>\n",
       "      <td>164530.960871</td>\n",
       "      <td>22546.940403</td>\n",
       "      <td>-243.571551</td>\n",
       "      <td>50390.410316</td>\n",
       "      <td>...</td>\n",
       "      <td>4349.171828</td>\n",
       "      <td>5126.272024</td>\n",
       "      <td>-0.001598</td>\n",
       "      <td>11444.105697</td>\n",
       "      <td>-9.611195</td>\n",
       "      <td>33263.834558</td>\n",
       "      <td>106.290386</td>\n",
       "      <td>1160.834121</td>\n",
       "      <td>1865.524731</td>\n",
       "      <td>1.268329e+07</td>\n",
       "    </tr>\n",
       "    <tr>\n",
       "      <td>2021-01-19</td>\n",
       "      <td>3795.966741</td>\n",
       "      <td>14001.264623</td>\n",
       "      <td>16429.173769</td>\n",
       "      <td>1186.326484</td>\n",
       "      <td>2152.962058</td>\n",
       "      <td>0.781680</td>\n",
       "      <td>174212.662599</td>\n",
       "      <td>23645.175864</td>\n",
       "      <td>-203.528069</td>\n",
       "      <td>53218.191761</td>\n",
       "      <td>...</td>\n",
       "      <td>4665.057729</td>\n",
       "      <td>5414.385455</td>\n",
       "      <td>0.087064</td>\n",
       "      <td>11928.020998</td>\n",
       "      <td>-6.533953</td>\n",
       "      <td>34898.435996</td>\n",
       "      <td>96.074802</td>\n",
       "      <td>1174.505053</td>\n",
       "      <td>2031.181779</td>\n",
       "      <td>1.332602e+07</td>\n",
       "    </tr>\n",
       "    <tr>\n",
       "      <td>2021-01-20</td>\n",
       "      <td>3977.133827</td>\n",
       "      <td>14519.001971</td>\n",
       "      <td>16922.574406</td>\n",
       "      <td>1179.223001</td>\n",
       "      <td>2290.757709</td>\n",
       "      <td>5.558986</td>\n",
       "      <td>185170.322595</td>\n",
       "      <td>25395.594124</td>\n",
       "      <td>-192.226058</td>\n",
       "      <td>56865.653421</td>\n",
       "      <td>...</td>\n",
       "      <td>5046.235738</td>\n",
       "      <td>5637.936221</td>\n",
       "      <td>0.072981</td>\n",
       "      <td>12473.023603</td>\n",
       "      <td>-4.674614</td>\n",
       "      <td>36374.277679</td>\n",
       "      <td>97.241105</td>\n",
       "      <td>1260.770857</td>\n",
       "      <td>2127.070271</td>\n",
       "      <td>1.410966e+07</td>\n",
       "    </tr>\n",
       "    <tr>\n",
       "      <td>2021-01-21</td>\n",
       "      <td>4069.364889</td>\n",
       "      <td>15035.818362</td>\n",
       "      <td>17292.348103</td>\n",
       "      <td>1266.702878</td>\n",
       "      <td>2387.412544</td>\n",
       "      <td>5.212771</td>\n",
       "      <td>194247.182623</td>\n",
       "      <td>26689.992631</td>\n",
       "      <td>-255.829251</td>\n",
       "      <td>60069.525656</td>\n",
       "      <td>...</td>\n",
       "      <td>5431.818308</td>\n",
       "      <td>5880.174818</td>\n",
       "      <td>0.077524</td>\n",
       "      <td>12991.307188</td>\n",
       "      <td>-7.054248</td>\n",
       "      <td>37641.169283</td>\n",
       "      <td>100.802747</td>\n",
       "      <td>1439.910921</td>\n",
       "      <td>2223.108071</td>\n",
       "      <td>1.480327e+07</td>\n",
       "    </tr>\n",
       "    <tr>\n",
       "      <td>2021-01-22</td>\n",
       "      <td>4255.049773</td>\n",
       "      <td>15489.784548</td>\n",
       "      <td>17759.470263</td>\n",
       "      <td>1269.957456</td>\n",
       "      <td>2481.879006</td>\n",
       "      <td>7.244205</td>\n",
       "      <td>200190.167190</td>\n",
       "      <td>27562.606315</td>\n",
       "      <td>-209.258947</td>\n",
       "      <td>62382.056573</td>\n",
       "      <td>...</td>\n",
       "      <td>5757.781273</td>\n",
       "      <td>6274.240330</td>\n",
       "      <td>0.087522</td>\n",
       "      <td>13530.618483</td>\n",
       "      <td>-4.191757</td>\n",
       "      <td>38741.308314</td>\n",
       "      <td>91.959107</td>\n",
       "      <td>1583.129448</td>\n",
       "      <td>2271.708390</td>\n",
       "      <td>1.528203e+07</td>\n",
       "    </tr>\n",
       "    <tr>\n",
       "      <td>2021-01-23</td>\n",
       "      <td>4378.260900</td>\n",
       "      <td>15922.534738</td>\n",
       "      <td>18209.564275</td>\n",
       "      <td>1293.330500</td>\n",
       "      <td>2559.796717</td>\n",
       "      <td>9.398151</td>\n",
       "      <td>203857.376744</td>\n",
       "      <td>27983.652811</td>\n",
       "      <td>-156.622967</td>\n",
       "      <td>64132.270909</td>\n",
       "      <td>...</td>\n",
       "      <td>6178.634286</td>\n",
       "      <td>6534.206310</td>\n",
       "      <td>0.093132</td>\n",
       "      <td>14070.440908</td>\n",
       "      <td>-0.406353</td>\n",
       "      <td>39948.961564</td>\n",
       "      <td>100.116175</td>\n",
       "      <td>1645.500158</td>\n",
       "      <td>2368.633406</td>\n",
       "      <td>1.568737e+07</td>\n",
       "    </tr>\n",
       "    <tr>\n",
       "      <td>2021-01-24</td>\n",
       "      <td>4623.829754</td>\n",
       "      <td>16399.206117</td>\n",
       "      <td>18663.356813</td>\n",
       "      <td>1313.457779</td>\n",
       "      <td>2620.397781</td>\n",
       "      <td>11.141590</td>\n",
       "      <td>208485.316865</td>\n",
       "      <td>28138.531259</td>\n",
       "      <td>-116.700886</td>\n",
       "      <td>66348.252219</td>\n",
       "      <td>...</td>\n",
       "      <td>6562.438443</td>\n",
       "      <td>6798.636187</td>\n",
       "      <td>0.142111</td>\n",
       "      <td>14497.952812</td>\n",
       "      <td>1.750771</td>\n",
       "      <td>41144.824478</td>\n",
       "      <td>97.815504</td>\n",
       "      <td>1764.472364</td>\n",
       "      <td>2473.147432</td>\n",
       "      <td>1.620541e+07</td>\n",
       "    </tr>\n",
       "    <tr>\n",
       "      <td>2021-01-25</td>\n",
       "      <td>4793.569783</td>\n",
       "      <td>16847.401527</td>\n",
       "      <td>19174.752903</td>\n",
       "      <td>1342.308240</td>\n",
       "      <td>2733.102566</td>\n",
       "      <td>10.606185</td>\n",
       "      <td>216976.048682</td>\n",
       "      <td>28430.419714</td>\n",
       "      <td>-35.936421</td>\n",
       "      <td>69089.159518</td>\n",
       "      <td>...</td>\n",
       "      <td>6966.969707</td>\n",
       "      <td>7085.440928</td>\n",
       "      <td>0.123961</td>\n",
       "      <td>14994.752262</td>\n",
       "      <td>6.263636</td>\n",
       "      <td>42656.670510</td>\n",
       "      <td>90.494810</td>\n",
       "      <td>1966.319804</td>\n",
       "      <td>2584.198790</td>\n",
       "      <td>1.676534e+07</td>\n",
       "    </tr>\n",
       "  </tbody>\n",
       "</table>\n",
       "<p>30 rows × 193 columns</p>\n",
       "</div>"
      ],
      "text/plain": [
       "            Afghanistan       Albania       Algeria      Andorra       Angola  \\\n",
       "2020-12-27   281.607590    526.743322    821.239920    70.675278    76.709105   \n",
       "2020-12-28   635.978855   1051.513405   1746.814229   179.035132   166.863422   \n",
       "2020-12-29   934.178753   1667.119720   2698.982504   231.428692   276.941059   \n",
       "2020-12-30  1129.062316   2175.153386   3587.842883   283.916442   378.664621   \n",
       "2020-12-31  1276.627510   2783.937340   4588.073609   367.189556   462.768815   \n",
       "2021-01-01  1409.978230   3330.280533   5467.836862   392.827287   543.048394   \n",
       "2021-01-02  1604.419458   3858.261580   6348.559358   474.180874   620.249371   \n",
       "2021-01-03  1750.236920   4380.356934   7078.556829   534.718384   698.233504   \n",
       "2021-01-04  1919.998973   5034.850334   7924.033041   616.455432   792.970538   \n",
       "2021-01-05  2030.149170   5627.472037   8725.969103   680.174247   891.365512   \n",
       "2021-01-06  2211.448144   6205.598533   9471.223347   694.242485   995.858080   \n",
       "2021-01-07  2296.709353   6852.060577  10223.870379   739.068474  1081.008671   \n",
       "2021-01-08  2391.932323   7396.313828  10867.919350   735.167718  1147.641469   \n",
       "2021-01-09  2508.995282   8111.571733  11473.979073   799.223903  1231.727227   \n",
       "2021-01-10  2610.166785   8695.389520  12085.733720   816.993433  1325.252284   \n",
       "2021-01-11  2724.848645   9223.685624  12654.712853   883.593713  1433.151582   \n",
       "2021-01-12  2854.219392   9789.440812  13212.525830   928.765609  1560.880769   \n",
       "2021-01-13  2994.920709  10385.130517  13767.675537   929.057496  1637.017734   \n",
       "2021-01-14  3090.981419  11002.175748  14259.014654   997.815074  1723.483051   \n",
       "2021-01-15  3193.300483  11669.462704  14694.037753  1003.236948  1826.886244   \n",
       "2021-01-16  3339.847632  12268.493288  15176.963335  1054.586387  1895.815554   \n",
       "2021-01-17  3538.941234  12883.121430  15553.920987  1084.524233  1990.843184   \n",
       "2021-01-18  3721.310295  13477.560655  15945.269883  1133.936461  2062.987201   \n",
       "2021-01-19  3795.966741  14001.264623  16429.173769  1186.326484  2152.962058   \n",
       "2021-01-20  3977.133827  14519.001971  16922.574406  1179.223001  2290.757709   \n",
       "2021-01-21  4069.364889  15035.818362  17292.348103  1266.702878  2387.412544   \n",
       "2021-01-22  4255.049773  15489.784548  17759.470263  1269.957456  2481.879006   \n",
       "2021-01-23  4378.260900  15922.534738  18209.564275  1293.330500  2559.796717   \n",
       "2021-01-24  4623.829754  16399.206117  18663.356813  1313.457779  2620.397781   \n",
       "2021-01-25  4793.569783  16847.401527  19174.752903  1342.308240  2733.102566   \n",
       "\n",
       "            Antigua and Barbuda      Argentina       Armenia   Australia  \\\n",
       "2020-12-27             0.184816    6768.309961    423.908330   79.271855   \n",
       "2020-12-28            -4.582730   15987.005790   1133.329363  134.125067   \n",
       "2020-12-29            -3.883135   28240.217315   2159.891849  183.000720   \n",
       "2020-12-30            -0.828362   39630.088210   3593.141695  195.195318   \n",
       "2020-12-31             2.202771   46713.846159   5072.449683  224.310294   \n",
       "2021-01-01             3.914450   50991.367651   5909.677564  218.356475   \n",
       "2021-01-02             3.488873   54614.023492   6714.684278  265.200416   \n",
       "2021-01-03             2.408757   60392.387144   7156.943195  266.990521   \n",
       "2021-01-04            -1.253705   68269.972712   7794.681046  247.270332   \n",
       "2021-01-05            -1.191920   78315.484658   8936.115699  223.086908   \n",
       "2021-01-06             4.114372   88994.860906  10586.771143  229.089795   \n",
       "2021-01-07             4.126899   95896.979889  12120.923422  197.486218   \n",
       "2021-01-08             3.449883   99893.943845  13285.484266  105.179360   \n",
       "2021-01-09             1.919628  103462.550124  13973.625553   65.079629   \n",
       "2021-01-10             0.087467  108836.549647  14574.440598  -37.627930   \n",
       "2021-01-11             0.423665  117634.034147  15448.042614 -104.449006   \n",
       "2021-01-12            -0.874017  127040.333379  16728.723370 -161.564465   \n",
       "2021-01-13            -0.807732  135823.514514  18530.311544 -217.206682   \n",
       "2021-01-14            -0.989925  142619.782839  20124.458478 -241.800330   \n",
       "2021-01-15             1.238127  148075.471430  21000.127105 -245.983240   \n",
       "2021-01-16             2.033564  151577.404745  21671.368355 -268.375112   \n",
       "2021-01-17             3.816261  156575.035180  22016.478806 -299.092282   \n",
       "2021-01-18             2.131337  164530.960871  22546.940403 -243.571551   \n",
       "2021-01-19             0.781680  174212.662599  23645.175864 -203.528069   \n",
       "2021-01-20             5.558986  185170.322595  25395.594124 -192.226058   \n",
       "2021-01-21             5.212771  194247.182623  26689.992631 -255.829251   \n",
       "2021-01-22             7.244205  200190.167190  27562.606315 -209.258947   \n",
       "2021-01-23             9.398151  203857.376744  27983.652811 -156.622967   \n",
       "2021-01-24            11.141590  208485.316865  28138.531259 -116.700886   \n",
       "2021-01-25            10.606185  216976.048682  28430.419714  -35.936421   \n",
       "\n",
       "                 Austria  ...      Uruguay   Uzbekistan   Vanuatu  \\\n",
       "2020-12-27   2344.701275  ...    72.599255   187.513404  0.093818   \n",
       "2020-12-28   5247.804742  ...   173.559126   455.477337  0.011277   \n",
       "2020-12-29   8963.476982  ...   291.195890   756.016452 -0.005978   \n",
       "2020-12-30  13130.799272  ...   424.287110   996.379117  0.054974   \n",
       "2020-12-31  16908.611965  ...   583.603649  1266.405696 -0.021851   \n",
       "2021-01-01  19745.843386  ...   712.348530  1499.659876 -0.109896   \n",
       "2021-01-02  21669.276559  ...   847.027652  1634.242454 -0.114325   \n",
       "2021-01-03  22072.331083  ...   974.477730  1950.981427 -0.112572   \n",
       "2021-01-04  22889.751349  ...  1087.835833  2154.432739 -0.086686   \n",
       "2021-01-05  25387.934883  ...  1219.308491  2305.954694 -0.069144   \n",
       "2021-01-06  28443.932036  ...  1371.439324  2469.418183 -0.076887   \n",
       "2021-01-07  31826.673540  ...  1568.672721  2712.408290 -0.182431   \n",
       "2021-01-08  33860.509789  ...  1768.989427  2873.001092 -0.124130   \n",
       "2021-01-09  34237.835770  ...  1982.680319  3113.016314 -0.151040   \n",
       "2021-01-10  34552.088731  ...  2142.235779  3307.375089 -0.171690   \n",
       "2021-01-11  35846.807504  ...  2361.372746  3481.662133 -0.110719   \n",
       "2021-01-12  38146.469775  ...  2589.716868  3665.966077 -0.094986   \n",
       "2021-01-13  41910.562395  ...  2843.585841  3855.386563 -0.109220   \n",
       "2021-01-14  44617.620711  ...  3132.510908  4107.507330 -0.143705   \n",
       "2021-01-15  46311.873433  ...  3447.271045  4459.731163 -0.243281   \n",
       "2021-01-16  47402.764574  ...  3769.060789  4720.330205 -0.250467   \n",
       "2021-01-17  48199.812026  ...  4038.539586  4988.777270 -0.117684   \n",
       "2021-01-18  50390.410316  ...  4349.171828  5126.272024 -0.001598   \n",
       "2021-01-19  53218.191761  ...  4665.057729  5414.385455  0.087064   \n",
       "2021-01-20  56865.653421  ...  5046.235738  5637.936221  0.072981   \n",
       "2021-01-21  60069.525656  ...  5431.818308  5880.174818  0.077524   \n",
       "2021-01-22  62382.056573  ...  5757.781273  6274.240330  0.087522   \n",
       "2021-01-23  64132.270909  ...  6178.634286  6534.206310  0.093132   \n",
       "2021-01-24  66348.252219  ...  6562.438443  6798.636187  0.142111   \n",
       "2021-01-25  69089.159518  ...  6966.969707  7085.440928  0.123961   \n",
       "\n",
       "               Venezuela    Vietnam  West Bank and Gaza       Yemen  \\\n",
       "2020-12-27    397.804307   8.396216         1124.073947   -0.082740   \n",
       "2020-12-28    895.588926  14.590576         2523.907790   12.900789   \n",
       "2020-12-29   1400.097027  18.899329         4022.946510   24.928935   \n",
       "2020-12-30   1839.926430  20.662625         5425.290100   45.667169   \n",
       "2020-12-31   2321.946295  24.764955         6726.286641   56.024605   \n",
       "2021-01-01   2794.073178  23.018946         8260.352504   55.594264   \n",
       "2021-01-02   3337.980535  24.613406         9729.696719   61.086974   \n",
       "2021-01-03   3757.931977  24.926938        11196.506490   64.128754   \n",
       "2021-01-04   4202.367205  24.535593        12895.568126   59.147001   \n",
       "2021-01-05   4646.349982  22.348409        14664.239703   74.687995   \n",
       "2021-01-06   5176.239241  21.323965        16466.347096   85.114978   \n",
       "2021-01-07   5652.748450  21.501489        18069.776577   92.819986   \n",
       "2021-01-08   6148.415645  15.070011        19424.744164   96.033274   \n",
       "2021-01-09   6479.408803   7.125694        20738.507747   98.152800   \n",
       "2021-01-10   7009.416802   2.551574        22263.025159  104.317528   \n",
       "2021-01-11   7412.435160   0.559906        23577.130920  101.204507   \n",
       "2021-01-12   8068.727427  -0.893655        24975.168545  103.567225   \n",
       "2021-01-13   8697.525804  -3.491540        26395.169752  109.959896   \n",
       "2021-01-14   9295.214399  -5.095877        27699.838596  109.552936   \n",
       "2021-01-15   9758.175011 -12.033359        28996.328284  101.885990   \n",
       "2021-01-16  10298.636978 -14.298169        30401.109517  105.843571   \n",
       "2021-01-17  10817.832810 -15.464722        31774.828586  104.515314   \n",
       "2021-01-18  11444.105697  -9.611195        33263.834558  106.290386   \n",
       "2021-01-19  11928.020998  -6.533953        34898.435996   96.074802   \n",
       "2021-01-20  12473.023603  -4.674614        36374.277679   97.241105   \n",
       "2021-01-21  12991.307188  -7.054248        37641.169283  100.802747   \n",
       "2021-01-22  13530.618483  -4.191757        38741.308314   91.959107   \n",
       "2021-01-23  14070.440908  -0.406353        39948.961564  100.116175   \n",
       "2021-01-24  14497.952812   1.750771        41144.824478   97.815504   \n",
       "2021-01-25  14994.752262   6.263636        42656.670510   90.494810   \n",
       "\n",
       "                 Zambia     Zimbabwe         World  \n",
       "2020-12-27     2.765944    59.947097  5.609675e+05  \n",
       "2020-12-28    25.781761   140.948278  1.036166e+06  \n",
       "2020-12-29    23.890500   226.170750  1.541034e+06  \n",
       "2020-12-30    30.056148   276.893503  2.136062e+06  \n",
       "2020-12-31    76.300895   333.437348  2.728720e+06  \n",
       "2021-01-01    99.664857   413.930033  3.226664e+06  \n",
       "2021-01-02   146.580006   482.419046  3.599546e+06  \n",
       "2021-01-03   239.122899   503.579972  4.010557e+06  \n",
       "2021-01-04   218.736039   655.446214  4.529888e+06  \n",
       "2021-01-05   221.570473   762.522295  5.170537e+06  \n",
       "2021-01-06   255.351338   881.327542  5.790150e+06  \n",
       "2021-01-07   354.623181  1042.872200  6.437664e+06  \n",
       "2021-01-08   468.288587  1126.485259  6.922400e+06  \n",
       "2021-01-09   436.142772  1214.041783  7.409209e+06  \n",
       "2021-01-10   523.630134  1268.896854  7.984304e+06  \n",
       "2021-01-11   583.005012  1340.737636  8.618262e+06  \n",
       "2021-01-12   547.745037  1417.782985  9.178217e+06  \n",
       "2021-01-13   606.988136  1507.555567  1.000800e+07  \n",
       "2021-01-14   757.768243  1588.226665  1.066117e+07  \n",
       "2021-01-15   838.202468  1635.075636  1.115783e+07  \n",
       "2021-01-16   917.357018  1694.562628  1.159939e+07  \n",
       "2021-01-17  1004.056109  1781.883023  1.194740e+07  \n",
       "2021-01-18  1160.834121  1865.524731  1.268329e+07  \n",
       "2021-01-19  1174.505053  2031.181779  1.332602e+07  \n",
       "2021-01-20  1260.770857  2127.070271  1.410966e+07  \n",
       "2021-01-21  1439.910921  2223.108071  1.480327e+07  \n",
       "2021-01-22  1583.129448  2271.708390  1.528203e+07  \n",
       "2021-01-23  1645.500158  2368.633406  1.568737e+07  \n",
       "2021-01-24  1764.472364  2473.147432  1.620541e+07  \n",
       "2021-01-25  1966.319804  2584.198790  1.676534e+07  \n",
       "\n",
       "[30 rows x 193 columns]"
      ]
     },
     "execution_count": 69,
     "metadata": {},
     "output_type": "execute_result"
    }
   ],
   "source": [
    "df_pred = pd.DataFrame(pred,index=index,columns=df_confirm.columns.tolist()).cumsum()"
   ]
  },
  {
   "cell_type": "code",
   "execution_count": 68,
   "metadata": {},
   "outputs": [
    {
     "data": {
      "text/plain": [
       "Timestamp('2020-12-26 00:00:00')"
      ]
     },
     "execution_count": 68,
     "metadata": {},
     "output_type": "execute_result"
    }
   ],
   "source": [
    "df_confirm[-PRED-1:].index[0]"
   ]
  },
  {
   "cell_type": "code",
   "execution_count": 3237,
   "metadata": {},
   "outputs": [],
   "source": [
    "def get_mse (model,dataset,country2id,country_name,PRED=PRED):\n",
    "     # get verage of 100 predictions\n",
    "    mc_result =np.stack([model(dataset['X_test'],training =True).numpy() for sample in range(100)])\n",
    "    pred = cs.inverse_transform(mc_result.mean(axis=0).squeeze())\n",
    "    _id = country2id[country_name]\n",
    "    _pred = pred[:,_id]\n",
    "    _actual = df_test[-PRED:][country_name]\n",
    "    return mean_squared_error(_actual,_pred)"
   ]
  },
  {
   "cell_type": "code",
   "execution_count": 3183,
   "metadata": {},
   "outputs": [],
   "source": [
    "import pickle"
   ]
  },
  {
   "cell_type": "code",
   "execution_count": 3184,
   "metadata": {},
   "outputs": [],
   "source": [
    "with open('arima_result.pkl','rb') as f:\n",
    "    arima_mse = pickle.load(f)"
   ]
  },
  {
   "cell_type": "code",
   "execution_count": 3239,
   "metadata": {},
   "outputs": [],
   "source": [
    "linear_mse={}\n",
    "dense_mse={}\n",
    "cnn_mse={}\n",
    "rnn_mse={}\n",
    "lstm_mse={}\n",
    "for c in arima_mse.keys():\n",
    "        linear_mse[c] = get_mse(multi_linear_model,dataset,country2id,c)\n",
    "        dense_mse[c] = get_mse(multi_dense_model,dataset,country2id,c)\n",
    "        cnn_mse[c] = get_mse(multi_conv_model,dataset,country2id,c)\n",
    "        rnn_mse[c] = get_mse(multi_rnn_model,dataset,country2id,c)\n",
    "        lstm_mse[c] = get_mse(multi_lstm_model,dataset,country2id,c)\n",
    "    \n",
    "    "
   ]
  },
  {
   "cell_type": "code",
   "execution_count": 3240,
   "metadata": {},
   "outputs": [],
   "source": [
    "result = pd.DataFrame.from_dict(arima_mse,orient='index',columns=['ARIMA'])"
   ]
  },
  {
   "cell_type": "code",
   "execution_count": 3241,
   "metadata": {},
   "outputs": [],
   "source": [
    "result['Linear'] = linear_mse.values()\n",
    "result['Dense'] = dense_mse.values()\n",
    "result['Conv'] = cnn_mse.values()\n",
    "result['RNN'] = rnn_mse.values()\n",
    "result['LSTM'] = lstm_mse.values()"
   ]
  },
  {
   "cell_type": "code",
   "execution_count": 3242,
   "metadata": {},
   "outputs": [],
   "source": [
    "def highlight_min(data, color='yellow'):\n",
    "    '''\n",
    "    highlight the maximum in a Series or DataFrame\n",
    "    '''\n",
    "    attr = 'background-color: {}'.format(color)\n",
    "    if data.ndim == 1:  # Series from .apply(axis=0) or axis=1\n",
    "        is_min = data == data.min()\n",
    "        return [attr if v else '' for v in is_min]\n",
    "    else:  # from .apply(axis=None)\n",
    "        is_min = data == data.min().min()\n",
    "        return pd.DataFrame(np.where(is_min, attr, ''),\n",
    "                            index=data.index, columns=data.columns)"
   ]
  },
  {
   "cell_type": "code",
   "execution_count": 3243,
   "metadata": {},
   "outputs": [],
   "source": [
    "result = result.apply(np.sqrt)"
   ]
  },
  {
   "cell_type": "code",
   "execution_count": 3244,
   "metadata": {},
   "outputs": [
    {
     "data": {
      "text/html": [
       "<style  type=\"text/css\" >\n",
       "    #T_5772c9e0_5f3f_11eb_a2ae_8c85906984a4row0_col5 {\n",
       "            background-color:  yellow;\n",
       "        }    #T_5772c9e0_5f3f_11eb_a2ae_8c85906984a4row1_col5 {\n",
       "            background-color:  yellow;\n",
       "        }    #T_5772c9e0_5f3f_11eb_a2ae_8c85906984a4row2_col5 {\n",
       "            background-color:  yellow;\n",
       "        }    #T_5772c9e0_5f3f_11eb_a2ae_8c85906984a4row3_col3 {\n",
       "            background-color:  yellow;\n",
       "        }    #T_5772c9e0_5f3f_11eb_a2ae_8c85906984a4row4_col3 {\n",
       "            background-color:  yellow;\n",
       "        }    #T_5772c9e0_5f3f_11eb_a2ae_8c85906984a4row5_col5 {\n",
       "            background-color:  yellow;\n",
       "        }    #T_5772c9e0_5f3f_11eb_a2ae_8c85906984a4row6_col3 {\n",
       "            background-color:  yellow;\n",
       "        }    #T_5772c9e0_5f3f_11eb_a2ae_8c85906984a4row7_col5 {\n",
       "            background-color:  yellow;\n",
       "        }    #T_5772c9e0_5f3f_11eb_a2ae_8c85906984a4row8_col4 {\n",
       "            background-color:  yellow;\n",
       "        }    #T_5772c9e0_5f3f_11eb_a2ae_8c85906984a4row9_col2 {\n",
       "            background-color:  yellow;\n",
       "        }    #T_5772c9e0_5f3f_11eb_a2ae_8c85906984a4row10_col1 {\n",
       "            background-color:  yellow;\n",
       "        }    #T_5772c9e0_5f3f_11eb_a2ae_8c85906984a4row11_col1 {\n",
       "            background-color:  yellow;\n",
       "        }    #T_5772c9e0_5f3f_11eb_a2ae_8c85906984a4row12_col1 {\n",
       "            background-color:  yellow;\n",
       "        }    #T_5772c9e0_5f3f_11eb_a2ae_8c85906984a4row13_col5 {\n",
       "            background-color:  yellow;\n",
       "        }    #T_5772c9e0_5f3f_11eb_a2ae_8c85906984a4row14_col1 {\n",
       "            background-color:  yellow;\n",
       "        }    #T_5772c9e0_5f3f_11eb_a2ae_8c85906984a4row15_col3 {\n",
       "            background-color:  yellow;\n",
       "        }    #T_5772c9e0_5f3f_11eb_a2ae_8c85906984a4row16_col0 {\n",
       "            background-color:  yellow;\n",
       "        }    #T_5772c9e0_5f3f_11eb_a2ae_8c85906984a4row17_col4 {\n",
       "            background-color:  yellow;\n",
       "        }    #T_5772c9e0_5f3f_11eb_a2ae_8c85906984a4row18_col3 {\n",
       "            background-color:  yellow;\n",
       "        }    #T_5772c9e0_5f3f_11eb_a2ae_8c85906984a4row19_col5 {\n",
       "            background-color:  yellow;\n",
       "        }    #T_5772c9e0_5f3f_11eb_a2ae_8c85906984a4row20_col4 {\n",
       "            background-color:  yellow;\n",
       "        }    #T_5772c9e0_5f3f_11eb_a2ae_8c85906984a4row21_col4 {\n",
       "            background-color:  yellow;\n",
       "        }    #T_5772c9e0_5f3f_11eb_a2ae_8c85906984a4row22_col5 {\n",
       "            background-color:  yellow;\n",
       "        }    #T_5772c9e0_5f3f_11eb_a2ae_8c85906984a4row23_col1 {\n",
       "            background-color:  yellow;\n",
       "        }    #T_5772c9e0_5f3f_11eb_a2ae_8c85906984a4row24_col3 {\n",
       "            background-color:  yellow;\n",
       "        }</style><table id=\"T_5772c9e0_5f3f_11eb_a2ae_8c85906984a4\" ><thead>    <tr>        <th class=\"blank level0\" ></th>        <th class=\"col_heading level0 col0\" >ARIMA</th>        <th class=\"col_heading level0 col1\" >Linear</th>        <th class=\"col_heading level0 col2\" >Dense</th>        <th class=\"col_heading level0 col3\" >Conv</th>        <th class=\"col_heading level0 col4\" >RNN</th>        <th class=\"col_heading level0 col5\" >LSTM</th>    </tr></thead><tbody>\n",
       "                <tr>\n",
       "                        <th id=\"T_5772c9e0_5f3f_11eb_a2ae_8c85906984a4level0_row0\" class=\"row_heading level0 row0\" >World</th>\n",
       "                        <td id=\"T_5772c9e0_5f3f_11eb_a2ae_8c85906984a4row0_col0\" class=\"data row0 col0\" >295141</td>\n",
       "                        <td id=\"T_5772c9e0_5f3f_11eb_a2ae_8c85906984a4row0_col1\" class=\"data row0 col1\" >138066</td>\n",
       "                        <td id=\"T_5772c9e0_5f3f_11eb_a2ae_8c85906984a4row0_col2\" class=\"data row0 col2\" >249438</td>\n",
       "                        <td id=\"T_5772c9e0_5f3f_11eb_a2ae_8c85906984a4row0_col3\" class=\"data row0 col3\" >138118</td>\n",
       "                        <td id=\"T_5772c9e0_5f3f_11eb_a2ae_8c85906984a4row0_col4\" class=\"data row0 col4\" >134173</td>\n",
       "                        <td id=\"T_5772c9e0_5f3f_11eb_a2ae_8c85906984a4row0_col5\" class=\"data row0 col5\" >115450</td>\n",
       "            </tr>\n",
       "            <tr>\n",
       "                        <th id=\"T_5772c9e0_5f3f_11eb_a2ae_8c85906984a4level0_row1\" class=\"row_heading level0 row1\" >US</th>\n",
       "                        <td id=\"T_5772c9e0_5f3f_11eb_a2ae_8c85906984a4row1_col0\" class=\"data row1 col0\" >820338</td>\n",
       "                        <td id=\"T_5772c9e0_5f3f_11eb_a2ae_8c85906984a4row1_col1\" class=\"data row1 col1\" >66477.5</td>\n",
       "                        <td id=\"T_5772c9e0_5f3f_11eb_a2ae_8c85906984a4row1_col2\" class=\"data row1 col2\" >67576.4</td>\n",
       "                        <td id=\"T_5772c9e0_5f3f_11eb_a2ae_8c85906984a4row1_col3\" class=\"data row1 col3\" >60430.3</td>\n",
       "                        <td id=\"T_5772c9e0_5f3f_11eb_a2ae_8c85906984a4row1_col4\" class=\"data row1 col4\" >72538</td>\n",
       "                        <td id=\"T_5772c9e0_5f3f_11eb_a2ae_8c85906984a4row1_col5\" class=\"data row1 col5\" >48859.6</td>\n",
       "            </tr>\n",
       "            <tr>\n",
       "                        <th id=\"T_5772c9e0_5f3f_11eb_a2ae_8c85906984a4level0_row2\" class=\"row_heading level0 row2\" >India</th>\n",
       "                        <td id=\"T_5772c9e0_5f3f_11eb_a2ae_8c85906984a4row2_col0\" class=\"data row2 col0\" >26247.2</td>\n",
       "                        <td id=\"T_5772c9e0_5f3f_11eb_a2ae_8c85906984a4row2_col1\" class=\"data row2 col1\" >48516.3</td>\n",
       "                        <td id=\"T_5772c9e0_5f3f_11eb_a2ae_8c85906984a4row2_col2\" class=\"data row2 col2\" >32059.7</td>\n",
       "                        <td id=\"T_5772c9e0_5f3f_11eb_a2ae_8c85906984a4row2_col3\" class=\"data row2 col3\" >20212</td>\n",
       "                        <td id=\"T_5772c9e0_5f3f_11eb_a2ae_8c85906984a4row2_col4\" class=\"data row2 col4\" >32144.4</td>\n",
       "                        <td id=\"T_5772c9e0_5f3f_11eb_a2ae_8c85906984a4row2_col5\" class=\"data row2 col5\" >16700.9</td>\n",
       "            </tr>\n",
       "            <tr>\n",
       "                        <th id=\"T_5772c9e0_5f3f_11eb_a2ae_8c85906984a4level0_row3\" class=\"row_heading level0 row3\" >Brazil</th>\n",
       "                        <td id=\"T_5772c9e0_5f3f_11eb_a2ae_8c85906984a4row3_col0\" class=\"data row3 col0\" >57488.3</td>\n",
       "                        <td id=\"T_5772c9e0_5f3f_11eb_a2ae_8c85906984a4row3_col1\" class=\"data row3 col1\" >18234.4</td>\n",
       "                        <td id=\"T_5772c9e0_5f3f_11eb_a2ae_8c85906984a4row3_col2\" class=\"data row3 col2\" >22021.7</td>\n",
       "                        <td id=\"T_5772c9e0_5f3f_11eb_a2ae_8c85906984a4row3_col3\" class=\"data row3 col3\" >18136.8</td>\n",
       "                        <td id=\"T_5772c9e0_5f3f_11eb_a2ae_8c85906984a4row3_col4\" class=\"data row3 col4\" >18266.2</td>\n",
       "                        <td id=\"T_5772c9e0_5f3f_11eb_a2ae_8c85906984a4row3_col5\" class=\"data row3 col5\" >20153.6</td>\n",
       "            </tr>\n",
       "            <tr>\n",
       "                        <th id=\"T_5772c9e0_5f3f_11eb_a2ae_8c85906984a4level0_row4\" class=\"row_heading level0 row4\" >Russia</th>\n",
       "                        <td id=\"T_5772c9e0_5f3f_11eb_a2ae_8c85906984a4row4_col0\" class=\"data row4 col0\" >68747.4</td>\n",
       "                        <td id=\"T_5772c9e0_5f3f_11eb_a2ae_8c85906984a4row4_col1\" class=\"data row4 col1\" >3988.39</td>\n",
       "                        <td id=\"T_5772c9e0_5f3f_11eb_a2ae_8c85906984a4row4_col2\" class=\"data row4 col2\" >5808.55</td>\n",
       "                        <td id=\"T_5772c9e0_5f3f_11eb_a2ae_8c85906984a4row4_col3\" class=\"data row4 col3\" >3047.55</td>\n",
       "                        <td id=\"T_5772c9e0_5f3f_11eb_a2ae_8c85906984a4row4_col4\" class=\"data row4 col4\" >5362.41</td>\n",
       "                        <td id=\"T_5772c9e0_5f3f_11eb_a2ae_8c85906984a4row4_col5\" class=\"data row4 col5\" >4539.63</td>\n",
       "            </tr>\n",
       "            <tr>\n",
       "                        <th id=\"T_5772c9e0_5f3f_11eb_a2ae_8c85906984a4level0_row5\" class=\"row_heading level0 row5\" >United Kingdom</th>\n",
       "                        <td id=\"T_5772c9e0_5f3f_11eb_a2ae_8c85906984a4row5_col0\" class=\"data row5 col0\" >147838</td>\n",
       "                        <td id=\"T_5772c9e0_5f3f_11eb_a2ae_8c85906984a4row5_col1\" class=\"data row5 col1\" >36256.5</td>\n",
       "                        <td id=\"T_5772c9e0_5f3f_11eb_a2ae_8c85906984a4row5_col2\" class=\"data row5 col2\" >37583.6</td>\n",
       "                        <td id=\"T_5772c9e0_5f3f_11eb_a2ae_8c85906984a4row5_col3\" class=\"data row5 col3\" >35191.7</td>\n",
       "                        <td id=\"T_5772c9e0_5f3f_11eb_a2ae_8c85906984a4row5_col4\" class=\"data row5 col4\" >35095.9</td>\n",
       "                        <td id=\"T_5772c9e0_5f3f_11eb_a2ae_8c85906984a4row5_col5\" class=\"data row5 col5\" >32463.3</td>\n",
       "            </tr>\n",
       "            <tr>\n",
       "                        <th id=\"T_5772c9e0_5f3f_11eb_a2ae_8c85906984a4level0_row6\" class=\"row_heading level0 row6\" >France</th>\n",
       "                        <td id=\"T_5772c9e0_5f3f_11eb_a2ae_8c85906984a4row6_col0\" class=\"data row6 col0\" >19911.6</td>\n",
       "                        <td id=\"T_5772c9e0_5f3f_11eb_a2ae_8c85906984a4row6_col1\" class=\"data row6 col1\" >22703.8</td>\n",
       "                        <td id=\"T_5772c9e0_5f3f_11eb_a2ae_8c85906984a4row6_col2\" class=\"data row6 col2\" >20567.4</td>\n",
       "                        <td id=\"T_5772c9e0_5f3f_11eb_a2ae_8c85906984a4row6_col3\" class=\"data row6 col3\" >12320.9</td>\n",
       "                        <td id=\"T_5772c9e0_5f3f_11eb_a2ae_8c85906984a4row6_col4\" class=\"data row6 col4\" >16290.1</td>\n",
       "                        <td id=\"T_5772c9e0_5f3f_11eb_a2ae_8c85906984a4row6_col5\" class=\"data row6 col5\" >13112.1</td>\n",
       "            </tr>\n",
       "            <tr>\n",
       "                        <th id=\"T_5772c9e0_5f3f_11eb_a2ae_8c85906984a4level0_row7\" class=\"row_heading level0 row7\" >Spain</th>\n",
       "                        <td id=\"T_5772c9e0_5f3f_11eb_a2ae_8c85906984a4row7_col0\" class=\"data row7 col0\" >166111</td>\n",
       "                        <td id=\"T_5772c9e0_5f3f_11eb_a2ae_8c85906984a4row7_col1\" class=\"data row7 col1\" >26631.4</td>\n",
       "                        <td id=\"T_5772c9e0_5f3f_11eb_a2ae_8c85906984a4row7_col2\" class=\"data row7 col2\" >26110.9</td>\n",
       "                        <td id=\"T_5772c9e0_5f3f_11eb_a2ae_8c85906984a4row7_col3\" class=\"data row7 col3\" >26101.4</td>\n",
       "                        <td id=\"T_5772c9e0_5f3f_11eb_a2ae_8c85906984a4row7_col4\" class=\"data row7 col4\" >26271.8</td>\n",
       "                        <td id=\"T_5772c9e0_5f3f_11eb_a2ae_8c85906984a4row7_col5\" class=\"data row7 col5\" >25948.1</td>\n",
       "            </tr>\n",
       "            <tr>\n",
       "                        <th id=\"T_5772c9e0_5f3f_11eb_a2ae_8c85906984a4level0_row8\" class=\"row_heading level0 row8\" >Italy</th>\n",
       "                        <td id=\"T_5772c9e0_5f3f_11eb_a2ae_8c85906984a4row8_col0\" class=\"data row8 col0\" >14534.7</td>\n",
       "                        <td id=\"T_5772c9e0_5f3f_11eb_a2ae_8c85906984a4row8_col1\" class=\"data row8 col1\" >4978.55</td>\n",
       "                        <td id=\"T_5772c9e0_5f3f_11eb_a2ae_8c85906984a4row8_col2\" class=\"data row8 col2\" >8909.17</td>\n",
       "                        <td id=\"T_5772c9e0_5f3f_11eb_a2ae_8c85906984a4row8_col3\" class=\"data row8 col3\" >6400.56</td>\n",
       "                        <td id=\"T_5772c9e0_5f3f_11eb_a2ae_8c85906984a4row8_col4\" class=\"data row8 col4\" >4829.11</td>\n",
       "                        <td id=\"T_5772c9e0_5f3f_11eb_a2ae_8c85906984a4row8_col5\" class=\"data row8 col5\" >7280.41</td>\n",
       "            </tr>\n",
       "            <tr>\n",
       "                        <th id=\"T_5772c9e0_5f3f_11eb_a2ae_8c85906984a4level0_row9\" class=\"row_heading level0 row9\" >Turkey</th>\n",
       "                        <td id=\"T_5772c9e0_5f3f_11eb_a2ae_8c85906984a4row9_col0\" class=\"data row9 col0\" >16530.9</td>\n",
       "                        <td id=\"T_5772c9e0_5f3f_11eb_a2ae_8c85906984a4row9_col1\" class=\"data row9 col1\" >76007</td>\n",
       "                        <td id=\"T_5772c9e0_5f3f_11eb_a2ae_8c85906984a4row9_col2\" class=\"data row9 col2\" >15472.7</td>\n",
       "                        <td id=\"T_5772c9e0_5f3f_11eb_a2ae_8c85906984a4row9_col3\" class=\"data row9 col3\" >64480.1</td>\n",
       "                        <td id=\"T_5772c9e0_5f3f_11eb_a2ae_8c85906984a4row9_col4\" class=\"data row9 col4\" >83859.3</td>\n",
       "                        <td id=\"T_5772c9e0_5f3f_11eb_a2ae_8c85906984a4row9_col5\" class=\"data row9 col5\" >65263.4</td>\n",
       "            </tr>\n",
       "            <tr>\n",
       "                        <th id=\"T_5772c9e0_5f3f_11eb_a2ae_8c85906984a4level0_row10\" class=\"row_heading level0 row10\" >Germany</th>\n",
       "                        <td id=\"T_5772c9e0_5f3f_11eb_a2ae_8c85906984a4row10_col0\" class=\"data row10 col0\" >15504.7</td>\n",
       "                        <td id=\"T_5772c9e0_5f3f_11eb_a2ae_8c85906984a4row10_col1\" class=\"data row10 col1\" >9836.08</td>\n",
       "                        <td id=\"T_5772c9e0_5f3f_11eb_a2ae_8c85906984a4row10_col2\" class=\"data row10 col2\" >14052.2</td>\n",
       "                        <td id=\"T_5772c9e0_5f3f_11eb_a2ae_8c85906984a4row10_col3\" class=\"data row10 col3\" >10835.8</td>\n",
       "                        <td id=\"T_5772c9e0_5f3f_11eb_a2ae_8c85906984a4row10_col4\" class=\"data row10 col4\" >10800.6</td>\n",
       "                        <td id=\"T_5772c9e0_5f3f_11eb_a2ae_8c85906984a4row10_col5\" class=\"data row10 col5\" >12291.5</td>\n",
       "            </tr>\n",
       "            <tr>\n",
       "                        <th id=\"T_5772c9e0_5f3f_11eb_a2ae_8c85906984a4level0_row11\" class=\"row_heading level0 row11\" >Colombia</th>\n",
       "                        <td id=\"T_5772c9e0_5f3f_11eb_a2ae_8c85906984a4row11_col0\" class=\"data row11 col0\" >14828.5</td>\n",
       "                        <td id=\"T_5772c9e0_5f3f_11eb_a2ae_8c85906984a4row11_col1\" class=\"data row11 col1\" >5110.14</td>\n",
       "                        <td id=\"T_5772c9e0_5f3f_11eb_a2ae_8c85906984a4row11_col2\" class=\"data row11 col2\" >7014.62</td>\n",
       "                        <td id=\"T_5772c9e0_5f3f_11eb_a2ae_8c85906984a4row11_col3\" class=\"data row11 col3\" >6593.55</td>\n",
       "                        <td id=\"T_5772c9e0_5f3f_11eb_a2ae_8c85906984a4row11_col4\" class=\"data row11 col4\" >5373.66</td>\n",
       "                        <td id=\"T_5772c9e0_5f3f_11eb_a2ae_8c85906984a4row11_col5\" class=\"data row11 col5\" >6440.02</td>\n",
       "            </tr>\n",
       "            <tr>\n",
       "                        <th id=\"T_5772c9e0_5f3f_11eb_a2ae_8c85906984a4level0_row12\" class=\"row_heading level0 row12\" >Argentina</th>\n",
       "                        <td id=\"T_5772c9e0_5f3f_11eb_a2ae_8c85906984a4row12_col0\" class=\"data row12 col0\" >13959.2</td>\n",
       "                        <td id=\"T_5772c9e0_5f3f_11eb_a2ae_8c85906984a4row12_col1\" class=\"data row12 col1\" >2494.89</td>\n",
       "                        <td id=\"T_5772c9e0_5f3f_11eb_a2ae_8c85906984a4row12_col2\" class=\"data row12 col2\" >5523.55</td>\n",
       "                        <td id=\"T_5772c9e0_5f3f_11eb_a2ae_8c85906984a4row12_col3\" class=\"data row12 col3\" >4936.68</td>\n",
       "                        <td id=\"T_5772c9e0_5f3f_11eb_a2ae_8c85906984a4row12_col4\" class=\"data row12 col4\" >3540.37</td>\n",
       "                        <td id=\"T_5772c9e0_5f3f_11eb_a2ae_8c85906984a4row12_col5\" class=\"data row12 col5\" >5278.87</td>\n",
       "            </tr>\n",
       "            <tr>\n",
       "                        <th id=\"T_5772c9e0_5f3f_11eb_a2ae_8c85906984a4level0_row13\" class=\"row_heading level0 row13\" >Mexico</th>\n",
       "                        <td id=\"T_5772c9e0_5f3f_11eb_a2ae_8c85906984a4row13_col0\" class=\"data row13 col0\" >22882</td>\n",
       "                        <td id=\"T_5772c9e0_5f3f_11eb_a2ae_8c85906984a4row13_col1\" class=\"data row13 col1\" >6810.26</td>\n",
       "                        <td id=\"T_5772c9e0_5f3f_11eb_a2ae_8c85906984a4row13_col2\" class=\"data row13 col2\" >6970.28</td>\n",
       "                        <td id=\"T_5772c9e0_5f3f_11eb_a2ae_8c85906984a4row13_col3\" class=\"data row13 col3\" >6115.9</td>\n",
       "                        <td id=\"T_5772c9e0_5f3f_11eb_a2ae_8c85906984a4row13_col4\" class=\"data row13 col4\" >7532.89</td>\n",
       "                        <td id=\"T_5772c9e0_5f3f_11eb_a2ae_8c85906984a4row13_col5\" class=\"data row13 col5\" >5868.26</td>\n",
       "            </tr>\n",
       "            <tr>\n",
       "                        <th id=\"T_5772c9e0_5f3f_11eb_a2ae_8c85906984a4level0_row14\" class=\"row_heading level0 row14\" >Poland</th>\n",
       "                        <td id=\"T_5772c9e0_5f3f_11eb_a2ae_8c85906984a4row14_col0\" class=\"data row14 col0\" >6246.55</td>\n",
       "                        <td id=\"T_5772c9e0_5f3f_11eb_a2ae_8c85906984a4row14_col1\" class=\"data row14 col1\" >4137.8</td>\n",
       "                        <td id=\"T_5772c9e0_5f3f_11eb_a2ae_8c85906984a4row14_col2\" class=\"data row14 col2\" >5968.04</td>\n",
       "                        <td id=\"T_5772c9e0_5f3f_11eb_a2ae_8c85906984a4row14_col3\" class=\"data row14 col3\" >4629.33</td>\n",
       "                        <td id=\"T_5772c9e0_5f3f_11eb_a2ae_8c85906984a4row14_col4\" class=\"data row14 col4\" >4870.12</td>\n",
       "                        <td id=\"T_5772c9e0_5f3f_11eb_a2ae_8c85906984a4row14_col5\" class=\"data row14 col5\" >6000.99</td>\n",
       "            </tr>\n",
       "            <tr>\n",
       "                        <th id=\"T_5772c9e0_5f3f_11eb_a2ae_8c85906984a4level0_row15\" class=\"row_heading level0 row15\" >South Africa</th>\n",
       "                        <td id=\"T_5772c9e0_5f3f_11eb_a2ae_8c85906984a4row15_col0\" class=\"data row15 col0\" >11442.6</td>\n",
       "                        <td id=\"T_5772c9e0_5f3f_11eb_a2ae_8c85906984a4row15_col1\" class=\"data row15 col1\" >11454.4</td>\n",
       "                        <td id=\"T_5772c9e0_5f3f_11eb_a2ae_8c85906984a4row15_col2\" class=\"data row15 col2\" >11771.9</td>\n",
       "                        <td id=\"T_5772c9e0_5f3f_11eb_a2ae_8c85906984a4row15_col3\" class=\"data row15 col3\" >9076.21</td>\n",
       "                        <td id=\"T_5772c9e0_5f3f_11eb_a2ae_8c85906984a4row15_col4\" class=\"data row15 col4\" >10120.8</td>\n",
       "                        <td id=\"T_5772c9e0_5f3f_11eb_a2ae_8c85906984a4row15_col5\" class=\"data row15 col5\" >10479.3</td>\n",
       "            </tr>\n",
       "            <tr>\n",
       "                        <th id=\"T_5772c9e0_5f3f_11eb_a2ae_8c85906984a4level0_row16\" class=\"row_heading level0 row16\" >Iran</th>\n",
       "                        <td id=\"T_5772c9e0_5f3f_11eb_a2ae_8c85906984a4row16_col0\" class=\"data row16 col0\" >785.854</td>\n",
       "                        <td id=\"T_5772c9e0_5f3f_11eb_a2ae_8c85906984a4row16_col1\" class=\"data row16 col1\" >3184.74</td>\n",
       "                        <td id=\"T_5772c9e0_5f3f_11eb_a2ae_8c85906984a4row16_col2\" class=\"data row16 col2\" >4289.09</td>\n",
       "                        <td id=\"T_5772c9e0_5f3f_11eb_a2ae_8c85906984a4row16_col3\" class=\"data row16 col3\" >4341.6</td>\n",
       "                        <td id=\"T_5772c9e0_5f3f_11eb_a2ae_8c85906984a4row16_col4\" class=\"data row16 col4\" >2659.99</td>\n",
       "                        <td id=\"T_5772c9e0_5f3f_11eb_a2ae_8c85906984a4row16_col5\" class=\"data row16 col5\" >5151.65</td>\n",
       "            </tr>\n",
       "            <tr>\n",
       "                        <th id=\"T_5772c9e0_5f3f_11eb_a2ae_8c85906984a4level0_row17\" class=\"row_heading level0 row17\" >Ukraine</th>\n",
       "                        <td id=\"T_5772c9e0_5f3f_11eb_a2ae_8c85906984a4row17_col0\" class=\"data row17 col0\" >29121</td>\n",
       "                        <td id=\"T_5772c9e0_5f3f_11eb_a2ae_8c85906984a4row17_col1\" class=\"data row17 col1\" >3745.16</td>\n",
       "                        <td id=\"T_5772c9e0_5f3f_11eb_a2ae_8c85906984a4row17_col2\" class=\"data row17 col2\" >5885.4</td>\n",
       "                        <td id=\"T_5772c9e0_5f3f_11eb_a2ae_8c85906984a4row17_col3\" class=\"data row17 col3\" >4359.97</td>\n",
       "                        <td id=\"T_5772c9e0_5f3f_11eb_a2ae_8c85906984a4row17_col4\" class=\"data row17 col4\" >3639.33</td>\n",
       "                        <td id=\"T_5772c9e0_5f3f_11eb_a2ae_8c85906984a4row17_col5\" class=\"data row17 col5\" >6022.05</td>\n",
       "            </tr>\n",
       "            <tr>\n",
       "                        <th id=\"T_5772c9e0_5f3f_11eb_a2ae_8c85906984a4level0_row18\" class=\"row_heading level0 row18\" >Peru</th>\n",
       "                        <td id=\"T_5772c9e0_5f3f_11eb_a2ae_8c85906984a4row18_col0\" class=\"data row18 col0\" >7421.81</td>\n",
       "                        <td id=\"T_5772c9e0_5f3f_11eb_a2ae_8c85906984a4row18_col1\" class=\"data row18 col1\" >5151.08</td>\n",
       "                        <td id=\"T_5772c9e0_5f3f_11eb_a2ae_8c85906984a4row18_col2\" class=\"data row18 col2\" >4769.51</td>\n",
       "                        <td id=\"T_5772c9e0_5f3f_11eb_a2ae_8c85906984a4row18_col3\" class=\"data row18 col3\" >4284.92</td>\n",
       "                        <td id=\"T_5772c9e0_5f3f_11eb_a2ae_8c85906984a4row18_col4\" class=\"data row18 col4\" >4351.85</td>\n",
       "                        <td id=\"T_5772c9e0_5f3f_11eb_a2ae_8c85906984a4row18_col5\" class=\"data row18 col5\" >4362.87</td>\n",
       "            </tr>\n",
       "            <tr>\n",
       "                        <th id=\"T_5772c9e0_5f3f_11eb_a2ae_8c85906984a4level0_row19\" class=\"row_heading level0 row19\" >Indonesia</th>\n",
       "                        <td id=\"T_5772c9e0_5f3f_11eb_a2ae_8c85906984a4row19_col0\" class=\"data row19 col0\" >24018.4</td>\n",
       "                        <td id=\"T_5772c9e0_5f3f_11eb_a2ae_8c85906984a4row19_col1\" class=\"data row19 col1\" >4405.34</td>\n",
       "                        <td id=\"T_5772c9e0_5f3f_11eb_a2ae_8c85906984a4row19_col2\" class=\"data row19 col2\" >4754.57</td>\n",
       "                        <td id=\"T_5772c9e0_5f3f_11eb_a2ae_8c85906984a4row19_col3\" class=\"data row19 col3\" >4715.69</td>\n",
       "                        <td id=\"T_5772c9e0_5f3f_11eb_a2ae_8c85906984a4row19_col4\" class=\"data row19 col4\" >5015.52</td>\n",
       "                        <td id=\"T_5772c9e0_5f3f_11eb_a2ae_8c85906984a4row19_col5\" class=\"data row19 col5\" >4196.49</td>\n",
       "            </tr>\n",
       "            <tr>\n",
       "                        <th id=\"T_5772c9e0_5f3f_11eb_a2ae_8c85906984a4level0_row20\" class=\"row_heading level0 row20\" >Netherlands</th>\n",
       "                        <td id=\"T_5772c9e0_5f3f_11eb_a2ae_8c85906984a4row20_col0\" class=\"data row20 col0\" >23053.1</td>\n",
       "                        <td id=\"T_5772c9e0_5f3f_11eb_a2ae_8c85906984a4row20_col1\" class=\"data row20 col1\" >3062.32</td>\n",
       "                        <td id=\"T_5772c9e0_5f3f_11eb_a2ae_8c85906984a4row20_col2\" class=\"data row20 col2\" >4380.88</td>\n",
       "                        <td id=\"T_5772c9e0_5f3f_11eb_a2ae_8c85906984a4row20_col3\" class=\"data row20 col3\" >3762.14</td>\n",
       "                        <td id=\"T_5772c9e0_5f3f_11eb_a2ae_8c85906984a4row20_col4\" class=\"data row20 col4\" >2587.11</td>\n",
       "                        <td id=\"T_5772c9e0_5f3f_11eb_a2ae_8c85906984a4row20_col5\" class=\"data row20 col5\" >3807.53</td>\n",
       "            </tr>\n",
       "            <tr>\n",
       "                        <th id=\"T_5772c9e0_5f3f_11eb_a2ae_8c85906984a4level0_row21\" class=\"row_heading level0 row21\" >Czechia</th>\n",
       "                        <td id=\"T_5772c9e0_5f3f_11eb_a2ae_8c85906984a4row21_col0\" class=\"data row21 col0\" >19995.2</td>\n",
       "                        <td id=\"T_5772c9e0_5f3f_11eb_a2ae_8c85906984a4row21_col1\" class=\"data row21 col1\" >7347.81</td>\n",
       "                        <td id=\"T_5772c9e0_5f3f_11eb_a2ae_8c85906984a4row21_col2\" class=\"data row21 col2\" >6763.22</td>\n",
       "                        <td id=\"T_5772c9e0_5f3f_11eb_a2ae_8c85906984a4row21_col3\" class=\"data row21 col3\" >7470.38</td>\n",
       "                        <td id=\"T_5772c9e0_5f3f_11eb_a2ae_8c85906984a4row21_col4\" class=\"data row21 col4\" >6173.19</td>\n",
       "                        <td id=\"T_5772c9e0_5f3f_11eb_a2ae_8c85906984a4row21_col5\" class=\"data row21 col5\" >6792.84</td>\n",
       "            </tr>\n",
       "            <tr>\n",
       "                        <th id=\"T_5772c9e0_5f3f_11eb_a2ae_8c85906984a4level0_row22\" class=\"row_heading level0 row22\" >Canada</th>\n",
       "                        <td id=\"T_5772c9e0_5f3f_11eb_a2ae_8c85906984a4row22_col0\" class=\"data row22 col0\" >25863.2</td>\n",
       "                        <td id=\"T_5772c9e0_5f3f_11eb_a2ae_8c85906984a4row22_col1\" class=\"data row22 col1\" >3411.82</td>\n",
       "                        <td id=\"T_5772c9e0_5f3f_11eb_a2ae_8c85906984a4row22_col2\" class=\"data row22 col2\" >3421.03</td>\n",
       "                        <td id=\"T_5772c9e0_5f3f_11eb_a2ae_8c85906984a4row22_col3\" class=\"data row22 col3\" >3179.57</td>\n",
       "                        <td id=\"T_5772c9e0_5f3f_11eb_a2ae_8c85906984a4row22_col4\" class=\"data row22 col4\" >3494.57</td>\n",
       "                        <td id=\"T_5772c9e0_5f3f_11eb_a2ae_8c85906984a4row22_col5\" class=\"data row22 col5\" >2692.27</td>\n",
       "            </tr>\n",
       "            <tr>\n",
       "                        <th id=\"T_5772c9e0_5f3f_11eb_a2ae_8c85906984a4level0_row23\" class=\"row_heading level0 row23\" >Romania</th>\n",
       "                        <td id=\"T_5772c9e0_5f3f_11eb_a2ae_8c85906984a4row23_col0\" class=\"data row23 col0\" >2492.34</td>\n",
       "                        <td id=\"T_5772c9e0_5f3f_11eb_a2ae_8c85906984a4row23_col1\" class=\"data row23 col1\" >1904.81</td>\n",
       "                        <td id=\"T_5772c9e0_5f3f_11eb_a2ae_8c85906984a4row23_col2\" class=\"data row23 col2\" >3350.19</td>\n",
       "                        <td id=\"T_5772c9e0_5f3f_11eb_a2ae_8c85906984a4row23_col3\" class=\"data row23 col3\" >2073.88</td>\n",
       "                        <td id=\"T_5772c9e0_5f3f_11eb_a2ae_8c85906984a4row23_col4\" class=\"data row23 col4\" >2381.34</td>\n",
       "                        <td id=\"T_5772c9e0_5f3f_11eb_a2ae_8c85906984a4row23_col5\" class=\"data row23 col5\" >3022.91</td>\n",
       "            </tr>\n",
       "            <tr>\n",
       "                        <th id=\"T_5772c9e0_5f3f_11eb_a2ae_8c85906984a4level0_row24\" class=\"row_heading level0 row24\" >Chile</th>\n",
       "                        <td id=\"T_5772c9e0_5f3f_11eb_a2ae_8c85906984a4row24_col0\" class=\"data row24 col0\" >6232.44</td>\n",
       "                        <td id=\"T_5772c9e0_5f3f_11eb_a2ae_8c85906984a4row24_col1\" class=\"data row24 col1\" >2236.85</td>\n",
       "                        <td id=\"T_5772c9e0_5f3f_11eb_a2ae_8c85906984a4row24_col2\" class=\"data row24 col2\" >2246.46</td>\n",
       "                        <td id=\"T_5772c9e0_5f3f_11eb_a2ae_8c85906984a4row24_col3\" class=\"data row24 col3\" >1572.89</td>\n",
       "                        <td id=\"T_5772c9e0_5f3f_11eb_a2ae_8c85906984a4row24_col4\" class=\"data row24 col4\" >3103.68</td>\n",
       "                        <td id=\"T_5772c9e0_5f3f_11eb_a2ae_8c85906984a4row24_col5\" class=\"data row24 col5\" >1936.94</td>\n",
       "            </tr>\n",
       "    </tbody></table>"
      ],
      "text/plain": [
       "<pandas.io.formats.style.Styler at 0x7f8009699bd0>"
      ]
     },
     "execution_count": 3244,
     "metadata": {},
     "output_type": "execute_result"
    }
   ],
   "source": [
    "result.style.apply(highlight_min,axis=1)"
   ]
  },
  {
   "cell_type": "code",
   "execution_count": null,
   "metadata": {},
   "outputs": [],
   "source": []
  }
 ],
 "metadata": {
  "kernelspec": {
   "display_name": "Python 3",
   "language": "python",
   "name": "python3"
  },
  "language_info": {
   "codemirror_mode": {
    "name": "ipython",
    "version": 3
   },
   "file_extension": ".py",
   "mimetype": "text/x-python",
   "name": "python",
   "nbconvert_exporter": "python",
   "pygments_lexer": "ipython3",
   "version": "3.7.4"
  }
 },
 "nbformat": 4,
 "nbformat_minor": 4
}
