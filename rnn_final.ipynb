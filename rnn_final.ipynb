{
 "cells": [
  {
   "cell_type": "code",
   "execution_count": 1,
   "metadata": {},
   "outputs": [],
   "source": [
    "import numpy as np\n",
    "import pandas as pd\n",
    "from matplotlib import pyplot as plt\n",
    "import seaborn as sns\n",
    "import datetime as dt\n",
    "from datetime import datetime\n",
    "import tensorflow as tf\n",
    "from tensorflow import keras\n",
    "from statsmodels.graphics.tsaplots import plot_acf,plot_pacf"
   ]
  },
  {
   "cell_type": "code",
   "execution_count": 2,
   "metadata": {},
   "outputs": [],
   "source": [
    "from sklearn.preprocessing import MinMaxScaler,quantile_transform,StandardScaler"
   ]
  },
  {
   "cell_type": "code",
   "execution_count": 3,
   "metadata": {},
   "outputs": [
    {
     "data": {
      "text/html": [
       "<div>\n",
       "<style scoped>\n",
       "    .dataframe tbody tr th:only-of-type {\n",
       "        vertical-align: middle;\n",
       "    }\n",
       "\n",
       "    .dataframe tbody tr th {\n",
       "        vertical-align: top;\n",
       "    }\n",
       "\n",
       "    .dataframe thead th {\n",
       "        text-align: right;\n",
       "    }\n",
       "</style>\n",
       "<table border=\"1\" class=\"dataframe\">\n",
       "  <thead>\n",
       "    <tr style=\"text-align: right;\">\n",
       "      <th></th>\n",
       "      <th>1/22/20</th>\n",
       "      <th>1/23/20</th>\n",
       "      <th>1/24/20</th>\n",
       "      <th>1/25/20</th>\n",
       "      <th>1/26/20</th>\n",
       "      <th>1/27/20</th>\n",
       "      <th>1/28/20</th>\n",
       "      <th>1/29/20</th>\n",
       "      <th>1/30/20</th>\n",
       "      <th>1/31/20</th>\n",
       "      <th>...</th>\n",
       "      <th>1/21/21</th>\n",
       "      <th>1/22/21</th>\n",
       "      <th>1/23/21</th>\n",
       "      <th>1/24/21</th>\n",
       "      <th>1/25/21</th>\n",
       "      <th>1/26/21</th>\n",
       "      <th>1/27/21</th>\n",
       "      <th>1/28/21</th>\n",
       "      <th>1/29/21</th>\n",
       "      <th>1/30/21</th>\n",
       "    </tr>\n",
       "    <tr>\n",
       "      <th>Country/Region</th>\n",
       "      <th></th>\n",
       "      <th></th>\n",
       "      <th></th>\n",
       "      <th></th>\n",
       "      <th></th>\n",
       "      <th></th>\n",
       "      <th></th>\n",
       "      <th></th>\n",
       "      <th></th>\n",
       "      <th></th>\n",
       "      <th></th>\n",
       "      <th></th>\n",
       "      <th></th>\n",
       "      <th></th>\n",
       "      <th></th>\n",
       "      <th></th>\n",
       "      <th></th>\n",
       "      <th></th>\n",
       "      <th></th>\n",
       "      <th></th>\n",
       "      <th></th>\n",
       "    </tr>\n",
       "  </thead>\n",
       "  <tbody>\n",
       "    <tr>\n",
       "      <td>Afghanistan</td>\n",
       "      <td>0</td>\n",
       "      <td>0</td>\n",
       "      <td>0</td>\n",
       "      <td>0</td>\n",
       "      <td>0</td>\n",
       "      <td>0</td>\n",
       "      <td>0</td>\n",
       "      <td>0</td>\n",
       "      <td>0</td>\n",
       "      <td>0</td>\n",
       "      <td>...</td>\n",
       "      <td>54403</td>\n",
       "      <td>54483</td>\n",
       "      <td>54559</td>\n",
       "      <td>54595</td>\n",
       "      <td>54672</td>\n",
       "      <td>54750</td>\n",
       "      <td>54854</td>\n",
       "      <td>54891</td>\n",
       "      <td>54939</td>\n",
       "      <td>55008</td>\n",
       "    </tr>\n",
       "    <tr>\n",
       "      <td>Albania</td>\n",
       "      <td>0</td>\n",
       "      <td>0</td>\n",
       "      <td>0</td>\n",
       "      <td>0</td>\n",
       "      <td>0</td>\n",
       "      <td>0</td>\n",
       "      <td>0</td>\n",
       "      <td>0</td>\n",
       "      <td>0</td>\n",
       "      <td>0</td>\n",
       "      <td>...</td>\n",
       "      <td>69916</td>\n",
       "      <td>70655</td>\n",
       "      <td>71441</td>\n",
       "      <td>72274</td>\n",
       "      <td>72812</td>\n",
       "      <td>73691</td>\n",
       "      <td>74567</td>\n",
       "      <td>75454</td>\n",
       "      <td>76350</td>\n",
       "      <td>77251</td>\n",
       "    </tr>\n",
       "    <tr>\n",
       "      <td>Algeria</td>\n",
       "      <td>0</td>\n",
       "      <td>0</td>\n",
       "      <td>0</td>\n",
       "      <td>0</td>\n",
       "      <td>0</td>\n",
       "      <td>0</td>\n",
       "      <td>0</td>\n",
       "      <td>0</td>\n",
       "      <td>0</td>\n",
       "      <td>0</td>\n",
       "      <td>...</td>\n",
       "      <td>104852</td>\n",
       "      <td>105124</td>\n",
       "      <td>105369</td>\n",
       "      <td>105596</td>\n",
       "      <td>105854</td>\n",
       "      <td>106097</td>\n",
       "      <td>106359</td>\n",
       "      <td>106610</td>\n",
       "      <td>106887</td>\n",
       "      <td>107122</td>\n",
       "    </tr>\n",
       "    <tr>\n",
       "      <td>Andorra</td>\n",
       "      <td>0</td>\n",
       "      <td>0</td>\n",
       "      <td>0</td>\n",
       "      <td>0</td>\n",
       "      <td>0</td>\n",
       "      <td>0</td>\n",
       "      <td>0</td>\n",
       "      <td>0</td>\n",
       "      <td>0</td>\n",
       "      <td>0</td>\n",
       "      <td>...</td>\n",
       "      <td>9379</td>\n",
       "      <td>9416</td>\n",
       "      <td>9499</td>\n",
       "      <td>9549</td>\n",
       "      <td>9596</td>\n",
       "      <td>9638</td>\n",
       "      <td>9716</td>\n",
       "      <td>9779</td>\n",
       "      <td>9837</td>\n",
       "      <td>9885</td>\n",
       "    </tr>\n",
       "    <tr>\n",
       "      <td>Angola</td>\n",
       "      <td>0</td>\n",
       "      <td>0</td>\n",
       "      <td>0</td>\n",
       "      <td>0</td>\n",
       "      <td>0</td>\n",
       "      <td>0</td>\n",
       "      <td>0</td>\n",
       "      <td>0</td>\n",
       "      <td>0</td>\n",
       "      <td>0</td>\n",
       "      <td>...</td>\n",
       "      <td>19177</td>\n",
       "      <td>19269</td>\n",
       "      <td>19367</td>\n",
       "      <td>19399</td>\n",
       "      <td>19476</td>\n",
       "      <td>19553</td>\n",
       "      <td>19580</td>\n",
       "      <td>19672</td>\n",
       "      <td>19723</td>\n",
       "      <td>19782</td>\n",
       "    </tr>\n",
       "  </tbody>\n",
       "</table>\n",
       "<p>5 rows × 375 columns</p>\n",
       "</div>"
      ],
      "text/plain": [
       "                1/22/20  1/23/20  1/24/20  1/25/20  1/26/20  1/27/20  1/28/20  \\\n",
       "Country/Region                                                                  \n",
       "Afghanistan           0        0        0        0        0        0        0   \n",
       "Albania               0        0        0        0        0        0        0   \n",
       "Algeria               0        0        0        0        0        0        0   \n",
       "Andorra               0        0        0        0        0        0        0   \n",
       "Angola                0        0        0        0        0        0        0   \n",
       "\n",
       "                1/29/20  1/30/20  1/31/20  ...  1/21/21  1/22/21  1/23/21  \\\n",
       "Country/Region                             ...                              \n",
       "Afghanistan           0        0        0  ...    54403    54483    54559   \n",
       "Albania               0        0        0  ...    69916    70655    71441   \n",
       "Algeria               0        0        0  ...   104852   105124   105369   \n",
       "Andorra               0        0        0  ...     9379     9416     9499   \n",
       "Angola                0        0        0  ...    19177    19269    19367   \n",
       "\n",
       "                1/24/21  1/25/21  1/26/21  1/27/21  1/28/21  1/29/21  1/30/21  \n",
       "Country/Region                                                                 \n",
       "Afghanistan       54595    54672    54750    54854    54891    54939    55008  \n",
       "Albania           72274    72812    73691    74567    75454    76350    77251  \n",
       "Algeria          105596   105854   106097   106359   106610   106887   107122  \n",
       "Andorra            9549     9596     9638     9716     9779     9837     9885  \n",
       "Angola            19399    19476    19553    19580    19672    19723    19782  \n",
       "\n",
       "[5 rows x 375 columns]"
      ]
     },
     "execution_count": 3,
     "metadata": {},
     "output_type": "execute_result"
    }
   ],
   "source": [
    "df_confirm = pd.read_csv(\"https://raw.githubusercontent.com/CSSEGISandData/COVID-19/master/csse_covid_19_data/csse_covid_19_time_series/time_series_covid19_confirmed_global.csv\")\n",
    "df_confirm = df_confirm.groupby('Country/Region').sum().drop(['Lat','Long'],axis=1)\n",
    "df_confirm.head()"
   ]
  },
  {
   "cell_type": "code",
   "execution_count": 4,
   "metadata": {},
   "outputs": [
    {
     "name": "stdout",
     "output_type": "stream",
     "text": [
      "<class 'pandas.core.frame.DataFrame'>\n",
      "DatetimeIndex: 375 entries, 2020-01-22 to 2021-01-30\n",
      "Columns: 193 entries, Afghanistan to World\n",
      "dtypes: int64(193)\n",
      "memory usage: 568.4 KB\n"
     ]
    }
   ],
   "source": [
    "# data clean and index seting\n",
    "df_trans = df_confirm.transpose()\n",
    "df_trans['World'] = df_trans.sum(axis =1)\n",
    "df_confirm = df_trans.set_index(pd.DatetimeIndex(pd.to_datetime(df_trans.index.values,format=\"%m/%d/%y\")))\n",
    "df_confirm.info()"
   ]
  },
  {
   "cell_type": "code",
   "execution_count": 5,
   "metadata": {},
   "outputs": [],
   "source": [
    "COUNTIRES = df_confirm.columns.to_list()\n",
    "\n",
    "num_features = len(df_confirm.columns)\n",
    "num_features\n",
    "\n",
    "country2id = {}\n",
    "for i,name in enumerate(COUNTIRES):\n",
    "    country2id[name]= i"
   ]
  },
  {
   "cell_type": "code",
   "execution_count": null,
   "metadata": {},
   "outputs": [],
   "source": []
  },
  {
   "cell_type": "markdown",
   "metadata": {},
   "source": [
    "## Data Transformation"
   ]
  },
  {
   "cell_type": "code",
   "execution_count": 6,
   "metadata": {},
   "outputs": [
    {
     "data": {
      "text/plain": [
       "<matplotlib.axes._subplots.AxesSubplot at 0x7fd5c3929b90>"
      ]
     },
     "execution_count": 6,
     "metadata": {},
     "output_type": "execute_result"
    },
    {
     "data": {
      "image/png": "[encoded data removed]",
      "text/plain": [
       "<Figure size 432x288 with 1 Axes>"
      ]
     },
     "metadata": {
      "needs_background": "light"
     },
     "output_type": "display_data"
    }
   ],
   "source": [
    "df = df_confirm.diff().dropna()\n",
    "df['World'].plot(kind = 'line')"
   ]
  },
  {
   "cell_type": "code",
   "execution_count": 7,
   "metadata": {},
   "outputs": [],
   "source": [
    "# using past # of INPUT points to predict future # of PRED points\n",
    "INPUT = 30\n",
    "PRED = 30\n",
    "SHIFT = 0\n",
    "BATCH =32\n",
    "WINDOW =INPUT+PRED+SHIFT\n",
    "\n",
    "# slice for training data, leave one ts set for validation\n",
    "df_train = df[:-PRED]\n",
    "df_test = df[-WINDOW:]\n",
    "#df_train =df"
   ]
  },
  {
   "cell_type": "code",
   "execution_count": 8,
   "metadata": {},
   "outputs": [],
   "source": [
    "cs = MinMaxScaler()\n",
    "train = cs.fit_transform(df_train)\n",
    "test= cs.transform(df_test)"
   ]
  },
  {
   "cell_type": "markdown",
   "metadata": {},
   "source": [
    "### Train set split"
   ]
  },
  {
   "cell_type": "code",
   "execution_count": 9,
   "metadata": {},
   "outputs": [],
   "source": [
    "# get random series of train+target\n",
    "ds = tf.keras.preprocessing.timeseries_dataset_from_array(\n",
    "      data=train,\n",
    "      targets=None,\n",
    "      sequence_length=WINDOW,\n",
    "      sequence_stride=1,\n",
    "      shuffle=True,\n",
    "      seed=42,\n",
    "      batch_size=BATCH)\n"
   ]
  },
  {
   "cell_type": "code",
   "execution_count": 10,
   "metadata": {},
   "outputs": [],
   "source": [
    "# ds will be varied when it was called\n",
    "trainingset = tf.concat([i for i in ds], axis=0)\n",
    "val_len = int(trainingset.shape[0]*0.2)\n",
    "X_train = trainingset[:-val_len,:INPUT,:]\n",
    "y_train = trainingset[:-val_len,INPUT:,:]\n",
    "X_val = trainingset[-val_len:,:INPUT,:]\n",
    "y_val = trainingset[-val_len:,INPUT:,:]"
   ]
  },
  {
   "cell_type": "code",
   "execution_count": 11,
   "metadata": {},
   "outputs": [
    {
     "data": {
      "text/plain": [
       "<tf.Tensor: shape=(60,), dtype=float64, numpy=\n",
       "array([0.00429457, 0.00136606, 0.00139278, 0.00129392, 0.00119171,\n",
       "       0.00026854, 0.00030862, 0.00035471, 0.00111088, 0.00018838,\n",
       "       0.00031129, 0.00050434, 0.00058717, 0.00084302, 0.00086105,\n",
       "       0.00119706, 0.00152504, 0.00125918, 0.00166733, 0.00147628,\n",
       "       0.00181228, 0.00254842, 0.00266999, 0.00257247, 0.00272143,\n",
       "       0.00315563, 0.00505208, 0.00380225, 0.00954438, 0.00733196,\n",
       "       0.00746289, 0.00982761, 0.01058512, 0.01299927, 0.01800326,\n",
       "       0.02049356, 0.02131253, 0.02323035, 0.02856099, 0.02743675,\n",
       "       0.03401855, 0.0419163 , 0.04340193, 0.0448702 , 0.03952286,\n",
       "       0.04354088, 0.0512683 , 0.05523955, 0.05542125, 0.05574323,\n",
       "       0.03895373, 0.04843064, 0.04879269, 0.04658295, 0.05561163,\n",
       "       0.0580672 , 0.05707589, 0.04957225, 0.07989074, 0.04717747])>"
      ]
     },
     "execution_count": 11,
     "metadata": {},
     "output_type": "execute_result"
    }
   ],
   "source": [
    "trainingset[0,:,-1]"
   ]
  },
  {
   "cell_type": "code",
   "execution_count": 12,
   "metadata": {},
   "outputs": [
    {
     "data": {
      "text/plain": [
       "<tf.Tensor: shape=(30,), dtype=float64, numpy=\n",
       "array([0.00429457, 0.00136606, 0.00139278, 0.00129392, 0.00119171,\n",
       "       0.00026854, 0.00030862, 0.00035471, 0.00111088, 0.00018838,\n",
       "       0.00031129, 0.00050434, 0.00058717, 0.00084302, 0.00086105,\n",
       "       0.00119706, 0.00152504, 0.00125918, 0.00166733, 0.00147628,\n",
       "       0.00181228, 0.00254842, 0.00266999, 0.00257247, 0.00272143,\n",
       "       0.00315563, 0.00505208, 0.00380225, 0.00954438, 0.00733196])>"
      ]
     },
     "execution_count": 12,
     "metadata": {},
     "output_type": "execute_result"
    }
   ],
   "source": [
    "X_train[0,:,-1]"
   ]
  },
  {
   "cell_type": "code",
   "execution_count": 13,
   "metadata": {},
   "outputs": [
    {
     "data": {
      "text/plain": [
       "<tf.Tensor: shape=(30,), dtype=float64, numpy=\n",
       "array([0.00746289, 0.00982761, 0.01058512, 0.01299927, 0.01800326,\n",
       "       0.02049356, 0.02131253, 0.02323035, 0.02856099, 0.02743675,\n",
       "       0.03401855, 0.0419163 , 0.04340193, 0.0448702 , 0.03952286,\n",
       "       0.04354088, 0.0512683 , 0.05523955, 0.05542125, 0.05574323,\n",
       "       0.03895373, 0.04843064, 0.04879269, 0.04658295, 0.05561163,\n",
       "       0.0580672 , 0.05707589, 0.04957225, 0.07989074, 0.04717747])>"
      ]
     },
     "execution_count": 13,
     "metadata": {},
     "output_type": "execute_result"
    }
   ],
   "source": [
    "y_train[0,:,-1]"
   ]
  },
  {
   "cell_type": "markdown",
   "metadata": {},
   "source": [
    "### Test set split"
   ]
  },
  {
   "cell_type": "code",
   "execution_count": 14,
   "metadata": {},
   "outputs": [],
   "source": [
    "X_test = test[-WINDOW:-PRED]\n",
    "y_test = test[-PRED:]\n",
    "# reshape from [step,feature] to [batch, step,feature]\n",
    "X_test = tf.expand_dims(X_test,axis=0)\n",
    "y_test = tf.expand_dims(y_test,axis=0)"
   ]
  },
  {
   "cell_type": "code",
   "execution_count": 15,
   "metadata": {},
   "outputs": [],
   "source": [
    "dataset={\n",
    "    'X_train':X_train,\n",
    "    'y_train':y_train,\n",
    "    'X_val':X_val,\n",
    "    'y_val':y_val,\n",
    "    'X_test':X_test,\n",
    "    'y_test':y_test\n",
    "}"
   ]
  },
  {
   "cell_type": "code",
   "execution_count": 16,
   "metadata": {},
   "outputs": [],
   "source": [
    "# dataset={\n",
    "#     'X_train':X_train[:,:,-1:],\n",
    "#     'y_train':y_train[:,:,-1:],\n",
    "#     'X_val':X_val[:,:,-1:],\n",
    "#     'y_val':y_val[:,:,-1:],\n",
    "#     'X_test':X_test[:,:,-1:],\n",
    "#     'y_test':y_test[:,:,-1:],\n",
    "# }\n",
    "# num_features=1"
   ]
  },
  {
   "cell_type": "markdown",
   "metadata": {},
   "source": [
    "### Models"
   ]
  },
  {
   "cell_type": "code",
   "execution_count": 17,
   "metadata": {},
   "outputs": [],
   "source": [
    "def compile_and_fit(model, dataset = dataset, patience=2, epochs = 20,batch_size=32,verbose=2):\n",
    "    \n",
    "    early_stopping = tf.keras.callbacks.EarlyStopping(monitor='val_loss',\n",
    "                                            verbose=verbose,  patience=patience,\n",
    "                                                    mode='min')\n",
    "\n",
    "    model.compile(loss=tf.losses.MeanSquaredError(),\n",
    "                optimizer=tf.optimizers.Adam(),\n",
    "                metrics=[tf.metrics.MeanAbsoluteError()])\n",
    "\n",
    "    history = model.fit(dataset['X_train'],dataset['y_train'], epochs=epochs,\n",
    "                      validation_data=(dataset['X_val'],dataset['y_val']),\n",
    "                      callbacks=[early_stopping],verbose=verbose,batch_size=batch_size)\n",
    "    return history"
   ]
  },
  {
   "cell_type": "code",
   "execution_count": 18,
   "metadata": {},
   "outputs": [],
   "source": [
    "tf.keras.backend.set_floatx('float64')"
   ]
  },
  {
   "cell_type": "code",
   "execution_count": 19,
   "metadata": {},
   "outputs": [],
   "source": [
    "# draw results\n",
    "def draw_pred(model,dataset,country2id,country_name,pred=PRED):\n",
    "    country_id = country2id[country_name]\n",
    "    ts_mse = model.evaluate(dataset['X_test'],dataset['y_test'])[0]\n",
    "    y_pred = model.predict(dataset['X_test'])\n",
    "    if pred ==1:\n",
    "        sns.barplot(x=['Pred','Real'],y=[y_test.numpy().squeeze()[country_id],y_pred.squeeze()[country_id]])\n",
    "        plt.title('Test_MSE: {:.2f}'.format(ts_mse))\n",
    "    else:\n",
    "        axes = sns.lineplot(x=range(pred),y=y_pred.squeeze()[:,country_id].cumsum(),label='Pred (test_MSE:{:.2f})'.format(ts_mse))\n",
    "        sns.lineplot(x=range(pred),y=y_test.numpy().squeeze()[:,country_id].cumsum(),ax=axes,label='Real')\n",
    "    "
   ]
  },
  {
   "cell_type": "markdown",
   "metadata": {},
   "source": [
    "### Naive"
   ]
  },
  {
   "cell_type": "code",
   "execution_count": 20,
   "metadata": {},
   "outputs": [
    {
     "name": "stdout",
     "output_type": "stream",
     "text": [
      "Epoch 1/20\n",
      "8/8 - 0s - loss: 0.0217 - mean_absolute_error: 0.0735 - val_loss: 0.0201 - val_mean_absolute_error: 0.0693\n",
      "Epoch 2/20\n",
      "8/8 - 0s - loss: 0.0217 - mean_absolute_error: 0.0735 - val_loss: 0.0201 - val_mean_absolute_error: 0.0693\n",
      "Epoch 3/20\n",
      "8/8 - 0s - loss: 0.0217 - mean_absolute_error: 0.0735 - val_loss: 0.0201 - val_mean_absolute_error: 0.0693\n",
      "Epoch 00003: early stopping\n"
     ]
    }
   ],
   "source": [
    "class MultiStepLastBaseline(tf.keras.Model):\n",
    "    def call(self, inputs):\n",
    "        return tf.tile(inputs[:, -1:, :], [1, PRED, 1])\n",
    "\n",
    "last_baseline = MultiStepLastBaseline()\n",
    "history = compile_and_fit(last_baseline,dataset,verbose=2)"
   ]
  },
  {
   "cell_type": "code",
   "execution_count": 21,
   "metadata": {},
   "outputs": [
    {
     "name": "stdout",
     "output_type": "stream",
     "text": [
      "Epoch 1/20\n",
      "8/8 - 0s - loss: 0.0319 - mean_absolute_error: 0.0949 - val_loss: 0.0294 - val_mean_absolute_error: 0.0893\n",
      "Epoch 2/20\n",
      "8/8 - 0s - loss: 0.0319 - mean_absolute_error: 0.0949 - val_loss: 0.0294 - val_mean_absolute_error: 0.0893\n",
      "Epoch 3/20\n",
      "8/8 - 0s - loss: 0.0319 - mean_absolute_error: 0.0949 - val_loss: 0.0294 - val_mean_absolute_error: 0.0893\n",
      "Epoch 00003: early stopping\n"
     ]
    }
   ],
   "source": [
    "class MultiStepRepeatBaseline(tf.keras.Model):\n",
    "    def call(self, inputs):\n",
    "        return inputs\n",
    "\n",
    "repeat_baseline = MultiStepRepeatBaseline()\n",
    "history = compile_and_fit(repeat_baseline,dataset,verbose=2)"
   ]
  },
  {
   "cell_type": "markdown",
   "metadata": {},
   "source": [
    "### Linear "
   ]
  },
  {
   "cell_type": "code",
   "execution_count": 22,
   "metadata": {},
   "outputs": [],
   "source": [
    "multi_linear_model = tf.keras.Sequential([\n",
    "    # Take the last time-step.\n",
    "    # Shape [batch, time, features] => [batch, 1, features]\n",
    "    tf.keras.layers.Lambda(lambda x: x[:, -1:, :]),\n",
    "    #tf.keras.layers.Flatten(input_shape=[INPUT,num_features]),\n",
    "    # Shape => [batch, 1, out_steps*features]\n",
    "    tf.keras.layers.Dense(PRED*num_features),\n",
    "    # Shape => [batch, out_steps, features]\n",
    "    tf.keras.layers.Reshape([PRED, num_features])\n",
    "    \n",
    "])\n",
    "history = compile_and_fit(multi_linear_model, dataset,epochs=500,verbose=0)"
   ]
  },
  {
   "cell_type": "markdown",
   "metadata": {},
   "source": [
    "### Dense"
   ]
  },
  {
   "cell_type": "code",
   "execution_count": 23,
   "metadata": {},
   "outputs": [
    {
     "name": "stdout",
     "output_type": "stream",
     "text": [
      "Epoch 1/500\n",
      "8/8 - 0s - loss: 0.0588 - mean_absolute_error: 0.1510 - val_loss: 0.0459 - val_mean_absolute_error: 0.1289\n",
      "Epoch 2/500\n",
      "8/8 - 0s - loss: 0.0479 - mean_absolute_error: 0.1332 - val_loss: 0.0381 - val_mean_absolute_error: 0.1181\n",
      "Epoch 3/500\n",
      "8/8 - 0s - loss: 0.0396 - mean_absolute_error: 0.1193 - val_loss: 0.0318 - val_mean_absolute_error: 0.1036\n",
      "Epoch 4/500\n",
      "8/8 - 0s - loss: 0.0324 - mean_absolute_error: 0.1056 - val_loss: 0.0270 - val_mean_absolute_error: 0.0959\n",
      "Epoch 5/500\n",
      "8/8 - 0s - loss: 0.0277 - mean_absolute_error: 0.0964 - val_loss: 0.0236 - val_mean_absolute_error: 0.0873\n",
      "Epoch 6/500\n",
      "8/8 - 0s - loss: 0.0243 - mean_absolute_error: 0.0889 - val_loss: 0.0219 - val_mean_absolute_error: 0.0835\n",
      "Epoch 7/500\n",
      "8/8 - 0s - loss: 0.0242 - mean_absolute_error: 0.0894 - val_loss: 0.0203 - val_mean_absolute_error: 0.0813\n",
      "Epoch 8/500\n",
      "8/8 - 0s - loss: 0.0221 - mean_absolute_error: 0.0839 - val_loss: 0.0194 - val_mean_absolute_error: 0.0768\n",
      "Epoch 9/500\n",
      "8/8 - 0s - loss: 0.0207 - mean_absolute_error: 0.0800 - val_loss: 0.0181 - val_mean_absolute_error: 0.0753\n",
      "Epoch 10/500\n",
      "8/8 - 0s - loss: 0.0191 - mean_absolute_error: 0.0761 - val_loss: 0.0172 - val_mean_absolute_error: 0.0705\n",
      "Epoch 11/500\n",
      "8/8 - 0s - loss: 0.0179 - mean_absolute_error: 0.0723 - val_loss: 0.0162 - val_mean_absolute_error: 0.0693\n",
      "Epoch 12/500\n",
      "8/8 - 0s - loss: 0.0175 - mean_absolute_error: 0.0713 - val_loss: 0.0155 - val_mean_absolute_error: 0.0667\n",
      "Epoch 13/500\n",
      "8/8 - 0s - loss: 0.0167 - mean_absolute_error: 0.0691 - val_loss: 0.0151 - val_mean_absolute_error: 0.0654\n",
      "Epoch 14/500\n",
      "8/8 - 0s - loss: 0.0161 - mean_absolute_error: 0.0675 - val_loss: 0.0147 - val_mean_absolute_error: 0.0647\n",
      "Epoch 15/500\n",
      "8/8 - 0s - loss: 0.0157 - mean_absolute_error: 0.0662 - val_loss: 0.0142 - val_mean_absolute_error: 0.0628\n",
      "Epoch 16/500\n",
      "8/8 - 0s - loss: 0.0162 - mean_absolute_error: 0.0672 - val_loss: 0.0143 - val_mean_absolute_error: 0.0632\n",
      "Epoch 17/500\n",
      "8/8 - 0s - loss: 0.0157 - mean_absolute_error: 0.0663 - val_loss: 0.0144 - val_mean_absolute_error: 0.0632\n",
      "Epoch 00017: early stopping\n"
     ]
    }
   ],
   "source": [
    "multi_dense_model = tf.keras.Sequential([\n",
    "    # Take the last time step.\n",
    "    # Shape [batch, time, features] => [batch, 1, features]\n",
    "    tf.keras.layers.Flatten(input_shape=[INPUT,num_features]),\n",
    "    #tf.keras.layers.Lambda(lambda x: x[:, -1:, :]),\n",
    "    # Shape => [batch, 1, dense_units]\n",
    "    tf.keras.layers.Dense(512,activation='relu',kernel_initializer=\"he_normal\"),\n",
    "    # Shape => [batch, out_steps*features]\n",
    "    tf.keras.layers.Dense(PRED*num_features,\n",
    "                          activation='relu',kernel_initializer=\"he_normal\"),\n",
    "    # Shape => [batch, out_steps, features]\n",
    "    tf.keras.layers.Reshape([PRED, num_features])\n",
    "])\n",
    "\n",
    "history = compile_and_fit(multi_dense_model, dataset,epochs=500,verbose=2)\n"
   ]
  },
  {
   "cell_type": "markdown",
   "metadata": {},
   "source": [
    "### CNN"
   ]
  },
  {
   "cell_type": "code",
   "execution_count": 24,
   "metadata": {},
   "outputs": [],
   "source": [
    "CONV_WIDTH = 3\n",
    "multi_conv_model = tf.keras.Sequential([\n",
    "    # Shape [batch, time, features] => [batch, CONV_WIDTH, features]\n",
    "    #tf.keras.layers.Lambda(lambda x: x[:, -CONV_WIDTH:, :]),\n",
    "    # Shape => [batch, 1, conv_units] \n",
    "    tf.keras.layers.Conv1D(256, activation='relu', kernel_size=(CONV_WIDTH),input_shape=(INPUT,num_features)),\n",
    "    #tf.keras.layers.Conv1D(256, activation='relu', kernel_size=(CONV_WIDTH)),\n",
    "    # Shape => [batch, 1,  out_steps*features]\n",
    "    tf.keras.layers.MaxPooling1D(pool_size=2),\n",
    "    tf.keras.layers.Flatten(),\n",
    "    tf.keras.layers.Dense(64, activation='relu'),\n",
    "    tf.keras.layers.Dense(PRED*num_features),\n",
    "    \n",
    "    # Shape => [batch, out_steps, features]\n",
    "    tf.keras.layers.Reshape([PRED, num_features])\n",
    "])\n",
    "\n",
    "history = compile_and_fit(multi_conv_model, dataset,epochs=500,verbose=0)\n"
   ]
  },
  {
   "cell_type": "code",
   "execution_count": 25,
   "metadata": {},
   "outputs": [],
   "source": [
    "multi_rnn_model = tf.keras.Sequential([\n",
    "    # Shape [batch, time, features] => [batch, lstm_units]\n",
    "    # Adding more `lstm_units` just overfits more quickly.\n",
    "    tf.keras.layers.SimpleRNN(128,return_sequences=False,input_shape = (INPUT, num_features)),\n",
    "    # Shape => [batch, out_steps*features]\n",
    "#      tf.keras.layers.TimeDistributed(tf.keras.layers.Dense(num_features,\n",
    "#                            kernel_initializer=tf.initializers.zeros)),\n",
    "    tf.keras.layers.Dense(PRED*num_features),\n",
    "    # Shape => [batch, out_steps, features]\n",
    "    tf.keras.layers.Reshape([PRED, num_features])\n",
    "])\n",
    "\n",
    "history = compile_and_fit(multi_rnn_model, dataset,epochs=500,verbose=0)"
   ]
  },
  {
   "cell_type": "code",
   "execution_count": 26,
   "metadata": {},
   "outputs": [],
   "source": [
    "multi_lstm_model = tf.keras.Sequential([\n",
    "    # Shape [batch, time, features] => [batch, lstm_units]\n",
    "    # Adding more `lstm_units` just overfits more quickly.\n",
    "    tf.keras.layers.LSTM(64,return_sequences=False,input_shape = (INPUT, num_features)),\n",
    "    #tf.keras.layers.LSTM(32,return_sequences=False),\n",
    "    # Shape => [batch, out_steps*features]\n",
    "    tf.keras.layers.Dense(PRED*num_features),\n",
    "    # Shape => [batch, out_steps, features]\n",
    "    tf.keras.layers.Reshape([PRED, num_features])\n",
    "])\n",
    "\n",
    "history = compile_and_fit(multi_lstm_model, dataset,epochs=500,verbose=0)"
   ]
  },
  {
   "cell_type": "code",
   "execution_count": 27,
   "metadata": {},
   "outputs": [],
   "source": [
    "model_val_performance = {}\n",
    "model_test_performance ={}\n",
    "models = {'Naive_1':last_baseline,\n",
    "          'Naive_2':repeat_baseline,\n",
    "          'Linear':multi_linear_model,\n",
    "          'Dense':multi_dense_model,\n",
    "          'Conv':multi_conv_model,\n",
    "          'RNN':multi_rnn_model,\n",
    "          'LSTM':multi_lstm_model\n",
    "         }\n",
    "for k,v in models.items():\n",
    "    \n",
    "    model_val_performance[k] = v.evaluate(dataset['X_val'],dataset['y_val'],verbose=0)\n",
    "    model_test_performance[k] = v.evaluate(dataset['X_train'],dataset['y_train'],verbose=0)"
   ]
  },
  {
   "cell_type": "code",
   "execution_count": 28,
   "metadata": {},
   "outputs": [
    {
     "data": {
      "text/plain": [
       "['Naive_1', 'Naive_2', 'Linear', 'Dense', 'Conv', 'RNN', 'LSTM']"
      ]
     },
     "execution_count": 28,
     "metadata": {},
     "output_type": "execute_result"
    }
   ],
   "source": [
    "list(model_val_performance.keys())"
   ]
  },
  {
   "cell_type": "code",
   "execution_count": 29,
   "metadata": {},
   "outputs": [
    {
     "data": {
      "image/png": "[encoded data removed]",
      "text/plain": [
       "<Figure size 432x288 with 2 Axes>"
      ]
     },
     "metadata": {
      "needs_background": "light"
     },
     "output_type": "display_data"
    }
   ],
   "source": [
    "x = np.arange(len(model_val_performance))\n",
    "width = 0.3\n",
    "\n",
    "metric_name = 'mean_squared_error'\n",
    "val_mse = [v[0] for v in model_val_performance.values()]\n",
    "test_mse = [v[0] for v in model_test_performance.values()]\n",
    "\n",
    "fig,ax = plt.subplots()\n",
    "l1 = ax.bar(x - 0.17, val_mse, width, label='Validation')\n",
    "ax2 = ax.twinx()\n",
    "l2 = ax2.bar(x + 0.17, test_mse, width, label='Train',color='g')\n",
    "plt.xticks(ticks=x, labels=model_val_performance.keys(),\n",
    "           rotation=45)\n",
    "ax.set_ylabel(f'MSE (Validation)')\n",
    "ax2.set_ylabel(f'MSE (Train)')\n",
    "\n",
    "# added these three lines\n",
    "fig.legend(loc=\"upper right\")\n",
    "plt.title('INPUT:{},PRED:{}'.format(INPUT,PRED))\n",
    "plt.savefig('INPUT:{},PRED:{}.png'.format(INPUT,PRED))\n",
    "fig.savefig(\"_images/models_comparsion.png\")"
   ]
  },
  {
   "cell_type": "code",
   "execution_count": 30,
   "metadata": {},
   "outputs": [
    {
     "data": {
      "text/plain": [
       "[0.020105038066966494,\n",
       " 0.029378699890354222,\n",
       " 0.00771021508007196,\n",
       " 0.014393669896219907,\n",
       " 0.0073412465454455005,\n",
       " 0.006863418451853488,\n",
       " 0.007282135942787455]"
      ]
     },
     "execution_count": 30,
     "metadata": {},
     "output_type": "execute_result"
    }
   ],
   "source": [
    "val_mse"
   ]
  },
  {
   "cell_type": "code",
   "execution_count": 31,
   "metadata": {},
   "outputs": [],
   "source": [
    "# draw results\n",
    "def draw_pred(model,dataset,country2id,country_name,pred=PRED):\n",
    "    country_id = country2id[country_name]\n",
    "    ts_mse = model.evaluate(dataset['X_test'],dataset['y_test'])[0]\n",
    "    #y_pred = model.predict(dataset['X_test'])\n",
    "    mc_result =np.stack([model(dataset['X_test'],training =True).numpy() for sample in range(100)])\n",
    "    y_pred = mc_result.mean(axis=0)\n",
    "    fig,ax = plt.subplots()\n",
    "    if pred ==1:\n",
    "        sns.barplot(x=['Pred','Real'],y=[y_test.numpy().squeeze()[country_id],y_pred.squeeze()[country_id]])\n",
    "        plt.title('Test_MSE: {:.2f}'.format(ts_mse))\n",
    "    else:\n",
    "        axes = sns.lineplot(x=range(pred),y=y_pred.squeeze()[:,country_id].cumsum(),label='Pred (test_MSE:{:.2f})'.format(ts_mse))\n",
    "        sns.lineplot(x=range(pred),y=y_test.numpy().squeeze()[:,country_id].cumsum(),ax=axes,label='Real')\n",
    "    plt.xlabel(\"Predicted Days\")\n",
    "    plt.ylabel(\"Cases(standarized)\")\n",
    "    plt.title(\"{}'s trend chart\".format(country_name))\n",
    "    plt.show()\n",
    "    fig.savefig(\"_images/{}_trend.png\".format(country_name))"
   ]
  },
  {
   "cell_type": "code",
   "execution_count": 32,
   "metadata": {},
   "outputs": [
    {
     "name": "stdout",
     "output_type": "stream",
     "text": [
      "1/1 [==============================] - 0s 1ms/step - loss: 0.5105 - mean_absolute_error: 0.3207\n"
     ]
    },
    {
     "data": {
      "image/png": "[encoded data removed]",
      "text/plain": [
       "<Figure size 432x288 with 1 Axes>"
      ]
     },
     "metadata": {
      "needs_background": "light"
     },
     "output_type": "display_data"
    }
   ],
   "source": [
    "draw_pred(multi_linear_model,dataset,country2id,'World')"
   ]
  },
  {
   "cell_type": "code",
   "execution_count": 33,
   "metadata": {},
   "outputs": [
    {
     "name": "stdout",
     "output_type": "stream",
     "text": [
      "1/1 [==============================] - 0s 956us/step - loss: 0.5032 - mean_absolute_error: 0.2907\n"
     ]
    },
    {
     "data": {
      "image/png": "[encoded data removed]",
      "text/plain": [
       "<Figure size 432x288 with 1 Axes>"
      ]
     },
     "metadata": {
      "needs_background": "light"
     },
     "output_type": "display_data"
    }
   ],
   "source": [
    "draw_pred(multi_rnn_model,dataset,country2id,'World')"
   ]
  },
  {
   "cell_type": "code",
   "execution_count": 41,
   "metadata": {},
   "outputs": [
    {
     "name": "stdout",
     "output_type": "stream",
     "text": [
      "1/1 [==============================] - 0s 2ms/step - loss: 0.5123 - mean_absolute_error: 0.2963\n"
     ]
    },
    {
     "data": {
      "image/png": "[encoded data removed]",
      "text/plain": [
       "<Figure size 432x288 with 1 Axes>"
      ]
     },
     "metadata": {
      "needs_background": "light"
     },
     "output_type": "display_data"
    }
   ],
   "source": [
    "draw_pred(multi_lstm_model,dataset,country2id,'World')"
   ]
  },
  {
   "cell_type": "code",
   "execution_count": 35,
   "metadata": {},
   "outputs": [
    {
     "name": "stdout",
     "output_type": "stream",
     "text": [
      "1/1 [==============================] - 0s 992us/step - loss: 0.5031 - mean_absolute_error: 0.2870\n"
     ]
    },
    {
     "data": {
      "image/png": "[encoded data removed]",
      "text/plain": [
       "<Figure size 432x288 with 1 Axes>"
      ]
     },
     "metadata": {
      "needs_background": "light"
     },
     "output_type": "display_data"
    }
   ],
   "source": [
    "draw_pred(multi_conv_model,dataset,country2id,'World')"
   ]
  },
  {
   "cell_type": "code",
   "execution_count": 36,
   "metadata": {},
   "outputs": [],
   "source": [
    "def draw_daily(model,dataset,country2id,country_name,pred=PRED):\n",
    "    country_id = country2id[country_name]\n",
    "    ts_mse = model.evaluate(dataset['X_test'],dataset['y_test'])[0]\n",
    "    y_pred = model.predict(dataset['X_test'])\n",
    "    fig,ax = plt.subplots()\n",
    "    if pred ==1:\n",
    "        sns.barplot(x=['Pred','Real'],y=[y_test.numpy().squeeze()[country_id],y_pred.squeeze()[country_id]])\n",
    "        plt.title('Test_MSE: {:.2f}'.format(ts_mse))\n",
    "    else:\n",
    "        axes = sns.lineplot(x=range(pred),y=y_pred.squeeze()[:,country_id],label='Pred (test_MSE:{:.2f})'.format(ts_mse))\n",
    "        sns.lineplot(x=range(pred),y=y_test.numpy().squeeze()[:,country_id],ax=axes,label='Real')\n",
    "    plt.xlabel(\"Predicted Days\")\n",
    "    plt.ylabel(\"Daily Cases(standarized)\")\n",
    "    plt.title(\"{}'s trend chart\".format(country_name))\n",
    "    plt.show()\n",
    "    fig.savefig(\"_images/{}_daily.png\".format(country_name))"
   ]
  },
  {
   "cell_type": "code",
   "execution_count": 37,
   "metadata": {},
   "outputs": [
    {
     "name": "stdout",
     "output_type": "stream",
     "text": [
      "1/1 [==============================] - 0s 1ms/step - loss: 0.5031 - mean_absolute_error: 0.2870\n"
     ]
    },
    {
     "data": {
      "image/png": "[encoded data removed]",
      "text/plain": [
       "<Figure size 432x288 with 1 Axes>"
      ]
     },
     "metadata": {
      "needs_background": "light"
     },
     "output_type": "display_data"
    }
   ],
   "source": [
    "draw_daily(multi_conv_model,dataset,country2id,'World')"
   ]
  },
  {
   "cell_type": "code",
   "execution_count": 38,
   "metadata": {},
   "outputs": [
    {
     "name": "stdout",
     "output_type": "stream",
     "text": [
      "1/1 [==============================] - 0s 817us/step - loss: 0.5105 - mean_absolute_error: 0.3207\n"
     ]
    },
    {
     "data": {
      "image/png": "[encoded data removed]",
      "text/plain": [
       "<Figure size 432x288 with 1 Axes>"
      ]
     },
     "metadata": {
      "needs_background": "light"
     },
     "output_type": "display_data"
    }
   ],
   "source": [
    "draw_daily(multi_linear_model,dataset,country2id,'Germany')"
   ]
  },
  {
   "cell_type": "code",
   "execution_count": 39,
   "metadata": {},
   "outputs": [
    {
     "name": "stdout",
     "output_type": "stream",
     "text": [
      "1/1 [==============================] - 0s 953us/step - loss: 0.5032 - mean_absolute_error: 0.2907\n"
     ]
    },
    {
     "data": {
      "image/png": "[encoded data removed]",
      "text/plain": [
       "<Figure size 432x288 with 1 Axes>"
      ]
     },
     "metadata": {
      "needs_background": "light"
     },
     "output_type": "display_data"
    }
   ],
   "source": [
    "draw_daily(multi_rnn_model,dataset,country2id,'World')"
   ]
  },
  {
   "cell_type": "code",
   "execution_count": 42,
   "metadata": {},
   "outputs": [
    {
     "name": "stdout",
     "output_type": "stream",
     "text": [
      "1/1 [==============================] - 0s 986us/step - loss: 0.5123 - mean_absolute_error: 0.2963\n"
     ]
    },
    {
     "data": {
      "image/png": "[encoded data removed]",
      "text/plain": [
       "<Figure size 432x288 with 1 Axes>"
      ]
     },
     "metadata": {
      "needs_background": "light"
     },
     "output_type": "display_data"
    }
   ],
   "source": [
    "draw_daily(multi_lstm_model,dataset,country2id,'World')"
   ]
  },
  {
   "cell_type": "markdown",
   "metadata": {},
   "source": [
    "### Save models"
   ]
  },
  {
   "cell_type": "code",
   "execution_count": 41,
   "metadata": {},
   "outputs": [
    {
     "ename": "SyntaxError",
     "evalue": "EOL while scanning string literal (<ipython-input-41-5bed24185270>, line 2)",
     "output_type": "error",
     "traceback": [
      "\u001b[0;36m  File \u001b[0;32m\"<ipython-input-41-5bed24185270>\"\u001b[0;36m, line \u001b[0;32m2\u001b[0m\n\u001b[0;31m    v.save('{}_model'.format(k),save_format=\"tf)\u001b[0m\n\u001b[0m                                                ^\u001b[0m\n\u001b[0;31mSyntaxError\u001b[0m\u001b[0;31m:\u001b[0m EOL while scanning string literal\n"
     ]
    }
   ],
   "source": [
    "# for k,v in models.items():\n",
    "#     v.save('{}_model'.format(k),save_format=\"tf\")"
   ]
  },
  {
   "cell_type": "markdown",
   "metadata": {},
   "source": [
    "### Save Scaler"
   ]
  },
  {
   "cell_type": "code",
   "execution_count": null,
   "metadata": {},
   "outputs": [],
   "source": [
    "# with open('scaler.pkl','wb') as f:\n",
    "#     pickle.dump(cs,f)"
   ]
  },
  {
   "cell_type": "markdown",
   "metadata": {},
   "source": [
    "### Load models"
   ]
  },
  {
   "cell_type": "code",
   "execution_count": null,
   "metadata": {},
   "outputs": [],
   "source": [
    "#load_rnn = tf.keras.models.load_model(\"model_confirm_case/RNN_model\")\n",
    "load_rnn = tf.keras.models.load_model(\"rnn_model.h5\")"
   ]
  },
  {
   "cell_type": "code",
   "execution_count": 43,
   "metadata": {},
   "outputs": [],
   "source": [
    "def get_pred(model,input_step,country_id):\n",
    "    mc_result =np.stack([model(input_step,training =True).numpy() for sample in range(100)])\n",
    "    pred = cs.inverse_transform(mc_result.mean(axis=0).squeeze())\n",
    "    return pred[:,_id]"
   ]
  },
  {
   "cell_type": "code",
   "execution_count": null,
   "metadata": {},
   "outputs": [],
   "source": []
  },
  {
   "cell_type": "markdown",
   "metadata": {},
   "source": [
    "### Inverse to origin data format"
   ]
  },
  {
   "cell_type": "code",
   "execution_count": 44,
   "metadata": {},
   "outputs": [],
   "source": [
    "from sklearn.metrics import mean_squared_error"
   ]
  },
  {
   "cell_type": "code",
   "execution_count": 45,
   "metadata": {},
   "outputs": [],
   "source": [
    "mc_result =np.stack([multi_rnn_model(dataset['X_test'],training =True).numpy() for sample in range(100)])\n",
    "pred = cs.inverse_transform(mc_result.mean(axis=0).squeeze())\n"
   ]
  },
  {
   "cell_type": "code",
   "execution_count": 46,
   "metadata": {},
   "outputs": [
    {
     "data": {
      "text/plain": [
       "Timestamp('2020-12-31 00:00:00')"
      ]
     },
     "execution_count": 46,
     "metadata": {},
     "output_type": "execute_result"
    }
   ],
   "source": [
    "LAST_DATE = df_train.index[-1]\n",
    "LAST_DATE"
   ]
  },
  {
   "cell_type": "code",
   "execution_count": 47,
   "metadata": {},
   "outputs": [
    {
     "data": {
      "text/plain": [
       "DatetimeIndex(['2021-01-01', '2021-01-02', '2021-01-03', '2021-01-04',\n",
       "               '2021-01-05', '2021-01-06', '2021-01-07', '2021-01-08',\n",
       "               '2021-01-09', '2021-01-10', '2021-01-11', '2021-01-12',\n",
       "               '2021-01-13', '2021-01-14', '2021-01-15', '2021-01-16',\n",
       "               '2021-01-17', '2021-01-18', '2021-01-19', '2021-01-20',\n",
       "               '2021-01-21', '2021-01-22', '2021-01-23', '2021-01-24',\n",
       "               '2021-01-25', '2021-01-26', '2021-01-27', '2021-01-28',\n",
       "               '2021-01-29', '2021-01-30'],\n",
       "              dtype='datetime64[ns]', freq='D')"
      ]
     },
     "execution_count": 47,
     "metadata": {},
     "output_type": "execute_result"
    }
   ],
   "source": [
    "index = pd.date_range(start=LAST_DATE+dt.timedelta(days=1), periods=PRED)\n",
    "index"
   ]
  },
  {
   "cell_type": "code",
   "execution_count": 48,
   "metadata": {},
   "outputs": [],
   "source": [
    "df_pred = pd.DataFrame(pred,index=index,columns=df_confirm.columns.tolist()).cumsum()"
   ]
  },
  {
   "cell_type": "code",
   "execution_count": 49,
   "metadata": {},
   "outputs": [
    {
     "data": {
      "text/plain": [
       "Timestamp('2020-12-31 00:00:00')"
      ]
     },
     "execution_count": 49,
     "metadata": {},
     "output_type": "execute_result"
    }
   ],
   "source": [
    "df_confirm[-PRED-1:].index[0]"
   ]
  },
  {
   "cell_type": "code",
   "execution_count": 50,
   "metadata": {},
   "outputs": [],
   "source": [
    "def get_mse (model,dataset,country2id,country_name,PRED=PRED):\n",
    "     # get verage of 100 predictions\n",
    "    mc_result =np.stack([model(dataset['X_test'],training =True).numpy() for sample in range(100)])\n",
    "    pred = cs.inverse_transform(mc_result.mean(axis=0).squeeze())\n",
    "    _id = country2id[country_name]\n",
    "    _pred = pred[:,_id]\n",
    "    _actual = df_test[-PRED:][country_name]\n",
    "    return mean_squared_error(_actual,_pred)"
   ]
  },
  {
   "cell_type": "code",
   "execution_count": 51,
   "metadata": {},
   "outputs": [],
   "source": [
    "import pickle"
   ]
  },
  {
   "cell_type": "code",
   "execution_count": 52,
   "metadata": {},
   "outputs": [
    {
     "ename": "FileNotFoundError",
     "evalue": "[Errno 2] No such file or directory: 'arima_result.pkl'",
     "output_type": "error",
     "traceback": [
      "\u001b[0;31m---------------------------------------------------------------------------\u001b[0m",
      "\u001b[0;31mFileNotFoundError\u001b[0m                         Traceback (most recent call last)",
      "\u001b[0;32m<ipython-input-52-7454fbda3e7d>\u001b[0m in \u001b[0;36m<module>\u001b[0;34m\u001b[0m\n\u001b[0;32m----> 1\u001b[0;31m \u001b[0;32mwith\u001b[0m \u001b[0mopen\u001b[0m\u001b[0;34m(\u001b[0m\u001b[0;34m'arima_result.pkl'\u001b[0m\u001b[0;34m,\u001b[0m\u001b[0;34m'rb'\u001b[0m\u001b[0;34m)\u001b[0m \u001b[0;32mas\u001b[0m \u001b[0mf\u001b[0m\u001b[0;34m:\u001b[0m\u001b[0;34m\u001b[0m\u001b[0;34m\u001b[0m\u001b[0m\n\u001b[0m\u001b[1;32m      2\u001b[0m     \u001b[0marima_mse\u001b[0m \u001b[0;34m=\u001b[0m \u001b[0mpickle\u001b[0m\u001b[0;34m.\u001b[0m\u001b[0mload\u001b[0m\u001b[0;34m(\u001b[0m\u001b[0mf\u001b[0m\u001b[0;34m)\u001b[0m\u001b[0;34m\u001b[0m\u001b[0;34m\u001b[0m\u001b[0m\n",
      "\u001b[0;31mFileNotFoundError\u001b[0m: [Errno 2] No such file or directory: 'arima_result.pkl'"
     ]
    }
   ],
   "source": [
    "with open('arima_result.pkl','rb') as f:\n",
    "    arima_mse = pickle.load(f)"
   ]
  },
  {
   "cell_type": "code",
   "execution_count": null,
   "metadata": {},
   "outputs": [],
   "source": [
    "linear_mse={}\n",
    "dense_mse={}\n",
    "cnn_mse={}\n",
    "rnn_mse={}\n",
    "lstm_mse={}\n",
    "for c in arima_mse.keys():\n",
    "        linear_mse[c] = get_mse(multi_linear_model,dataset,country2id,c)\n",
    "        dense_mse[c] = get_mse(multi_dense_model,dataset,country2id,c)\n",
    "        cnn_mse[c] = get_mse(multi_conv_model,dataset,country2id,c)\n",
    "        rnn_mse[c] = get_mse(multi_rnn_model,dataset,country2id,c)\n",
    "        lstm_mse[c] = get_mse(multi_lstm_model,dataset,country2id,c)\n",
    "    \n",
    "    "
   ]
  },
  {
   "cell_type": "code",
   "execution_count": 3240,
   "metadata": {},
   "outputs": [],
   "source": [
    "result = pd.DataFrame.from_dict(arima_mse,orient='index',columns=['ARIMA'])"
   ]
  },
  {
   "cell_type": "code",
   "execution_count": 3241,
   "metadata": {},
   "outputs": [],
   "source": [
    "result['Linear'] = linear_mse.values()\n",
    "result['Dense'] = dense_mse.values()\n",
    "result['Conv'] = cnn_mse.values()\n",
    "result['RNN'] = rnn_mse.values()\n",
    "result['LSTM'] = lstm_mse.values()"
   ]
  },
  {
   "cell_type": "code",
   "execution_count": 3242,
   "metadata": {},
   "outputs": [],
   "source": [
    "def highlight_min(data, color='yellow'):\n",
    "    '''\n",
    "    highlight the maximum in a Series or DataFrame\n",
    "    '''\n",
    "    attr = 'background-color: {}'.format(color)\n",
    "    if data.ndim == 1:  # Series from .apply(axis=0) or axis=1\n",
    "        is_min = data == data.min()\n",
    "        return [attr if v else '' for v in is_min]\n",
    "    else:  # from .apply(axis=None)\n",
    "        is_min = data == data.min().min()\n",
    "        return pd.DataFrame(np.where(is_min, attr, ''),\n",
    "                            index=data.index, columns=data.columns)"
   ]
  },
  {
   "cell_type": "code",
   "execution_count": 3243,
   "metadata": {},
   "outputs": [],
   "source": [
    "result = result.apply(np.sqrt)"
   ]
  },
  {
   "cell_type": "code",
   "execution_count": 3244,
   "metadata": {},
   "outputs": [
    {
     "data": {
      "text/html": [
       "<style  type=\"text/css\" >\n",
       "    #T_5772c9e0_5f3f_11eb_a2ae_8c85906984a4row0_col5 {\n",
       "            background-color:  yellow;\n",
       "        }    #T_5772c9e0_5f3f_11eb_a2ae_8c85906984a4row1_col5 {\n",
       "            background-color:  yellow;\n",
       "        }    #T_5772c9e0_5f3f_11eb_a2ae_8c85906984a4row2_col5 {\n",
       "            background-color:  yellow;\n",
       "        }    #T_5772c9e0_5f3f_11eb_a2ae_8c85906984a4row3_col3 {\n",
       "            background-color:  yellow;\n",
       "        }    #T_5772c9e0_5f3f_11eb_a2ae_8c85906984a4row4_col3 {\n",
       "            background-color:  yellow;\n",
       "        }    #T_5772c9e0_5f3f_11eb_a2ae_8c85906984a4row5_col5 {\n",
       "            background-color:  yellow;\n",
       "        }    #T_5772c9e0_5f3f_11eb_a2ae_8c85906984a4row6_col3 {\n",
       "            background-color:  yellow;\n",
       "        }    #T_5772c9e0_5f3f_11eb_a2ae_8c85906984a4row7_col5 {\n",
       "            background-color:  yellow;\n",
       "        }    #T_5772c9e0_5f3f_11eb_a2ae_8c85906984a4row8_col4 {\n",
       "            background-color:  yellow;\n",
       "        }    #T_5772c9e0_5f3f_11eb_a2ae_8c85906984a4row9_col2 {\n",
       "            background-color:  yellow;\n",
       "        }    #T_5772c9e0_5f3f_11eb_a2ae_8c85906984a4row10_col1 {\n",
       "            background-color:  yellow;\n",
       "        }    #T_5772c9e0_5f3f_11eb_a2ae_8c85906984a4row11_col1 {\n",
       "            background-color:  yellow;\n",
       "        }    #T_5772c9e0_5f3f_11eb_a2ae_8c85906984a4row12_col1 {\n",
       "            background-color:  yellow;\n",
       "        }    #T_5772c9e0_5f3f_11eb_a2ae_8c85906984a4row13_col5 {\n",
       "            background-color:  yellow;\n",
       "        }    #T_5772c9e0_5f3f_11eb_a2ae_8c85906984a4row14_col1 {\n",
       "            background-color:  yellow;\n",
       "        }    #T_5772c9e0_5f3f_11eb_a2ae_8c85906984a4row15_col3 {\n",
       "            background-color:  yellow;\n",
       "        }    #T_5772c9e0_5f3f_11eb_a2ae_8c85906984a4row16_col0 {\n",
       "            background-color:  yellow;\n",
       "        }    #T_5772c9e0_5f3f_11eb_a2ae_8c85906984a4row17_col4 {\n",
       "            background-color:  yellow;\n",
       "        }    #T_5772c9e0_5f3f_11eb_a2ae_8c85906984a4row18_col3 {\n",
       "            background-color:  yellow;\n",
       "        }    #T_5772c9e0_5f3f_11eb_a2ae_8c85906984a4row19_col5 {\n",
       "            background-color:  yellow;\n",
       "        }    #T_5772c9e0_5f3f_11eb_a2ae_8c85906984a4row20_col4 {\n",
       "            background-color:  yellow;\n",
       "        }    #T_5772c9e0_5f3f_11eb_a2ae_8c85906984a4row21_col4 {\n",
       "            background-color:  yellow;\n",
       "        }    #T_5772c9e0_5f3f_11eb_a2ae_8c85906984a4row22_col5 {\n",
       "            background-color:  yellow;\n",
       "        }    #T_5772c9e0_5f3f_11eb_a2ae_8c85906984a4row23_col1 {\n",
       "            background-color:  yellow;\n",
       "        }    #T_5772c9e0_5f3f_11eb_a2ae_8c85906984a4row24_col3 {\n",
       "            background-color:  yellow;\n",
       "        }</style><table id=\"T_5772c9e0_5f3f_11eb_a2ae_8c85906984a4\" ><thead>    <tr>        <th class=\"blank level0\" ></th>        <th class=\"col_heading level0 col0\" >ARIMA</th>        <th class=\"col_heading level0 col1\" >Linear</th>        <th class=\"col_heading level0 col2\" >Dense</th>        <th class=\"col_heading level0 col3\" >Conv</th>        <th class=\"col_heading level0 col4\" >RNN</th>        <th class=\"col_heading level0 col5\" >LSTM</th>    </tr></thead><tbody>\n",
       "                <tr>\n",
       "                        <th id=\"T_5772c9e0_5f3f_11eb_a2ae_8c85906984a4level0_row0\" class=\"row_heading level0 row0\" >World</th>\n",
       "                        <td id=\"T_5772c9e0_5f3f_11eb_a2ae_8c85906984a4row0_col0\" class=\"data row0 col0\" >295141</td>\n",
       "                        <td id=\"T_5772c9e0_5f3f_11eb_a2ae_8c85906984a4row0_col1\" class=\"data row0 col1\" >138066</td>\n",
       "                        <td id=\"T_5772c9e0_5f3f_11eb_a2ae_8c85906984a4row0_col2\" class=\"data row0 col2\" >249438</td>\n",
       "                        <td id=\"T_5772c9e0_5f3f_11eb_a2ae_8c85906984a4row0_col3\" class=\"data row0 col3\" >138118</td>\n",
       "                        <td id=\"T_5772c9e0_5f3f_11eb_a2ae_8c85906984a4row0_col4\" class=\"data row0 col4\" >134173</td>\n",
       "                        <td id=\"T_5772c9e0_5f3f_11eb_a2ae_8c85906984a4row0_col5\" class=\"data row0 col5\" >115450</td>\n",
       "            </tr>\n",
       "            <tr>\n",
       "                        <th id=\"T_5772c9e0_5f3f_11eb_a2ae_8c85906984a4level0_row1\" class=\"row_heading level0 row1\" >US</th>\n",
       "                        <td id=\"T_5772c9e0_5f3f_11eb_a2ae_8c85906984a4row1_col0\" class=\"data row1 col0\" >820338</td>\n",
       "                        <td id=\"T_5772c9e0_5f3f_11eb_a2ae_8c85906984a4row1_col1\" class=\"data row1 col1\" >66477.5</td>\n",
       "                        <td id=\"T_5772c9e0_5f3f_11eb_a2ae_8c85906984a4row1_col2\" class=\"data row1 col2\" >67576.4</td>\n",
       "                        <td id=\"T_5772c9e0_5f3f_11eb_a2ae_8c85906984a4row1_col3\" class=\"data row1 col3\" >60430.3</td>\n",
       "                        <td id=\"T_5772c9e0_5f3f_11eb_a2ae_8c85906984a4row1_col4\" class=\"data row1 col4\" >72538</td>\n",
       "                        <td id=\"T_5772c9e0_5f3f_11eb_a2ae_8c85906984a4row1_col5\" class=\"data row1 col5\" >48859.6</td>\n",
       "            </tr>\n",
       "            <tr>\n",
       "                        <th id=\"T_5772c9e0_5f3f_11eb_a2ae_8c85906984a4level0_row2\" class=\"row_heading level0 row2\" >India</th>\n",
       "                        <td id=\"T_5772c9e0_5f3f_11eb_a2ae_8c85906984a4row2_col0\" class=\"data row2 col0\" >26247.2</td>\n",
       "                        <td id=\"T_5772c9e0_5f3f_11eb_a2ae_8c85906984a4row2_col1\" class=\"data row2 col1\" >48516.3</td>\n",
       "                        <td id=\"T_5772c9e0_5f3f_11eb_a2ae_8c85906984a4row2_col2\" class=\"data row2 col2\" >32059.7</td>\n",
       "                        <td id=\"T_5772c9e0_5f3f_11eb_a2ae_8c85906984a4row2_col3\" class=\"data row2 col3\" >20212</td>\n",
       "                        <td id=\"T_5772c9e0_5f3f_11eb_a2ae_8c85906984a4row2_col4\" class=\"data row2 col4\" >32144.4</td>\n",
       "                        <td id=\"T_5772c9e0_5f3f_11eb_a2ae_8c85906984a4row2_col5\" class=\"data row2 col5\" >16700.9</td>\n",
       "            </tr>\n",
       "            <tr>\n",
       "                        <th id=\"T_5772c9e0_5f3f_11eb_a2ae_8c85906984a4level0_row3\" class=\"row_heading level0 row3\" >Brazil</th>\n",
       "                        <td id=\"T_5772c9e0_5f3f_11eb_a2ae_8c85906984a4row3_col0\" class=\"data row3 col0\" >57488.3</td>\n",
       "                        <td id=\"T_5772c9e0_5f3f_11eb_a2ae_8c85906984a4row3_col1\" class=\"data row3 col1\" >18234.4</td>\n",
       "                        <td id=\"T_5772c9e0_5f3f_11eb_a2ae_8c85906984a4row3_col2\" class=\"data row3 col2\" >22021.7</td>\n",
       "                        <td id=\"T_5772c9e0_5f3f_11eb_a2ae_8c85906984a4row3_col3\" class=\"data row3 col3\" >18136.8</td>\n",
       "                        <td id=\"T_5772c9e0_5f3f_11eb_a2ae_8c85906984a4row3_col4\" class=\"data row3 col4\" >18266.2</td>\n",
       "                        <td id=\"T_5772c9e0_5f3f_11eb_a2ae_8c85906984a4row3_col5\" class=\"data row3 col5\" >20153.6</td>\n",
       "            </tr>\n",
       "            <tr>\n",
       "                        <th id=\"T_5772c9e0_5f3f_11eb_a2ae_8c85906984a4level0_row4\" class=\"row_heading level0 row4\" >Russia</th>\n",
       "                        <td id=\"T_5772c9e0_5f3f_11eb_a2ae_8c85906984a4row4_col0\" class=\"data row4 col0\" >68747.4</td>\n",
       "                        <td id=\"T_5772c9e0_5f3f_11eb_a2ae_8c85906984a4row4_col1\" class=\"data row4 col1\" >3988.39</td>\n",
       "                        <td id=\"T_5772c9e0_5f3f_11eb_a2ae_8c85906984a4row4_col2\" class=\"data row4 col2\" >5808.55</td>\n",
       "                        <td id=\"T_5772c9e0_5f3f_11eb_a2ae_8c85906984a4row4_col3\" class=\"data row4 col3\" >3047.55</td>\n",
       "                        <td id=\"T_5772c9e0_5f3f_11eb_a2ae_8c85906984a4row4_col4\" class=\"data row4 col4\" >5362.41</td>\n",
       "                        <td id=\"T_5772c9e0_5f3f_11eb_a2ae_8c85906984a4row4_col5\" class=\"data row4 col5\" >4539.63</td>\n",
       "            </tr>\n",
       "            <tr>\n",
       "                        <th id=\"T_5772c9e0_5f3f_11eb_a2ae_8c85906984a4level0_row5\" class=\"row_heading level0 row5\" >United Kingdom</th>\n",
       "                        <td id=\"T_5772c9e0_5f3f_11eb_a2ae_8c85906984a4row5_col0\" class=\"data row5 col0\" >147838</td>\n",
       "                        <td id=\"T_5772c9e0_5f3f_11eb_a2ae_8c85906984a4row5_col1\" class=\"data row5 col1\" >36256.5</td>\n",
       "                        <td id=\"T_5772c9e0_5f3f_11eb_a2ae_8c85906984a4row5_col2\" class=\"data row5 col2\" >37583.6</td>\n",
       "                        <td id=\"T_5772c9e0_5f3f_11eb_a2ae_8c85906984a4row5_col3\" class=\"data row5 col3\" >35191.7</td>\n",
       "                        <td id=\"T_5772c9e0_5f3f_11eb_a2ae_8c85906984a4row5_col4\" class=\"data row5 col4\" >35095.9</td>\n",
       "                        <td id=\"T_5772c9e0_5f3f_11eb_a2ae_8c85906984a4row5_col5\" class=\"data row5 col5\" >32463.3</td>\n",
       "            </tr>\n",
       "            <tr>\n",
       "                        <th id=\"T_5772c9e0_5f3f_11eb_a2ae_8c85906984a4level0_row6\" class=\"row_heading level0 row6\" >France</th>\n",
       "                        <td id=\"T_5772c9e0_5f3f_11eb_a2ae_8c85906984a4row6_col0\" class=\"data row6 col0\" >19911.6</td>\n",
       "                        <td id=\"T_5772c9e0_5f3f_11eb_a2ae_8c85906984a4row6_col1\" class=\"data row6 col1\" >22703.8</td>\n",
       "                        <td id=\"T_5772c9e0_5f3f_11eb_a2ae_8c85906984a4row6_col2\" class=\"data row6 col2\" >20567.4</td>\n",
       "                        <td id=\"T_5772c9e0_5f3f_11eb_a2ae_8c85906984a4row6_col3\" class=\"data row6 col3\" >12320.9</td>\n",
       "                        <td id=\"T_5772c9e0_5f3f_11eb_a2ae_8c85906984a4row6_col4\" class=\"data row6 col4\" >16290.1</td>\n",
       "                        <td id=\"T_5772c9e0_5f3f_11eb_a2ae_8c85906984a4row6_col5\" class=\"data row6 col5\" >13112.1</td>\n",
       "            </tr>\n",
       "            <tr>\n",
       "                        <th id=\"T_5772c9e0_5f3f_11eb_a2ae_8c85906984a4level0_row7\" class=\"row_heading level0 row7\" >Spain</th>\n",
       "                        <td id=\"T_5772c9e0_5f3f_11eb_a2ae_8c85906984a4row7_col0\" class=\"data row7 col0\" >166111</td>\n",
       "                        <td id=\"T_5772c9e0_5f3f_11eb_a2ae_8c85906984a4row7_col1\" class=\"data row7 col1\" >26631.4</td>\n",
       "                        <td id=\"T_5772c9e0_5f3f_11eb_a2ae_8c85906984a4row7_col2\" class=\"data row7 col2\" >26110.9</td>\n",
       "                        <td id=\"T_5772c9e0_5f3f_11eb_a2ae_8c85906984a4row7_col3\" class=\"data row7 col3\" >26101.4</td>\n",
       "                        <td id=\"T_5772c9e0_5f3f_11eb_a2ae_8c85906984a4row7_col4\" class=\"data row7 col4\" >26271.8</td>\n",
       "                        <td id=\"T_5772c9e0_5f3f_11eb_a2ae_8c85906984a4row7_col5\" class=\"data row7 col5\" >25948.1</td>\n",
       "            </tr>\n",
       "            <tr>\n",
       "                        <th id=\"T_5772c9e0_5f3f_11eb_a2ae_8c85906984a4level0_row8\" class=\"row_heading level0 row8\" >Italy</th>\n",
       "                        <td id=\"T_5772c9e0_5f3f_11eb_a2ae_8c85906984a4row8_col0\" class=\"data row8 col0\" >14534.7</td>\n",
       "                        <td id=\"T_5772c9e0_5f3f_11eb_a2ae_8c85906984a4row8_col1\" class=\"data row8 col1\" >4978.55</td>\n",
       "                        <td id=\"T_5772c9e0_5f3f_11eb_a2ae_8c85906984a4row8_col2\" class=\"data row8 col2\" >8909.17</td>\n",
       "                        <td id=\"T_5772c9e0_5f3f_11eb_a2ae_8c85906984a4row8_col3\" class=\"data row8 col3\" >6400.56</td>\n",
       "                        <td id=\"T_5772c9e0_5f3f_11eb_a2ae_8c85906984a4row8_col4\" class=\"data row8 col4\" >4829.11</td>\n",
       "                        <td id=\"T_5772c9e0_5f3f_11eb_a2ae_8c85906984a4row8_col5\" class=\"data row8 col5\" >7280.41</td>\n",
       "            </tr>\n",
       "            <tr>\n",
       "                        <th id=\"T_5772c9e0_5f3f_11eb_a2ae_8c85906984a4level0_row9\" class=\"row_heading level0 row9\" >Turkey</th>\n",
       "                        <td id=\"T_5772c9e0_5f3f_11eb_a2ae_8c85906984a4row9_col0\" class=\"data row9 col0\" >16530.9</td>\n",
       "                        <td id=\"T_5772c9e0_5f3f_11eb_a2ae_8c85906984a4row9_col1\" class=\"data row9 col1\" >76007</td>\n",
       "                        <td id=\"T_5772c9e0_5f3f_11eb_a2ae_8c85906984a4row9_col2\" class=\"data row9 col2\" >15472.7</td>\n",
       "                        <td id=\"T_5772c9e0_5f3f_11eb_a2ae_8c85906984a4row9_col3\" class=\"data row9 col3\" >64480.1</td>\n",
       "                        <td id=\"T_5772c9e0_5f3f_11eb_a2ae_8c85906984a4row9_col4\" class=\"data row9 col4\" >83859.3</td>\n",
       "                        <td id=\"T_5772c9e0_5f3f_11eb_a2ae_8c85906984a4row9_col5\" class=\"data row9 col5\" >65263.4</td>\n",
       "            </tr>\n",
       "            <tr>\n",
       "                        <th id=\"T_5772c9e0_5f3f_11eb_a2ae_8c85906984a4level0_row10\" class=\"row_heading level0 row10\" >Germany</th>\n",
       "                        <td id=\"T_5772c9e0_5f3f_11eb_a2ae_8c85906984a4row10_col0\" class=\"data row10 col0\" >15504.7</td>\n",
       "                        <td id=\"T_5772c9e0_5f3f_11eb_a2ae_8c85906984a4row10_col1\" class=\"data row10 col1\" >9836.08</td>\n",
       "                        <td id=\"T_5772c9e0_5f3f_11eb_a2ae_8c85906984a4row10_col2\" class=\"data row10 col2\" >14052.2</td>\n",
       "                        <td id=\"T_5772c9e0_5f3f_11eb_a2ae_8c85906984a4row10_col3\" class=\"data row10 col3\" >10835.8</td>\n",
       "                        <td id=\"T_5772c9e0_5f3f_11eb_a2ae_8c85906984a4row10_col4\" class=\"data row10 col4\" >10800.6</td>\n",
       "                        <td id=\"T_5772c9e0_5f3f_11eb_a2ae_8c85906984a4row10_col5\" class=\"data row10 col5\" >12291.5</td>\n",
       "            </tr>\n",
       "            <tr>\n",
       "                        <th id=\"T_5772c9e0_5f3f_11eb_a2ae_8c85906984a4level0_row11\" class=\"row_heading level0 row11\" >Colombia</th>\n",
       "                        <td id=\"T_5772c9e0_5f3f_11eb_a2ae_8c85906984a4row11_col0\" class=\"data row11 col0\" >14828.5</td>\n",
       "                        <td id=\"T_5772c9e0_5f3f_11eb_a2ae_8c85906984a4row11_col1\" class=\"data row11 col1\" >5110.14</td>\n",
       "                        <td id=\"T_5772c9e0_5f3f_11eb_a2ae_8c85906984a4row11_col2\" class=\"data row11 col2\" >7014.62</td>\n",
       "                        <td id=\"T_5772c9e0_5f3f_11eb_a2ae_8c85906984a4row11_col3\" class=\"data row11 col3\" >6593.55</td>\n",
       "                        <td id=\"T_5772c9e0_5f3f_11eb_a2ae_8c85906984a4row11_col4\" class=\"data row11 col4\" >5373.66</td>\n",
       "                        <td id=\"T_5772c9e0_5f3f_11eb_a2ae_8c85906984a4row11_col5\" class=\"data row11 col5\" >6440.02</td>\n",
       "            </tr>\n",
       "            <tr>\n",
       "                        <th id=\"T_5772c9e0_5f3f_11eb_a2ae_8c85906984a4level0_row12\" class=\"row_heading level0 row12\" >Argentina</th>\n",
       "                        <td id=\"T_5772c9e0_5f3f_11eb_a2ae_8c85906984a4row12_col0\" class=\"data row12 col0\" >13959.2</td>\n",
       "                        <td id=\"T_5772c9e0_5f3f_11eb_a2ae_8c85906984a4row12_col1\" class=\"data row12 col1\" >2494.89</td>\n",
       "                        <td id=\"T_5772c9e0_5f3f_11eb_a2ae_8c85906984a4row12_col2\" class=\"data row12 col2\" >5523.55</td>\n",
       "                        <td id=\"T_5772c9e0_5f3f_11eb_a2ae_8c85906984a4row12_col3\" class=\"data row12 col3\" >4936.68</td>\n",
       "                        <td id=\"T_5772c9e0_5f3f_11eb_a2ae_8c85906984a4row12_col4\" class=\"data row12 col4\" >3540.37</td>\n",
       "                        <td id=\"T_5772c9e0_5f3f_11eb_a2ae_8c85906984a4row12_col5\" class=\"data row12 col5\" >5278.87</td>\n",
       "            </tr>\n",
       "            <tr>\n",
       "                        <th id=\"T_5772c9e0_5f3f_11eb_a2ae_8c85906984a4level0_row13\" class=\"row_heading level0 row13\" >Mexico</th>\n",
       "                        <td id=\"T_5772c9e0_5f3f_11eb_a2ae_8c85906984a4row13_col0\" class=\"data row13 col0\" >22882</td>\n",
       "                        <td id=\"T_5772c9e0_5f3f_11eb_a2ae_8c85906984a4row13_col1\" class=\"data row13 col1\" >6810.26</td>\n",
       "                        <td id=\"T_5772c9e0_5f3f_11eb_a2ae_8c85906984a4row13_col2\" class=\"data row13 col2\" >6970.28</td>\n",
       "                        <td id=\"T_5772c9e0_5f3f_11eb_a2ae_8c85906984a4row13_col3\" class=\"data row13 col3\" >6115.9</td>\n",
       "                        <td id=\"T_5772c9e0_5f3f_11eb_a2ae_8c85906984a4row13_col4\" class=\"data row13 col4\" >7532.89</td>\n",
       "                        <td id=\"T_5772c9e0_5f3f_11eb_a2ae_8c85906984a4row13_col5\" class=\"data row13 col5\" >5868.26</td>\n",
       "            </tr>\n",
       "            <tr>\n",
       "                        <th id=\"T_5772c9e0_5f3f_11eb_a2ae_8c85906984a4level0_row14\" class=\"row_heading level0 row14\" >Poland</th>\n",
       "                        <td id=\"T_5772c9e0_5f3f_11eb_a2ae_8c85906984a4row14_col0\" class=\"data row14 col0\" >6246.55</td>\n",
       "                        <td id=\"T_5772c9e0_5f3f_11eb_a2ae_8c85906984a4row14_col1\" class=\"data row14 col1\" >4137.8</td>\n",
       "                        <td id=\"T_5772c9e0_5f3f_11eb_a2ae_8c85906984a4row14_col2\" class=\"data row14 col2\" >5968.04</td>\n",
       "                        <td id=\"T_5772c9e0_5f3f_11eb_a2ae_8c85906984a4row14_col3\" class=\"data row14 col3\" >4629.33</td>\n",
       "                        <td id=\"T_5772c9e0_5f3f_11eb_a2ae_8c85906984a4row14_col4\" class=\"data row14 col4\" >4870.12</td>\n",
       "                        <td id=\"T_5772c9e0_5f3f_11eb_a2ae_8c85906984a4row14_col5\" class=\"data row14 col5\" >6000.99</td>\n",
       "            </tr>\n",
       "            <tr>\n",
       "                        <th id=\"T_5772c9e0_5f3f_11eb_a2ae_8c85906984a4level0_row15\" class=\"row_heading level0 row15\" >South Africa</th>\n",
       "                        <td id=\"T_5772c9e0_5f3f_11eb_a2ae_8c85906984a4row15_col0\" class=\"data row15 col0\" >11442.6</td>\n",
       "                        <td id=\"T_5772c9e0_5f3f_11eb_a2ae_8c85906984a4row15_col1\" class=\"data row15 col1\" >11454.4</td>\n",
       "                        <td id=\"T_5772c9e0_5f3f_11eb_a2ae_8c85906984a4row15_col2\" class=\"data row15 col2\" >11771.9</td>\n",
       "                        <td id=\"T_5772c9e0_5f3f_11eb_a2ae_8c85906984a4row15_col3\" class=\"data row15 col3\" >9076.21</td>\n",
       "                        <td id=\"T_5772c9e0_5f3f_11eb_a2ae_8c85906984a4row15_col4\" class=\"data row15 col4\" >10120.8</td>\n",
       "                        <td id=\"T_5772c9e0_5f3f_11eb_a2ae_8c85906984a4row15_col5\" class=\"data row15 col5\" >10479.3</td>\n",
       "            </tr>\n",
       "            <tr>\n",
       "                        <th id=\"T_5772c9e0_5f3f_11eb_a2ae_8c85906984a4level0_row16\" class=\"row_heading level0 row16\" >Iran</th>\n",
       "                        <td id=\"T_5772c9e0_5f3f_11eb_a2ae_8c85906984a4row16_col0\" class=\"data row16 col0\" >785.854</td>\n",
       "                        <td id=\"T_5772c9e0_5f3f_11eb_a2ae_8c85906984a4row16_col1\" class=\"data row16 col1\" >3184.74</td>\n",
       "                        <td id=\"T_5772c9e0_5f3f_11eb_a2ae_8c85906984a4row16_col2\" class=\"data row16 col2\" >4289.09</td>\n",
       "                        <td id=\"T_5772c9e0_5f3f_11eb_a2ae_8c85906984a4row16_col3\" class=\"data row16 col3\" >4341.6</td>\n",
       "                        <td id=\"T_5772c9e0_5f3f_11eb_a2ae_8c85906984a4row16_col4\" class=\"data row16 col4\" >2659.99</td>\n",
       "                        <td id=\"T_5772c9e0_5f3f_11eb_a2ae_8c85906984a4row16_col5\" class=\"data row16 col5\" >5151.65</td>\n",
       "            </tr>\n",
       "            <tr>\n",
       "                        <th id=\"T_5772c9e0_5f3f_11eb_a2ae_8c85906984a4level0_row17\" class=\"row_heading level0 row17\" >Ukraine</th>\n",
       "                        <td id=\"T_5772c9e0_5f3f_11eb_a2ae_8c85906984a4row17_col0\" class=\"data row17 col0\" >29121</td>\n",
       "                        <td id=\"T_5772c9e0_5f3f_11eb_a2ae_8c85906984a4row17_col1\" class=\"data row17 col1\" >3745.16</td>\n",
       "                        <td id=\"T_5772c9e0_5f3f_11eb_a2ae_8c85906984a4row17_col2\" class=\"data row17 col2\" >5885.4</td>\n",
       "                        <td id=\"T_5772c9e0_5f3f_11eb_a2ae_8c85906984a4row17_col3\" class=\"data row17 col3\" >4359.97</td>\n",
       "                        <td id=\"T_5772c9e0_5f3f_11eb_a2ae_8c85906984a4row17_col4\" class=\"data row17 col4\" >3639.33</td>\n",
       "                        <td id=\"T_5772c9e0_5f3f_11eb_a2ae_8c85906984a4row17_col5\" class=\"data row17 col5\" >6022.05</td>\n",
       "            </tr>\n",
       "            <tr>\n",
       "                        <th id=\"T_5772c9e0_5f3f_11eb_a2ae_8c85906984a4level0_row18\" class=\"row_heading level0 row18\" >Peru</th>\n",
       "                        <td id=\"T_5772c9e0_5f3f_11eb_a2ae_8c85906984a4row18_col0\" class=\"data row18 col0\" >7421.81</td>\n",
       "                        <td id=\"T_5772c9e0_5f3f_11eb_a2ae_8c85906984a4row18_col1\" class=\"data row18 col1\" >5151.08</td>\n",
       "                        <td id=\"T_5772c9e0_5f3f_11eb_a2ae_8c85906984a4row18_col2\" class=\"data row18 col2\" >4769.51</td>\n",
       "                        <td id=\"T_5772c9e0_5f3f_11eb_a2ae_8c85906984a4row18_col3\" class=\"data row18 col3\" >4284.92</td>\n",
       "                        <td id=\"T_5772c9e0_5f3f_11eb_a2ae_8c85906984a4row18_col4\" class=\"data row18 col4\" >4351.85</td>\n",
       "                        <td id=\"T_5772c9e0_5f3f_11eb_a2ae_8c85906984a4row18_col5\" class=\"data row18 col5\" >4362.87</td>\n",
       "            </tr>\n",
       "            <tr>\n",
       "                        <th id=\"T_5772c9e0_5f3f_11eb_a2ae_8c85906984a4level0_row19\" class=\"row_heading level0 row19\" >Indonesia</th>\n",
       "                        <td id=\"T_5772c9e0_5f3f_11eb_a2ae_8c85906984a4row19_col0\" class=\"data row19 col0\" >24018.4</td>\n",
       "                        <td id=\"T_5772c9e0_5f3f_11eb_a2ae_8c85906984a4row19_col1\" class=\"data row19 col1\" >4405.34</td>\n",
       "                        <td id=\"T_5772c9e0_5f3f_11eb_a2ae_8c85906984a4row19_col2\" class=\"data row19 col2\" >4754.57</td>\n",
       "                        <td id=\"T_5772c9e0_5f3f_11eb_a2ae_8c85906984a4row19_col3\" class=\"data row19 col3\" >4715.69</td>\n",
       "                        <td id=\"T_5772c9e0_5f3f_11eb_a2ae_8c85906984a4row19_col4\" class=\"data row19 col4\" >5015.52</td>\n",
       "                        <td id=\"T_5772c9e0_5f3f_11eb_a2ae_8c85906984a4row19_col5\" class=\"data row19 col5\" >4196.49</td>\n",
       "            </tr>\n",
       "            <tr>\n",
       "                        <th id=\"T_5772c9e0_5f3f_11eb_a2ae_8c85906984a4level0_row20\" class=\"row_heading level0 row20\" >Netherlands</th>\n",
       "                        <td id=\"T_5772c9e0_5f3f_11eb_a2ae_8c85906984a4row20_col0\" class=\"data row20 col0\" >23053.1</td>\n",
       "                        <td id=\"T_5772c9e0_5f3f_11eb_a2ae_8c85906984a4row20_col1\" class=\"data row20 col1\" >3062.32</td>\n",
       "                        <td id=\"T_5772c9e0_5f3f_11eb_a2ae_8c85906984a4row20_col2\" class=\"data row20 col2\" >4380.88</td>\n",
       "                        <td id=\"T_5772c9e0_5f3f_11eb_a2ae_8c85906984a4row20_col3\" class=\"data row20 col3\" >3762.14</td>\n",
       "                        <td id=\"T_5772c9e0_5f3f_11eb_a2ae_8c85906984a4row20_col4\" class=\"data row20 col4\" >2587.11</td>\n",
       "                        <td id=\"T_5772c9e0_5f3f_11eb_a2ae_8c85906984a4row20_col5\" class=\"data row20 col5\" >3807.53</td>\n",
       "            </tr>\n",
       "            <tr>\n",
       "                        <th id=\"T_5772c9e0_5f3f_11eb_a2ae_8c85906984a4level0_row21\" class=\"row_heading level0 row21\" >Czechia</th>\n",
       "                        <td id=\"T_5772c9e0_5f3f_11eb_a2ae_8c85906984a4row21_col0\" class=\"data row21 col0\" >19995.2</td>\n",
       "                        <td id=\"T_5772c9e0_5f3f_11eb_a2ae_8c85906984a4row21_col1\" class=\"data row21 col1\" >7347.81</td>\n",
       "                        <td id=\"T_5772c9e0_5f3f_11eb_a2ae_8c85906984a4row21_col2\" class=\"data row21 col2\" >6763.22</td>\n",
       "                        <td id=\"T_5772c9e0_5f3f_11eb_a2ae_8c85906984a4row21_col3\" class=\"data row21 col3\" >7470.38</td>\n",
       "                        <td id=\"T_5772c9e0_5f3f_11eb_a2ae_8c85906984a4row21_col4\" class=\"data row21 col4\" >6173.19</td>\n",
       "                        <td id=\"T_5772c9e0_5f3f_11eb_a2ae_8c85906984a4row21_col5\" class=\"data row21 col5\" >6792.84</td>\n",
       "            </tr>\n",
       "            <tr>\n",
       "                        <th id=\"T_5772c9e0_5f3f_11eb_a2ae_8c85906984a4level0_row22\" class=\"row_heading level0 row22\" >Canada</th>\n",
       "                        <td id=\"T_5772c9e0_5f3f_11eb_a2ae_8c85906984a4row22_col0\" class=\"data row22 col0\" >25863.2</td>\n",
       "                        <td id=\"T_5772c9e0_5f3f_11eb_a2ae_8c85906984a4row22_col1\" class=\"data row22 col1\" >3411.82</td>\n",
       "                        <td id=\"T_5772c9e0_5f3f_11eb_a2ae_8c85906984a4row22_col2\" class=\"data row22 col2\" >3421.03</td>\n",
       "                        <td id=\"T_5772c9e0_5f3f_11eb_a2ae_8c85906984a4row22_col3\" class=\"data row22 col3\" >3179.57</td>\n",
       "                        <td id=\"T_5772c9e0_5f3f_11eb_a2ae_8c85906984a4row22_col4\" class=\"data row22 col4\" >3494.57</td>\n",
       "                        <td id=\"T_5772c9e0_5f3f_11eb_a2ae_8c85906984a4row22_col5\" class=\"data row22 col5\" >2692.27</td>\n",
       "            </tr>\n",
       "            <tr>\n",
       "                        <th id=\"T_5772c9e0_5f3f_11eb_a2ae_8c85906984a4level0_row23\" class=\"row_heading level0 row23\" >Romania</th>\n",
       "                        <td id=\"T_5772c9e0_5f3f_11eb_a2ae_8c85906984a4row23_col0\" class=\"data row23 col0\" >2492.34</td>\n",
       "                        <td id=\"T_5772c9e0_5f3f_11eb_a2ae_8c85906984a4row23_col1\" class=\"data row23 col1\" >1904.81</td>\n",
       "                        <td id=\"T_5772c9e0_5f3f_11eb_a2ae_8c85906984a4row23_col2\" class=\"data row23 col2\" >3350.19</td>\n",
       "                        <td id=\"T_5772c9e0_5f3f_11eb_a2ae_8c85906984a4row23_col3\" class=\"data row23 col3\" >2073.88</td>\n",
       "                        <td id=\"T_5772c9e0_5f3f_11eb_a2ae_8c85906984a4row23_col4\" class=\"data row23 col4\" >2381.34</td>\n",
       "                        <td id=\"T_5772c9e0_5f3f_11eb_a2ae_8c85906984a4row23_col5\" class=\"data row23 col5\" >3022.91</td>\n",
       "            </tr>\n",
       "            <tr>\n",
       "                        <th id=\"T_5772c9e0_5f3f_11eb_a2ae_8c85906984a4level0_row24\" class=\"row_heading level0 row24\" >Chile</th>\n",
       "                        <td id=\"T_5772c9e0_5f3f_11eb_a2ae_8c85906984a4row24_col0\" class=\"data row24 col0\" >6232.44</td>\n",
       "                        <td id=\"T_5772c9e0_5f3f_11eb_a2ae_8c85906984a4row24_col1\" class=\"data row24 col1\" >2236.85</td>\n",
       "                        <td id=\"T_5772c9e0_5f3f_11eb_a2ae_8c85906984a4row24_col2\" class=\"data row24 col2\" >2246.46</td>\n",
       "                        <td id=\"T_5772c9e0_5f3f_11eb_a2ae_8c85906984a4row24_col3\" class=\"data row24 col3\" >1572.89</td>\n",
       "                        <td id=\"T_5772c9e0_5f3f_11eb_a2ae_8c85906984a4row24_col4\" class=\"data row24 col4\" >3103.68</td>\n",
       "                        <td id=\"T_5772c9e0_5f3f_11eb_a2ae_8c85906984a4row24_col5\" class=\"data row24 col5\" >1936.94</td>\n",
       "            </tr>\n",
       "    </tbody></table>"
      ],
      "text/plain": [
       "<pandas.io.formats.style.Styler at 0x7f8009699bd0>"
      ]
     },
     "execution_count": 3244,
     "metadata": {},
     "output_type": "execute_result"
    }
   ],
   "source": [
    "result.style.apply(highlight_min,axis=1)"
   ]
  },
  {
   "cell_type": "code",
   "execution_count": null,
   "metadata": {},
   "outputs": [],
   "source": []
  }
 ],
 "metadata": {
  "kernelspec": {
   "display_name": "Python 3",
   "language": "python",
   "name": "python3"
  },
  "language_info": {
   "codemirror_mode": {
    "name": "ipython",
    "version": 3
   },
   "file_extension": ".py",
   "mimetype": "text/x-python",
   "name": "python",
   "nbconvert_exporter": "python",
   "pygments_lexer": "ipython3",
   "version": "3.7.4"
  }
 },
 "nbformat": 4,
 "nbformat_minor": 4
}
